{
 "cells": [
  {
   "cell_type": "code",
   "execution_count": null,
   "id": "established-mother",
   "metadata": {},
   "outputs": [],
   "source": [
    "from siphon.catalog import TDSCatalog\n",
    "import intake_esm\n",
    "import xarray as xr\n",
    "from pathlib import Path\n",
    "from IPython.display import HTML, Markdown\n",
    "import panel as pn\n",
    "import hvplot\n",
    "import hvplot.pandas\n",
    "import hvplot.xarray\n",
    "from bokeh.models.tools import HoverTool\n",
    "import pandas as pd\n",
    "pn.extension()\n",
    "import warnings\n",
    "warnings.simplefilter('ignore')"
   ]
  },
  {
   "cell_type": "code",
   "execution_count": null,
   "id": "tutorial-yorkshire",
   "metadata": {},
   "outputs": [],
   "source": [
    "intake_path = Path('intake_cats')\n",
    "cats  = [l for l in list(intake_path.glob('*.json')) if l.name != 'cmip5.json']\n",
    "cat = intake_esm.intake.open_esm_datastore(cats[-1])\n",
    "cats"
   ]
  },
  {
   "cell_type": "code",
   "execution_count": null,
   "id": "emotional-yeast",
   "metadata": {},
   "outputs": [],
   "source": [
    "## Climate simulations - bias adjusted\n",
    "# bias adjusted\n",
    "c = cats[3]\n",
    "cat = intake_esm.intake.open_esm_datastore(c)\n",
    "options = list(cat.df['title'].unique())\n",
    "options1 = [o for o in options if 'Ouranos' in o]\n",
    "options1.extend( [o for o in options if 'Ouranos' not in o])\n",
    "title_w = pn.widgets.Select(options=options1, width = 600)\n",
    "title_w"
   ]
  },
  {
   "cell_type": "code",
   "execution_count": null,
   "id": "imposed-artist",
   "metadata": {},
   "outputs": [],
   "source": [
    "@pn.depends(title_w.param.value)\n",
    "def create_data_summary(dataset = title_w.param.value):\n",
    "    df = None\n",
    "    for c in cats:   \n",
    "        cat = intake_esm.intake.open_esm_datastore(c)\n",
    "        if len(cat.search(title=dataset).df) > 0:\n",
    "            df = cat.search(title=dataset).df\n",
    "            break\n",
    "    ds = xr.open_dataset(df['path'][0], chunks=dict(time=1)).sortby(['lat','lon'])\n",
    "    lic = ds.attrs['license']\n",
    "    \n",
    "    # bias corr specific info\n",
    "    if 'driving_experiment' in df.columns:\n",
    "        \n",
    "        exp1 = [d.split(',') for d in df['driving_experiment'].unique()]\n",
    "        exp1 = sorted(list({x for l in exp1 for x in l}))\n",
    "    else:\n",
    "        exp1 = None \n",
    "    if 'project_id' in df.columns and 'processing' in df.columns:\n",
    "        prj1 = f\"{df['project_id'].unique()[0]} ({df['processing'].unique()[0]})\"\n",
    "    else:\n",
    "        prj1 = None\n",
    "        \n",
    "\n",
    "    w = 175\n",
    "\n",
    "    ## summary info\n",
    "    \n",
    "    thrds_access = f\"https://{'/'.join([p for p in df['path'][0].split('//')[-1].split('/')[0:-1]])}/catalog.html\".replace('dodsC','catalog')\n",
    "    thrds_xml = thrds_access.replace('.html','.xml')\n",
    "    \n",
    "    summary = pn.Column(pn.Row(pn.pane.HTML(\"dataset :\", width=w), pn.pane.HTML(f'<a href=\"{thrds_access}\" target=\"_blank\">{dataset}<a />',width=600)))\n",
    "    summary.append(pn.Row(pn.pane.HTML(\"thredds catalog :\", width=w), pn.pane.HTML(f'<a href=\"{thrds_xml}\" target=\"_blank\">{thrds_xml}<a />',width=600)))\n",
    "    summary.append(pn.Row(pn.pane.HTML(\"access tutorial :\", width=w), pn.pane.HTML(f'<a href=\"/climate_analysis.html\" target=\"_blank\">PAVICS data tutorial<a />',width=600)))\n",
    "    inst_field = 'institution' if 'insitution' in df.columns else 'institute'\n",
    "    summary.append(pn.Row(pn.pane.HTML(f\"{inst_field} :\",width=w), pn.pane.HTML(df[inst_field].unique()[0], width=700)))\n",
    "    if prj1:\n",
    "        summary.append(pn.Row(pn.pane.HTML(\"project (processing level) :\", width=w), pn.pane.HTML(prj1)))\n",
    "    summary.append(pn.Row(pn.pane.HTML(\"frequency :\", width=w), pn.pane.HTML(df['frequency'].unique()[0])))\n",
    "    summary.append(pn.Row(pn.pane.HTML(\"variables :\", width=w), pn.pane.HTML(', '.join([v for v in ds.data_vars]))))\n",
    "    if exp1 :\n",
    "        summary.append(pn.Row(pn.pane.HTML(\"driving experiment(s) :\", width=w), pn.pane.HTML(', '.join(exp1))))\n",
    "\n",
    "    out = pn.Tabs(('Summary',summary))\n",
    "\n",
    "    ## details\n",
    "    print(ds.attrs)\n",
    "    details = pn.Column(pn.Row(pn.pane.HTML('abstract : ',width=w), pn.pane.HTML(ds.attrs['abstract'],width=600)))\n",
    "    for check in ['bias_adjust', 'target_data', 'target_ref']:\n",
    "        for attr in [attr for attr in ds.attrs if check in attr]:\n",
    "            details.append(pn.Row(pn.pane.HTML(f\"{attr.replace('_',' ')}: \", width=w), pn.pane.HTML(ds.attrs[attr],width=600 )))\n",
    "    details.append(pn.Row(pn.pane.HTML('more info : ', width=w), pn.pane.HTML(ds.attrs['dataset_description'], width=600)))\n",
    "    out.append(('Details', details))\n",
    "\n",
    "    ## legal\n",
    "    legal = pn.Column(pn.Row(pn.pane.HTML(\"license type :\", width=w), pn.pane.HTML(ds.attrs['license_type'], width=600)))\n",
    "    legal.append(pn.Row(pn.pane.HTML(\"license :\", width=w), pn.pane.HTML(ds.attrs['license'],width=600)))\n",
    "    \n",
    "    for check in ['attribution', 'citation', 'terms']:\n",
    "        for attr in [attr for attr in ds.attrs if check in attr]:\n",
    "            legal.append(pn.Row(pn.pane.HTML(f\"{attr.replace('_',' ')}: \", width=w), pn.pane.HTML(ds.attrs[attr],width=600 )))\n",
    "            \n",
    "    out.append(('License / Terms of use', legal))\n",
    "\n",
    "    ## map\n",
    "    v = list(ds.data_vars.keys())\n",
    "    map1 = ds[v[0]].isel(time=0).hvplot.image(cmap='RdBu_r',datashade=True, hover=False, frame_height=300,frame_width=700)\n",
    "\n",
    "    out1 = pn.Column(map1,out)\n",
    "    return out1"
   ]
  },
  {
   "cell_type": "code",
   "execution_count": null,
   "id": "numerical-journalist",
   "metadata": {},
   "outputs": [],
   "source": [
    "MAX_WIDTH=850\n",
    "\n",
    "pn.config.sizing_mode=\"stretch_width\"\n",
    "\n",
    "spacer = pn.Spacer(height=0, margin=0)\n",
    "main_content =  pn.Column(title_w,create_data_summary,sizing_mode=\"stretch_width\", \n",
    "    max_width=MAX_WIDTH, align=\"center\" )\n",
    "\n",
    "main_area = pn.Column(\n",
    "    spacer, # TRICK: WONT WORK WITHOUT. YOU CAN SET HEIGHT TO 0 TO NOT TAKE UP HEIGHT\n",
    "    main_content,\n",
    "    sizing_mode=\"stretch_both\",\n",
    "    \n",
    ")\n",
    "\n",
    "#main_area.servable()\n",
    "#from bokeh.resources import INLINE\n",
    "#main_area.save('Datasets_1-Climate_Simulations.html', embed=True)"
   ]
  },
  {
   "cell_type": "code",
   "execution_count": null,
   "id": "finished-madison",
   "metadata": {},
   "outputs": [],
   "source": [
    "pn.extension(loading_spinner='bars', loading_color='#00aa41')\n",
    "#main_area.servable()"
   ]
  },
  {
   "cell_type": "code",
   "execution_count": 47,
   "id": "alleged-location",
   "metadata": {},
   "outputs": [
    {
     "name": "stdout",
     "output_type": "stream",
     "text": [
      "{'Conventions': 'CF-1.5', 'title': 'NRCAN ANUSPLIN daily gridded dataset : version 2', 'history': 'Fri Jan 25 14:11:15 2019 : Convert from original format to NetCDF', 'institute_id': 'NRCAN', 'frequency': 'day', 'type': 'gridded_obs', 'institute': 'Natural Resources Canada : Canadian Forest Service', 'dataset_id': 'NRCAN_anusplin_daily_v2', 'version': '2.0', 'license_type': 'permissive', 'license': 'https://open.canada.ca/en/open-government-licence-canada', 'attribution': 'The authors provide this data under the Environment and Climate Change Canada Data Server End Use License and demand that any references to or derivative works based on this dataset be cited using the provided citation information', 'citation': 'Natural Resources Canada ANUSPLIN interpolated historical climate model from McKenney, D.W., M.F. Hutchinson, P. Papadol, K. Lawrence, J. Pedlar, K. Campbell, E. Milewska, R.F. Hopkinson, D. Price, and T. Owen, 2011. Customized Spatial Climate Models for North America. Bull. Amer. Meteor. Soc., 92, 1611-1622, https://doi.org/10.1175/2011BAMS3132.1'}\n"
     ]
    },
    {
     "ename": "KeyError",
     "evalue": "'abstract'",
     "output_type": "error",
     "traceback": [
      "\u001b[0;31m---------------------------------------------------------------------------\u001b[0m",
      "\u001b[0;31mKeyError\u001b[0m                                  Traceback (most recent call last)",
      "\u001b[0;32m<ipython-input-47-fa8920eb2500>\u001b[0m in \u001b[0;36m<module>\u001b[0;34m\u001b[0m\n\u001b[1;32m     12\u001b[0m \u001b[0;34m\u001b[0m\u001b[0m\n\u001b[1;32m     13\u001b[0m \u001b[0mspacer\u001b[0m \u001b[0;34m=\u001b[0m \u001b[0mpn\u001b[0m\u001b[0;34m.\u001b[0m\u001b[0mSpacer\u001b[0m\u001b[0;34m(\u001b[0m\u001b[0mheight\u001b[0m\u001b[0;34m=\u001b[0m\u001b[0;36m0\u001b[0m\u001b[0;34m,\u001b[0m \u001b[0mmargin\u001b[0m\u001b[0;34m=\u001b[0m\u001b[0;36m0\u001b[0m\u001b[0;34m)\u001b[0m\u001b[0;34m\u001b[0m\u001b[0;34m\u001b[0m\u001b[0m\n\u001b[0;32m---> 14\u001b[0;31m observed =  pn.Column(title_w,create_data_summary,sizing_mode=\"stretch_width\", \n\u001b[0m\u001b[1;32m     15\u001b[0m     max_width=MAX_WIDTH, align=\"center\" )\n\u001b[1;32m     16\u001b[0m \u001b[0;34m\u001b[0m\u001b[0m\n",
      "\u001b[0;32m~/anaconda3/envs/xclim/lib/python3.8/site-packages/panel/layout/base.py\u001b[0m in \u001b[0;36m__init__\u001b[0;34m(self, *objects, **params)\u001b[0m\n\u001b[1;32m    358\u001b[0m                                  \u001b[0;34m\"as positional arguments or as a keyword, \"\u001b[0m\u001b[0;34m\u001b[0m\u001b[0;34m\u001b[0m\u001b[0m\n\u001b[1;32m    359\u001b[0m                                  \"not both.\" % type(self).__name__)\n\u001b[0;32m--> 360\u001b[0;31m             \u001b[0mparams\u001b[0m\u001b[0;34m[\u001b[0m\u001b[0;34m'objects'\u001b[0m\u001b[0;34m]\u001b[0m \u001b[0;34m=\u001b[0m \u001b[0;34m[\u001b[0m\u001b[0mpanel\u001b[0m\u001b[0;34m(\u001b[0m\u001b[0mpane\u001b[0m\u001b[0;34m)\u001b[0m \u001b[0;32mfor\u001b[0m \u001b[0mpane\u001b[0m \u001b[0;32min\u001b[0m \u001b[0mobjects\u001b[0m\u001b[0;34m]\u001b[0m\u001b[0;34m\u001b[0m\u001b[0;34m\u001b[0m\u001b[0m\n\u001b[0m\u001b[1;32m    361\u001b[0m         \u001b[0;32melif\u001b[0m \u001b[0;34m'objects'\u001b[0m \u001b[0;32min\u001b[0m \u001b[0mparams\u001b[0m\u001b[0;34m:\u001b[0m\u001b[0;34m\u001b[0m\u001b[0;34m\u001b[0m\u001b[0m\n\u001b[1;32m    362\u001b[0m             \u001b[0mparams\u001b[0m\u001b[0;34m[\u001b[0m\u001b[0;34m'objects'\u001b[0m\u001b[0;34m]\u001b[0m \u001b[0;34m=\u001b[0m \u001b[0;34m[\u001b[0m\u001b[0mpanel\u001b[0m\u001b[0;34m(\u001b[0m\u001b[0mpane\u001b[0m\u001b[0;34m)\u001b[0m \u001b[0;32mfor\u001b[0m \u001b[0mpane\u001b[0m \u001b[0;32min\u001b[0m \u001b[0mparams\u001b[0m\u001b[0;34m[\u001b[0m\u001b[0;34m'objects'\u001b[0m\u001b[0;34m]\u001b[0m\u001b[0;34m]\u001b[0m\u001b[0;34m\u001b[0m\u001b[0;34m\u001b[0m\u001b[0m\n",
      "\u001b[0;32m~/anaconda3/envs/xclim/lib/python3.8/site-packages/panel/layout/base.py\u001b[0m in \u001b[0;36m<listcomp>\u001b[0;34m(.0)\u001b[0m\n\u001b[1;32m    358\u001b[0m                                  \u001b[0;34m\"as positional arguments or as a keyword, \"\u001b[0m\u001b[0;34m\u001b[0m\u001b[0;34m\u001b[0m\u001b[0m\n\u001b[1;32m    359\u001b[0m                                  \"not both.\" % type(self).__name__)\n\u001b[0;32m--> 360\u001b[0;31m             \u001b[0mparams\u001b[0m\u001b[0;34m[\u001b[0m\u001b[0;34m'objects'\u001b[0m\u001b[0;34m]\u001b[0m \u001b[0;34m=\u001b[0m \u001b[0;34m[\u001b[0m\u001b[0mpanel\u001b[0m\u001b[0;34m(\u001b[0m\u001b[0mpane\u001b[0m\u001b[0;34m)\u001b[0m \u001b[0;32mfor\u001b[0m \u001b[0mpane\u001b[0m \u001b[0;32min\u001b[0m \u001b[0mobjects\u001b[0m\u001b[0;34m]\u001b[0m\u001b[0;34m\u001b[0m\u001b[0;34m\u001b[0m\u001b[0m\n\u001b[0m\u001b[1;32m    361\u001b[0m         \u001b[0;32melif\u001b[0m \u001b[0;34m'objects'\u001b[0m \u001b[0;32min\u001b[0m \u001b[0mparams\u001b[0m\u001b[0;34m:\u001b[0m\u001b[0;34m\u001b[0m\u001b[0;34m\u001b[0m\u001b[0m\n\u001b[1;32m    362\u001b[0m             \u001b[0mparams\u001b[0m\u001b[0;34m[\u001b[0m\u001b[0;34m'objects'\u001b[0m\u001b[0;34m]\u001b[0m \u001b[0;34m=\u001b[0m \u001b[0;34m[\u001b[0m\u001b[0mpanel\u001b[0m\u001b[0;34m(\u001b[0m\u001b[0mpane\u001b[0m\u001b[0;34m)\u001b[0m \u001b[0;32mfor\u001b[0m \u001b[0mpane\u001b[0m \u001b[0;32min\u001b[0m \u001b[0mparams\u001b[0m\u001b[0;34m[\u001b[0m\u001b[0;34m'objects'\u001b[0m\u001b[0;34m]\u001b[0m\u001b[0;34m]\u001b[0m\u001b[0;34m\u001b[0m\u001b[0;34m\u001b[0m\u001b[0m\n",
      "\u001b[0;32m~/anaconda3/envs/xclim/lib/python3.8/site-packages/panel/pane/base.py\u001b[0m in \u001b[0;36mpanel\u001b[0;34m(obj, **kwargs)\u001b[0m\n\u001b[1;32m     49\u001b[0m     \u001b[0;32mif\u001b[0m \u001b[0mkwargs\u001b[0m\u001b[0;34m.\u001b[0m\u001b[0mget\u001b[0m\u001b[0;34m(\u001b[0m\u001b[0;34m'name'\u001b[0m\u001b[0;34m,\u001b[0m \u001b[0;32mFalse\u001b[0m\u001b[0;34m)\u001b[0m \u001b[0;32mis\u001b[0m \u001b[0;32mNone\u001b[0m\u001b[0;34m:\u001b[0m\u001b[0;34m\u001b[0m\u001b[0;34m\u001b[0m\u001b[0m\n\u001b[1;32m     50\u001b[0m         \u001b[0mkwargs\u001b[0m\u001b[0;34m.\u001b[0m\u001b[0mpop\u001b[0m\u001b[0;34m(\u001b[0m\u001b[0;34m'name'\u001b[0m\u001b[0;34m)\u001b[0m\u001b[0;34m\u001b[0m\u001b[0;34m\u001b[0m\u001b[0m\n\u001b[0;32m---> 51\u001b[0;31m     \u001b[0mpane\u001b[0m \u001b[0;34m=\u001b[0m \u001b[0mPaneBase\u001b[0m\u001b[0;34m.\u001b[0m\u001b[0mget_pane_type\u001b[0m\u001b[0;34m(\u001b[0m\u001b[0mobj\u001b[0m\u001b[0;34m,\u001b[0m \u001b[0;34m**\u001b[0m\u001b[0mkwargs\u001b[0m\u001b[0;34m)\u001b[0m\u001b[0;34m(\u001b[0m\u001b[0mobj\u001b[0m\u001b[0;34m,\u001b[0m \u001b[0;34m**\u001b[0m\u001b[0mkwargs\u001b[0m\u001b[0;34m)\u001b[0m\u001b[0;34m\u001b[0m\u001b[0;34m\u001b[0m\u001b[0m\n\u001b[0m\u001b[1;32m     52\u001b[0m     \u001b[0;32mif\u001b[0m \u001b[0mlen\u001b[0m\u001b[0;34m(\u001b[0m\u001b[0mpane\u001b[0m\u001b[0;34m.\u001b[0m\u001b[0mlayout\u001b[0m\u001b[0;34m)\u001b[0m \u001b[0;34m==\u001b[0m \u001b[0;36m1\u001b[0m \u001b[0;32mand\u001b[0m \u001b[0mpane\u001b[0m\u001b[0;34m.\u001b[0m\u001b[0m_unpack\u001b[0m\u001b[0;34m:\u001b[0m\u001b[0;34m\u001b[0m\u001b[0;34m\u001b[0m\u001b[0m\n\u001b[1;32m     53\u001b[0m         \u001b[0;32mreturn\u001b[0m \u001b[0mpane\u001b[0m\u001b[0;34m.\u001b[0m\u001b[0mlayout\u001b[0m\u001b[0;34m[\u001b[0m\u001b[0;36m0\u001b[0m\u001b[0;34m]\u001b[0m\u001b[0;34m\u001b[0m\u001b[0;34m\u001b[0m\u001b[0m\n",
      "\u001b[0;32m~/anaconda3/envs/xclim/lib/python3.8/site-packages/panel/param.py\u001b[0m in \u001b[0;36m__init__\u001b[0;34m(self, object, **params)\u001b[0m\n\u001b[1;32m    628\u001b[0m         \u001b[0;32mif\u001b[0m \u001b[0mobject\u001b[0m \u001b[0;32mis\u001b[0m \u001b[0;32mnot\u001b[0m \u001b[0;32mNone\u001b[0m\u001b[0;34m:\u001b[0m\u001b[0;34m\u001b[0m\u001b[0;34m\u001b[0m\u001b[0m\n\u001b[1;32m    629\u001b[0m             \u001b[0mself\u001b[0m\u001b[0;34m.\u001b[0m\u001b[0m_validate_object\u001b[0m\u001b[0;34m(\u001b[0m\u001b[0;34m)\u001b[0m\u001b[0;34m\u001b[0m\u001b[0;34m\u001b[0m\u001b[0m\n\u001b[0;32m--> 630\u001b[0;31m             \u001b[0mself\u001b[0m\u001b[0;34m.\u001b[0m\u001b[0m_update_inner\u001b[0m\u001b[0;34m(\u001b[0m\u001b[0mself\u001b[0m\u001b[0;34m.\u001b[0m\u001b[0meval\u001b[0m\u001b[0;34m(\u001b[0m\u001b[0mobject\u001b[0m\u001b[0;34m)\u001b[0m\u001b[0;34m)\u001b[0m\u001b[0;34m\u001b[0m\u001b[0;34m\u001b[0m\u001b[0m\n\u001b[0m\u001b[1;32m    631\u001b[0m \u001b[0;34m\u001b[0m\u001b[0m\n\u001b[1;32m    632\u001b[0m     \u001b[0;34m@\u001b[0m\u001b[0mparam\u001b[0m\u001b[0;34m.\u001b[0m\u001b[0mdepends\u001b[0m\u001b[0;34m(\u001b[0m\u001b[0;34m'object'\u001b[0m\u001b[0;34m,\u001b[0m \u001b[0mwatch\u001b[0m\u001b[0;34m=\u001b[0m\u001b[0;32mTrue\u001b[0m\u001b[0;34m)\u001b[0m\u001b[0;34m\u001b[0m\u001b[0;34m\u001b[0m\u001b[0m\n",
      "\u001b[0;32m~/anaconda3/envs/xclim/lib/python3.8/site-packages/panel/param.py\u001b[0m in \u001b[0;36meval\u001b[0;34m(self, function)\u001b[0m\n\u001b[1;32m    661\u001b[0m                 \u001b[0margs\u001b[0m \u001b[0;34m=\u001b[0m \u001b[0;34m(\u001b[0m\u001b[0mgetattr\u001b[0m\u001b[0;34m(\u001b[0m\u001b[0mdep\u001b[0m\u001b[0;34m.\u001b[0m\u001b[0mowner\u001b[0m\u001b[0;34m,\u001b[0m \u001b[0mdep\u001b[0m\u001b[0;34m.\u001b[0m\u001b[0mname\u001b[0m\u001b[0;34m)\u001b[0m \u001b[0;32mfor\u001b[0m \u001b[0mdep\u001b[0m \u001b[0;32min\u001b[0m \u001b[0marg_deps\u001b[0m\u001b[0;34m)\u001b[0m\u001b[0;34m\u001b[0m\u001b[0;34m\u001b[0m\u001b[0m\n\u001b[1;32m    662\u001b[0m                 \u001b[0mkwargs\u001b[0m \u001b[0;34m=\u001b[0m \u001b[0;34m{\u001b[0m\u001b[0mn\u001b[0m\u001b[0;34m:\u001b[0m \u001b[0mgetattr\u001b[0m\u001b[0;34m(\u001b[0m\u001b[0mdep\u001b[0m\u001b[0;34m.\u001b[0m\u001b[0mowner\u001b[0m\u001b[0;34m,\u001b[0m \u001b[0mdep\u001b[0m\u001b[0;34m.\u001b[0m\u001b[0mname\u001b[0m\u001b[0;34m)\u001b[0m \u001b[0;32mfor\u001b[0m \u001b[0mn\u001b[0m\u001b[0;34m,\u001b[0m \u001b[0mdep\u001b[0m \u001b[0;32min\u001b[0m \u001b[0mkw_deps\u001b[0m\u001b[0;34m.\u001b[0m\u001b[0mitems\u001b[0m\u001b[0;34m(\u001b[0m\u001b[0;34m)\u001b[0m\u001b[0;34m}\u001b[0m\u001b[0;34m\u001b[0m\u001b[0;34m\u001b[0m\u001b[0m\n\u001b[0;32m--> 663\u001b[0;31m         \u001b[0;32mreturn\u001b[0m \u001b[0mfunction\u001b[0m\u001b[0;34m(\u001b[0m\u001b[0;34m*\u001b[0m\u001b[0margs\u001b[0m\u001b[0;34m,\u001b[0m \u001b[0;34m**\u001b[0m\u001b[0mkwargs\u001b[0m\u001b[0;34m)\u001b[0m\u001b[0;34m\u001b[0m\u001b[0;34m\u001b[0m\u001b[0m\n\u001b[0m\u001b[1;32m    664\u001b[0m \u001b[0;34m\u001b[0m\u001b[0m\n\u001b[1;32m    665\u001b[0m     \u001b[0;32mdef\u001b[0m \u001b[0m_update_pane\u001b[0m\u001b[0;34m(\u001b[0m\u001b[0mself\u001b[0m\u001b[0;34m,\u001b[0m \u001b[0;34m*\u001b[0m\u001b[0mevents\u001b[0m\u001b[0;34m)\u001b[0m\u001b[0;34m:\u001b[0m\u001b[0;34m\u001b[0m\u001b[0;34m\u001b[0m\u001b[0m\n",
      "\u001b[0;32m~/anaconda3/envs/xclim/lib/python3.8/site-packages/param/parameterized.py\u001b[0m in \u001b[0;36m_depends\u001b[0;34m(*args, **kw)\u001b[0m\n\u001b[1;32m    349\u001b[0m     \u001b[0;34m@\u001b[0m\u001b[0mwraps\u001b[0m\u001b[0;34m(\u001b[0m\u001b[0mfunc\u001b[0m\u001b[0;34m)\u001b[0m\u001b[0;34m\u001b[0m\u001b[0;34m\u001b[0m\u001b[0m\n\u001b[1;32m    350\u001b[0m     \u001b[0;32mdef\u001b[0m \u001b[0m_depends\u001b[0m\u001b[0;34m(\u001b[0m\u001b[0;34m*\u001b[0m\u001b[0margs\u001b[0m\u001b[0;34m,\u001b[0m\u001b[0;34m**\u001b[0m\u001b[0mkw\u001b[0m\u001b[0;34m)\u001b[0m\u001b[0;34m:\u001b[0m\u001b[0;34m\u001b[0m\u001b[0;34m\u001b[0m\u001b[0m\n\u001b[0;32m--> 351\u001b[0;31m         \u001b[0;32mreturn\u001b[0m \u001b[0mfunc\u001b[0m\u001b[0;34m(\u001b[0m\u001b[0;34m*\u001b[0m\u001b[0margs\u001b[0m\u001b[0;34m,\u001b[0m\u001b[0;34m**\u001b[0m\u001b[0mkw\u001b[0m\u001b[0;34m)\u001b[0m\u001b[0;34m\u001b[0m\u001b[0;34m\u001b[0m\u001b[0m\n\u001b[0m\u001b[1;32m    352\u001b[0m \u001b[0;34m\u001b[0m\u001b[0m\n\u001b[1;32m    353\u001b[0m     \u001b[0mdeps\u001b[0m \u001b[0;34m=\u001b[0m \u001b[0mlist\u001b[0m\u001b[0;34m(\u001b[0m\u001b[0mdependencies\u001b[0m\u001b[0;34m)\u001b[0m\u001b[0;34m+\u001b[0m\u001b[0mlist\u001b[0m\u001b[0;34m(\u001b[0m\u001b[0mkw\u001b[0m\u001b[0;34m.\u001b[0m\u001b[0mvalues\u001b[0m\u001b[0;34m(\u001b[0m\u001b[0;34m)\u001b[0m\u001b[0;34m)\u001b[0m\u001b[0;34m\u001b[0m\u001b[0;34m\u001b[0m\u001b[0m\n",
      "\u001b[0;32m<ipython-input-44-59927af30e1c>\u001b[0m in \u001b[0;36mcreate_data_summary\u001b[0;34m(dataset)\u001b[0m\n\u001b[1;32m     46\u001b[0m     \u001b[0;31m## details\u001b[0m\u001b[0;34m\u001b[0m\u001b[0;34m\u001b[0m\u001b[0;34m\u001b[0m\u001b[0m\n\u001b[1;32m     47\u001b[0m     \u001b[0mprint\u001b[0m\u001b[0;34m(\u001b[0m\u001b[0mds\u001b[0m\u001b[0;34m.\u001b[0m\u001b[0mattrs\u001b[0m\u001b[0;34m)\u001b[0m\u001b[0;34m\u001b[0m\u001b[0;34m\u001b[0m\u001b[0m\n\u001b[0;32m---> 48\u001b[0;31m     \u001b[0mdetails\u001b[0m \u001b[0;34m=\u001b[0m \u001b[0mpn\u001b[0m\u001b[0;34m.\u001b[0m\u001b[0mColumn\u001b[0m\u001b[0;34m(\u001b[0m\u001b[0mpn\u001b[0m\u001b[0;34m.\u001b[0m\u001b[0mRow\u001b[0m\u001b[0;34m(\u001b[0m\u001b[0mpn\u001b[0m\u001b[0;34m.\u001b[0m\u001b[0mpane\u001b[0m\u001b[0;34m.\u001b[0m\u001b[0mHTML\u001b[0m\u001b[0;34m(\u001b[0m\u001b[0;34m'abstract : '\u001b[0m\u001b[0;34m,\u001b[0m\u001b[0mwidth\u001b[0m\u001b[0;34m=\u001b[0m\u001b[0mw\u001b[0m\u001b[0;34m)\u001b[0m\u001b[0;34m,\u001b[0m \u001b[0mpn\u001b[0m\u001b[0;34m.\u001b[0m\u001b[0mpane\u001b[0m\u001b[0;34m.\u001b[0m\u001b[0mHTML\u001b[0m\u001b[0;34m(\u001b[0m\u001b[0mds\u001b[0m\u001b[0;34m.\u001b[0m\u001b[0mattrs\u001b[0m\u001b[0;34m[\u001b[0m\u001b[0;34m'abstract'\u001b[0m\u001b[0;34m]\u001b[0m\u001b[0;34m,\u001b[0m\u001b[0mwidth\u001b[0m\u001b[0;34m=\u001b[0m\u001b[0;36m600\u001b[0m\u001b[0;34m)\u001b[0m\u001b[0;34m)\u001b[0m\u001b[0;34m)\u001b[0m\u001b[0;34m\u001b[0m\u001b[0;34m\u001b[0m\u001b[0m\n\u001b[0m\u001b[1;32m     49\u001b[0m     \u001b[0;32mfor\u001b[0m \u001b[0mcheck\u001b[0m \u001b[0;32min\u001b[0m \u001b[0;34m[\u001b[0m\u001b[0;34m'bias_adjust'\u001b[0m\u001b[0;34m,\u001b[0m \u001b[0;34m'target_data'\u001b[0m\u001b[0;34m,\u001b[0m \u001b[0;34m'target_ref'\u001b[0m\u001b[0;34m]\u001b[0m\u001b[0;34m:\u001b[0m\u001b[0;34m\u001b[0m\u001b[0;34m\u001b[0m\u001b[0m\n\u001b[1;32m     50\u001b[0m         \u001b[0;32mfor\u001b[0m \u001b[0mattr\u001b[0m \u001b[0;32min\u001b[0m \u001b[0;34m[\u001b[0m\u001b[0mattr\u001b[0m \u001b[0;32mfor\u001b[0m \u001b[0mattr\u001b[0m \u001b[0;32min\u001b[0m \u001b[0mds\u001b[0m\u001b[0;34m.\u001b[0m\u001b[0mattrs\u001b[0m \u001b[0;32mif\u001b[0m \u001b[0mcheck\u001b[0m \u001b[0;32min\u001b[0m \u001b[0mattr\u001b[0m\u001b[0;34m]\u001b[0m\u001b[0;34m:\u001b[0m\u001b[0;34m\u001b[0m\u001b[0;34m\u001b[0m\u001b[0m\n",
      "\u001b[0;31mKeyError\u001b[0m: 'abstract'"
     ]
    }
   ],
   "source": [
    "options1 = []\n",
    "for c in [c for c in cats if 'obs.json' in c.name]:\n",
    "\n",
    "    cat = intake_esm.intake.open_esm_datastore(c)\n",
    "    options1.extend( list(cat.df['title'].unique()))\n",
    "#options1.extend( [o for o in options if 'Ouranos' not in o])\n",
    "title_w = pn.widgets.Select(options=options1, width = 600)\n",
    "title_w\n",
    "MAX_WIDTH=850\n",
    "\n",
    "pn.config.sizing_mode=\"stretch_width\"\n",
    "\n",
    "spacer = pn.Spacer(height=0, margin=0)\n",
    "observed =  pn.Column(title_w,create_data_summary,sizing_mode=\"stretch_width\", \n",
    "    max_width=MAX_WIDTH, align=\"center\" )\n",
    "\n",
    "observed = pn.Column(\n",
    "    spacer, # TRICK: WONT WORK WITHOUT. YOU CAN SET HEIGHT TO 0 TO NOT TAKE UP HEIGHT\n",
    "    observed,\n",
    "    sizing_mode=\"stretch_both\",\n",
    "    \n",
    ")\n",
    "observed"
   ]
  },
  {
   "cell_type": "code",
   "execution_count": null,
   "id": "higher-cookbook",
   "metadata": {},
   "outputs": [],
   "source": [
    "cats\n"
   ]
  },
  {
   "cell_type": "code",
   "execution_count": null,
   "id": "focal-moral",
   "metadata": {},
   "outputs": [],
   "source": []
  }
 ],
 "metadata": {
  "kernelspec": {
   "display_name": "Python 3",
   "language": "python",
   "name": "python3"
  },
  "language_info": {
   "codemirror_mode": {
    "name": "ipython",
    "version": 3
   },
   "file_extension": ".py",
   "mimetype": "text/x-python",
   "name": "python",
   "nbconvert_exporter": "python",
   "pygments_lexer": "ipython3",
   "version": "3.8.5"
  }
 },
 "nbformat": 4,
 "nbformat_minor": 5
}
