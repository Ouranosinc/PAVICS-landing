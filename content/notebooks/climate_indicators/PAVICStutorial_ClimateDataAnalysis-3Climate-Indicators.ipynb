{
 "cells": [
  {
   "attachments": {
    "140c61cf-9226-415b-a6dc-a71c958530d7.png": {
     "image/png": "[encoded data removed]"
    }
   },
   "cell_type": "markdown",
   "metadata": {},
   "source": [
    "<a id='top1'></a>\n",
    "![pavics_climindices_3.png](attachment:140c61cf-9226-415b-a6dc-a71c958530d7.png)"
   ]
  },
  {
   "cell_type": "markdown",
   "metadata": {},
   "source": [
    "\n",
    "This third tutorial will demonstate PAVICS tools for calculating climate indicators, again accessing Ouranos' cb-oura-1.0 ensemble.  PAVICS incorporates the <a href=\"https://xclim.readthedocs.io/en/stable/\" target=\"_blank\">xclim</a> library which essentially has two layers for the calculation of indicators. The first `xclim.indices` is a core layer and contains the various algorithms and calculation logic, as well as any potential unit conversions.  A second layer consists of `xclim.core.indicator.Indicator` instances that essentially perform the same computations found in `xclim.indices`, but also run a number of health checks on input data and assign attributes to the output arrays. Indicators are split into realms (`atmos`, `land`, `seaIce`), according to the variables they operate on. \n",
    "\n",
    "This tutorial uses the`xclim.atmos` module outlining steps for:\n",
    "\n",
    "* [Climate indicator calculation](#climcalc)\n",
    "* [Missing data options](#missing)\n",
    "* [French language metadata fields](#french)\n",
    "\n",
    "Advanced topics:\n",
    "\n",
    "* [Simple multiprocessing of an ensemble](#multiproc)\n",
    "\n",
    "We re-use part of the data-access and subset tutorials to select a dataset from cb-oura-1.0 datasets from the PAVICS THREDDS server.\n",
    "\n",
    "<div class=\"alert alert-info\">\n",
    "To conserve any modifications to tutorial notebooks in the PAVICS JupyterLab they need to be copied into your <a href=#workspace>writable-workspace</a> directory.    \n",
    "</div>\n",
    "    "
   ]
  },
  {
   "cell_type": "code",
   "execution_count": 1,
   "metadata": {
    "execution": {
     "iopub.execute_input": "2024-05-10T03:11:46.665731Z",
     "iopub.status.busy": "2024-05-10T03:11:46.665213Z",
     "iopub.status.idle": "2024-05-10T03:11:53.914025Z",
     "shell.execute_reply": "2024-05-10T03:11:53.913316Z"
    },
    "tags": []
   },
   "outputs": [
    {
     "data": {
      "text/html": [
       "<div><svg style=\"position: absolute; width: 0; height: 0; overflow: hidden\">\n",
       "<defs>\n",
       "<symbol id=\"icon-database\" viewBox=\"0 0 32 32\">\n",
       "<path d=\"M16 0c-8.837 0-16 2.239-16 5v4c0 2.761 7.163 5 16 5s16-2.239 16-5v-4c0-2.761-7.163-5-16-5z\"></path>\n",
       "<path d=\"M16 17c-8.837 0-16-2.239-16-5v6c0 2.761 7.163 5 16 5s16-2.239 16-5v-6c0 2.761-7.163 5-16 5z\"></path>\n",
       "<path d=\"M16 26c-8.837 0-16-2.239-16-5v6c0 2.761 7.163 5 16 5s16-2.239 16-5v-6c0 2.761-7.163 5-16 5z\"></path>\n",
       "</symbol>\n",
       "<symbol id=\"icon-file-text2\" viewBox=\"0 0 32 32\">\n",
       "<path d=\"M28.681 7.159c-0.694-0.947-1.662-2.053-2.724-3.116s-2.169-2.030-3.116-2.724c-1.612-1.182-2.393-1.319-2.841-1.319h-15.5c-1.378 0-2.5 1.121-2.5 2.5v27c0 1.378 1.122 2.5 2.5 2.5h23c1.378 0 2.5-1.122 2.5-2.5v-19.5c0-0.448-0.137-1.23-1.319-2.841zM24.543 5.457c0.959 0.959 1.712 1.825 2.268 2.543h-4.811v-4.811c0.718 0.556 1.584 1.309 2.543 2.268zM28 29.5c0 0.271-0.229 0.5-0.5 0.5h-23c-0.271 0-0.5-0.229-0.5-0.5v-27c0-0.271 0.229-0.5 0.5-0.5 0 0 15.499-0 15.5 0v7c0 0.552 0.448 1 1 1h7v19.5z\"></path>\n",
       "<path d=\"M23 26h-14c-0.552 0-1-0.448-1-1s0.448-1 1-1h14c0.552 0 1 0.448 1 1s-0.448 1-1 1z\"></path>\n",
       "<path d=\"M23 22h-14c-0.552 0-1-0.448-1-1s0.448-1 1-1h14c0.552 0 1 0.448 1 1s-0.448 1-1 1z\"></path>\n",
       "<path d=\"M23 18h-14c-0.552 0-1-0.448-1-1s0.448-1 1-1h14c0.552 0 1 0.448 1 1s-0.448 1-1 1z\"></path>\n",
       "</symbol>\n",
       "</defs>\n",
       "</svg>\n",
       "<style>/* CSS stylesheet for displaying xarray objects in jupyterlab.\n",
       " *\n",
       " */\n",
       "\n",
       ":root {\n",
       "  --xr-font-color0: var(--jp-content-font-color0, rgba(0, 0, 0, 1));\n",
       "  --xr-font-color2: var(--jp-content-font-color2, rgba(0, 0, 0, 0.54));\n",
       "  --xr-font-color3: var(--jp-content-font-color3, rgba(0, 0, 0, 0.38));\n",
       "  --xr-border-color: var(--jp-border-color2, #e0e0e0);\n",
       "  --xr-disabled-color: var(--jp-layout-color3, #bdbdbd);\n",
       "  --xr-background-color: var(--jp-layout-color0, white);\n",
       "  --xr-background-color-row-even: var(--jp-layout-color1, white);\n",
       "  --xr-background-color-row-odd: var(--jp-layout-color2, #eeeeee);\n",
       "}\n",
       "\n",
       "html[theme=dark],\n",
       "body[data-theme=dark],\n",
       "body.vscode-dark {\n",
       "  --xr-font-color0: rgba(255, 255, 255, 1);\n",
       "  --xr-font-color2: rgba(255, 255, 255, 0.54);\n",
       "  --xr-font-color3: rgba(255, 255, 255, 0.38);\n",
       "  --xr-border-color: #1F1F1F;\n",
       "  --xr-disabled-color: #515151;\n",
       "  --xr-background-color: #111111;\n",
       "  --xr-background-color-row-even: #111111;\n",
       "  --xr-background-color-row-odd: #313131;\n",
       "}\n",
       "\n",
       ".xr-wrap {\n",
       "  display: block !important;\n",
       "  min-width: 300px;\n",
       "  max-width: 700px;\n",
       "}\n",
       "\n",
       ".xr-text-repr-fallback {\n",
       "  /* fallback to plain text repr when CSS is not injected (untrusted notebook) */\n",
       "  display: none;\n",
       "}\n",
       "\n",
       ".xr-header {\n",
       "  padding-top: 6px;\n",
       "  padding-bottom: 6px;\n",
       "  margin-bottom: 4px;\n",
       "  border-bottom: solid 1px var(--xr-border-color);\n",
       "}\n",
       "\n",
       ".xr-header > div,\n",
       ".xr-header > ul {\n",
       "  display: inline;\n",
       "  margin-top: 0;\n",
       "  margin-bottom: 0;\n",
       "}\n",
       "\n",
       ".xr-obj-type,\n",
       ".xr-array-name {\n",
       "  margin-left: 2px;\n",
       "  margin-right: 10px;\n",
       "}\n",
       "\n",
       ".xr-obj-type {\n",
       "  color: var(--xr-font-color2);\n",
       "}\n",
       "\n",
       ".xr-sections {\n",
       "  padding-left: 0 !important;\n",
       "  display: grid;\n",
       "  grid-template-columns: 150px auto auto 1fr 20px 20px;\n",
       "}\n",
       "\n",
       ".xr-section-item {\n",
       "  display: contents;\n",
       "}\n",
       "\n",
       ".xr-section-item input {\n",
       "  display: none;\n",
       "}\n",
       "\n",
       ".xr-section-item input + label {\n",
       "  color: var(--xr-disabled-color);\n",
       "}\n",
       "\n",
       ".xr-section-item input:enabled + label {\n",
       "  cursor: pointer;\n",
       "  color: var(--xr-font-color2);\n",
       "}\n",
       "\n",
       ".xr-section-item input:enabled + label:hover {\n",
       "  color: var(--xr-font-color0);\n",
       "}\n",
       "\n",
       ".xr-section-summary {\n",
       "  grid-column: 1;\n",
       "  color: var(--xr-font-color2);\n",
       "  font-weight: 500;\n",
       "}\n",
       "\n",
       ".xr-section-summary > span {\n",
       "  display: inline-block;\n",
       "  padding-left: 0.5em;\n",
       "}\n",
       "\n",
       ".xr-section-summary-in:disabled + label {\n",
       "  color: var(--xr-font-color2);\n",
       "}\n",
       "\n",
       ".xr-section-summary-in + label:before {\n",
       "  display: inline-block;\n",
       "  content: '►';\n",
       "  font-size: 11px;\n",
       "  width: 15px;\n",
       "  text-align: center;\n",
       "}\n",
       "\n",
       ".xr-section-summary-in:disabled + label:before {\n",
       "  color: var(--xr-disabled-color);\n",
       "}\n",
       "\n",
       ".xr-section-summary-in:checked + label:before {\n",
       "  content: '▼';\n",
       "}\n",
       "\n",
       ".xr-section-summary-in:checked + label > span {\n",
       "  display: none;\n",
       "}\n",
       "\n",
       ".xr-section-summary,\n",
       ".xr-section-inline-details {\n",
       "  padding-top: 4px;\n",
       "  padding-bottom: 4px;\n",
       "}\n",
       "\n",
       ".xr-section-inline-details {\n",
       "  grid-column: 2 / -1;\n",
       "}\n",
       "\n",
       ".xr-section-details {\n",
       "  display: none;\n",
       "  grid-column: 1 / -1;\n",
       "  margin-bottom: 5px;\n",
       "}\n",
       "\n",
       ".xr-section-summary-in:checked ~ .xr-section-details {\n",
       "  display: contents;\n",
       "}\n",
       "\n",
       ".xr-array-wrap {\n",
       "  grid-column: 1 / -1;\n",
       "  display: grid;\n",
       "  grid-template-columns: 20px auto;\n",
       "}\n",
       "\n",
       ".xr-array-wrap > label {\n",
       "  grid-column: 1;\n",
       "  vertical-align: top;\n",
       "}\n",
       "\n",
       ".xr-preview {\n",
       "  color: var(--xr-font-color3);\n",
       "}\n",
       "\n",
       ".xr-array-preview,\n",
       ".xr-array-data {\n",
       "  padding: 0 5px !important;\n",
       "  grid-column: 2;\n",
       "}\n",
       "\n",
       ".xr-array-data,\n",
       ".xr-array-in:checked ~ .xr-array-preview {\n",
       "  display: none;\n",
       "}\n",
       "\n",
       ".xr-array-in:checked ~ .xr-array-data,\n",
       ".xr-array-preview {\n",
       "  display: inline-block;\n",
       "}\n",
       "\n",
       ".xr-dim-list {\n",
       "  display: inline-block !important;\n",
       "  list-style: none;\n",
       "  padding: 0 !important;\n",
       "  margin: 0;\n",
       "}\n",
       "\n",
       ".xr-dim-list li {\n",
       "  display: inline-block;\n",
       "  padding: 0;\n",
       "  margin: 0;\n",
       "}\n",
       "\n",
       ".xr-dim-list:before {\n",
       "  content: '(';\n",
       "}\n",
       "\n",
       ".xr-dim-list:after {\n",
       "  content: ')';\n",
       "}\n",
       "\n",
       ".xr-dim-list li:not(:last-child):after {\n",
       "  content: ',';\n",
       "  padding-right: 5px;\n",
       "}\n",
       "\n",
       ".xr-has-index {\n",
       "  font-weight: bold;\n",
       "}\n",
       "\n",
       ".xr-var-list,\n",
       ".xr-var-item {\n",
       "  display: contents;\n",
       "}\n",
       "\n",
       ".xr-var-item > div,\n",
       ".xr-var-item label,\n",
       ".xr-var-item > .xr-var-name span {\n",
       "  background-color: var(--xr-background-color-row-even);\n",
       "  margin-bottom: 0;\n",
       "}\n",
       "\n",
       ".xr-var-item > .xr-var-name:hover span {\n",
       "  padding-right: 5px;\n",
       "}\n",
       "\n",
       ".xr-var-list > li:nth-child(odd) > div,\n",
       ".xr-var-list > li:nth-child(odd) > label,\n",
       ".xr-var-list > li:nth-child(odd) > .xr-var-name span {\n",
       "  background-color: var(--xr-background-color-row-odd);\n",
       "}\n",
       "\n",
       ".xr-var-name {\n",
       "  grid-column: 1;\n",
       "}\n",
       "\n",
       ".xr-var-dims {\n",
       "  grid-column: 2;\n",
       "}\n",
       "\n",
       ".xr-var-dtype {\n",
       "  grid-column: 3;\n",
       "  text-align: right;\n",
       "  color: var(--xr-font-color2);\n",
       "}\n",
       "\n",
       ".xr-var-preview {\n",
       "  grid-column: 4;\n",
       "}\n",
       "\n",
       ".xr-index-preview {\n",
       "  grid-column: 2 / 5;\n",
       "  color: var(--xr-font-color2);\n",
       "}\n",
       "\n",
       ".xr-var-name,\n",
       ".xr-var-dims,\n",
       ".xr-var-dtype,\n",
       ".xr-preview,\n",
       ".xr-attrs dt {\n",
       "  white-space: nowrap;\n",
       "  overflow: hidden;\n",
       "  text-overflow: ellipsis;\n",
       "  padding-right: 10px;\n",
       "}\n",
       "\n",
       ".xr-var-name:hover,\n",
       ".xr-var-dims:hover,\n",
       ".xr-var-dtype:hover,\n",
       ".xr-attrs dt:hover {\n",
       "  overflow: visible;\n",
       "  width: auto;\n",
       "  z-index: 1;\n",
       "}\n",
       "\n",
       ".xr-var-attrs,\n",
       ".xr-var-data,\n",
       ".xr-index-data {\n",
       "  display: none;\n",
       "  background-color: var(--xr-background-color) !important;\n",
       "  padding-bottom: 5px !important;\n",
       "}\n",
       "\n",
       ".xr-var-attrs-in:checked ~ .xr-var-attrs,\n",
       ".xr-var-data-in:checked ~ .xr-var-data,\n",
       ".xr-index-data-in:checked ~ .xr-index-data {\n",
       "  display: block;\n",
       "}\n",
       "\n",
       ".xr-var-data > table {\n",
       "  float: right;\n",
       "}\n",
       "\n",
       ".xr-var-name span,\n",
       ".xr-var-data,\n",
       ".xr-index-name div,\n",
       ".xr-index-data,\n",
       ".xr-attrs {\n",
       "  padding-left: 25px !important;\n",
       "}\n",
       "\n",
       ".xr-attrs,\n",
       ".xr-var-attrs,\n",
       ".xr-var-data,\n",
       ".xr-index-data {\n",
       "  grid-column: 1 / -1;\n",
       "}\n",
       "\n",
       "dl.xr-attrs {\n",
       "  padding: 0;\n",
       "  margin: 0;\n",
       "  display: grid;\n",
       "  grid-template-columns: 125px auto;\n",
       "}\n",
       "\n",
       ".xr-attrs dt,\n",
       ".xr-attrs dd {\n",
       "  padding: 0;\n",
       "  margin: 0;\n",
       "  float: left;\n",
       "  padding-right: 10px;\n",
       "  width: auto;\n",
       "}\n",
       "\n",
       ".xr-attrs dt {\n",
       "  font-weight: normal;\n",
       "  grid-column: 1;\n",
       "}\n",
       "\n",
       ".xr-attrs dt:hover span {\n",
       "  display: inline-block;\n",
       "  background: var(--xr-background-color);\n",
       "  padding-right: 10px;\n",
       "}\n",
       "\n",
       ".xr-attrs dd {\n",
       "  grid-column: 2;\n",
       "  white-space: pre-wrap;\n",
       "  word-break: break-all;\n",
       "}\n",
       "\n",
       ".xr-icon-database,\n",
       ".xr-icon-file-text2,\n",
       ".xr-no-icon {\n",
       "  display: inline-block;\n",
       "  vertical-align: middle;\n",
       "  width: 1em;\n",
       "  height: 1.5em !important;\n",
       "  stroke-width: 0;\n",
       "  stroke: currentColor;\n",
       "  fill: currentColor;\n",
       "}\n",
       "</style><pre class='xr-text-repr-fallback'>&lt;xarray.Dataset&gt; Size: 524MB\n",
       "Dimensions:  (lat: 18, lon: 44, time: 55115)\n",
       "Coordinates:\n",
       "  * lat      (lat) float32 72B 49.29 49.21 49.12 49.04 ... 48.04 47.96 47.87\n",
       "  * lon      (lon) float32 176B -67.71 -67.63 -67.55 ... -64.3 -64.21 -64.13\n",
       "  * time     (time) object 441kB 1950-01-01 00:00:00 ... 2100-12-31 00:00:00\n",
       "Data variables:\n",
       "    tasmin   (time, lat, lon) float32 175MB dask.array&lt;chunksize=(256, 18, 44), meta=np.ndarray&gt;\n",
       "    tasmax   (time, lat, lon) float32 175MB dask.array&lt;chunksize=(256, 18, 44), meta=np.ndarray&gt;\n",
       "    pr       (time, lat, lon) float32 175MB dask.array&lt;chunksize=(256, 18, 44), meta=np.ndarray&gt;\n",
       "    crs      int64 8B 1\n",
       "Attributes: (12/27)\n",
       "    Conventions:                CF-1.5\n",
       "    title:                      Ouranos standard ensemble of bias-adjusted cl...\n",
       "    history:                    2011-06-01T01:08:07Z CMOR rewrote data to com...\n",
       "    institution:                Ouranos Consortium on Regional Climatology an...\n",
       "    source:                     NorESM1-M 2011  atmosphere: CAM-Oslo (CAM4-Os...\n",
       "    driving_experiment:         historical,rcp85\n",
       "    ...                         ...\n",
       "    modeling_realm:             atmos\n",
       "    target_dataset:             CANADA : ANUSPLIN interpolated Canada daily 3...\n",
       "    target_dataset_references:  CANADA : https://doi.org/10.1175/2011BAMS3132...\n",
       "    driving_institution:        Norwegian Climate Centre\n",
       "    driving_institute_id:       NCC\n",
       "    crs:                        EPSG:4326</pre><div class='xr-wrap' style='display:none'><div class='xr-header'><div class='xr-obj-type'>xarray.Dataset</div></div><ul class='xr-sections'><li class='xr-section-item'><input id='section-bb50cfd8-b8e6-48de-b7b4-ecde18008feb' class='xr-section-summary-in' type='checkbox' disabled ><label for='section-bb50cfd8-b8e6-48de-b7b4-ecde18008feb' class='xr-section-summary'  title='Expand/collapse section'>Dimensions:</label><div class='xr-section-inline-details'><ul class='xr-dim-list'><li><span class='xr-has-index'>lat</span>: 18</li><li><span class='xr-has-index'>lon</span>: 44</li><li><span class='xr-has-index'>time</span>: 55115</li></ul></div><div class='xr-section-details'></div></li><li class='xr-section-item'><input id='section-12c13705-ccb0-4b86-926d-c2138f8bfc31' class='xr-section-summary-in' type='checkbox'  checked><label for='section-12c13705-ccb0-4b86-926d-c2138f8bfc31' class='xr-section-summary' >Coordinates: <span>(3)</span></label><div class='xr-section-inline-details'></div><div class='xr-section-details'><ul class='xr-var-list'><li class='xr-var-item'><div class='xr-var-name'><span class='xr-has-index'>lat</span></div><div class='xr-var-dims'>(lat)</div><div class='xr-var-dtype'>float32</div><div class='xr-var-preview xr-preview'>49.29 49.21 49.12 ... 47.96 47.87</div><input id='attrs-f357cbf2-6950-42fb-8906-e3fcdd4d8068' class='xr-var-attrs-in' type='checkbox' ><label for='attrs-f357cbf2-6950-42fb-8906-e3fcdd4d8068' title='Show/Hide attributes'><svg class='icon xr-icon-file-text2'><use xlink:href='#icon-file-text2'></use></svg></label><input id='data-63a54927-7e37-4685-9d18-46e1c7f3d68a' class='xr-var-data-in' type='checkbox'><label for='data-63a54927-7e37-4685-9d18-46e1c7f3d68a' title='Show/Hide data repr'><svg class='icon xr-icon-database'><use xlink:href='#icon-database'></use></svg></label><div class='xr-var-attrs'><dl class='xr-attrs'><dt><span>axis :</span></dt><dd>Y</dd><dt><span>units :</span></dt><dd>degrees_north</dd><dt><span>long_name :</span></dt><dd>latitude</dd><dt><span>standard_name :</span></dt><dd>latitude</dd></dl></div><div class='xr-var-data'><pre>array([49.29067, 49.20734, 49.12401, 49.04068, 48.95735, 48.87402, 48.79069,\n",
       "       48.70736, 48.62403, 48.5407 , 48.45737, 48.37404, 48.29071, 48.20738,\n",
       "       48.12405, 48.04072, 47.95739, 47.87406], dtype=float32)</pre></div></li><li class='xr-var-item'><div class='xr-var-name'><span class='xr-has-index'>lon</span></div><div class='xr-var-dims'>(lon)</div><div class='xr-var-dtype'>float32</div><div class='xr-var-preview xr-preview'>-67.71 -67.63 ... -64.21 -64.13</div><input id='attrs-3fa7490c-effb-4e75-8811-e538655dc780' class='xr-var-attrs-in' type='checkbox' ><label for='attrs-3fa7490c-effb-4e75-8811-e538655dc780' title='Show/Hide attributes'><svg class='icon xr-icon-file-text2'><use xlink:href='#icon-file-text2'></use></svg></label><input id='data-a60360e3-d4fb-46cb-8eb1-922b11b26962' class='xr-var-data-in' type='checkbox'><label for='data-a60360e3-d4fb-46cb-8eb1-922b11b26962' title='Show/Hide data repr'><svg class='icon xr-icon-database'><use xlink:href='#icon-database'></use></svg></label><div class='xr-var-attrs'><dl class='xr-attrs'><dt><span>axis :</span></dt><dd>X</dd><dt><span>units :</span></dt><dd>degrees_east</dd><dt><span>long_name :</span></dt><dd>longitude</dd><dt><span>standard_name :</span></dt><dd>longitude</dd></dl></div><div class='xr-var-data'><pre>array([-67.71273, -67.6294 , -67.54607, -67.46274, -67.37941, -67.29608,\n",
       "       -67.21275, -67.12942, -67.04609, -66.96276, -66.87943, -66.7961 ,\n",
       "       -66.71277, -66.62944, -66.54611, -66.46278, -66.37945, -66.29612,\n",
       "       -66.21279, -66.12946, -66.04613, -65.9628 , -65.87947, -65.79614,\n",
       "       -65.71281, -65.62948, -65.54615, -65.46282, -65.37949, -65.29616,\n",
       "       -65.21283, -65.1295 , -65.04617, -64.96284, -64.87951, -64.79618,\n",
       "       -64.71285, -64.62952, -64.54619, -64.46286, -64.37953, -64.2962 ,\n",
       "       -64.21287, -64.12954], dtype=float32)</pre></div></li><li class='xr-var-item'><div class='xr-var-name'><span class='xr-has-index'>time</span></div><div class='xr-var-dims'>(time)</div><div class='xr-var-dtype'>object</div><div class='xr-var-preview xr-preview'>1950-01-01 00:00:00 ... 2100-12-...</div><input id='attrs-d5859723-5094-438c-9b6a-39221a9ee33b' class='xr-var-attrs-in' type='checkbox' ><label for='attrs-d5859723-5094-438c-9b6a-39221a9ee33b' title='Show/Hide attributes'><svg class='icon xr-icon-file-text2'><use xlink:href='#icon-file-text2'></use></svg></label><input id='data-b5cb1ab8-3061-4aba-ac80-85b2e668a871' class='xr-var-data-in' type='checkbox'><label for='data-b5cb1ab8-3061-4aba-ac80-85b2e668a871' title='Show/Hide data repr'><svg class='icon xr-icon-database'><use xlink:href='#icon-database'></use></svg></label><div class='xr-var-attrs'><dl class='xr-attrs'><dt><span>axis :</span></dt><dd>T</dd><dt><span>long_name :</span></dt><dd>time</dd><dt><span>standard_name :</span></dt><dd>time</dd></dl></div><div class='xr-var-data'><pre>array([cftime.DatetimeNoLeap(1950, 1, 1, 0, 0, 0, 0, has_year_zero=True),\n",
       "       cftime.DatetimeNoLeap(1950, 1, 2, 0, 0, 0, 0, has_year_zero=True),\n",
       "       cftime.DatetimeNoLeap(1950, 1, 3, 0, 0, 0, 0, has_year_zero=True), ...,\n",
       "       cftime.DatetimeNoLeap(2100, 12, 29, 0, 0, 0, 0, has_year_zero=True),\n",
       "       cftime.DatetimeNoLeap(2100, 12, 30, 0, 0, 0, 0, has_year_zero=True),\n",
       "       cftime.DatetimeNoLeap(2100, 12, 31, 0, 0, 0, 0, has_year_zero=True)],\n",
       "      dtype=object)</pre></div></li></ul></div></li><li class='xr-section-item'><input id='section-0940524e-999f-446c-9bfe-caa2cbd0ba0d' class='xr-section-summary-in' type='checkbox'  checked><label for='section-0940524e-999f-446c-9bfe-caa2cbd0ba0d' class='xr-section-summary' >Data variables: <span>(4)</span></label><div class='xr-section-inline-details'></div><div class='xr-section-details'><ul class='xr-var-list'><li class='xr-var-item'><div class='xr-var-name'><span>tasmin</span></div><div class='xr-var-dims'>(time, lat, lon)</div><div class='xr-var-dtype'>float32</div><div class='xr-var-preview xr-preview'>dask.array&lt;chunksize=(256, 18, 44), meta=np.ndarray&gt;</div><input id='attrs-56a3d064-621c-44cb-960a-72e2fbd39138' class='xr-var-attrs-in' type='checkbox' ><label for='attrs-56a3d064-621c-44cb-960a-72e2fbd39138' title='Show/Hide attributes'><svg class='icon xr-icon-file-text2'><use xlink:href='#icon-file-text2'></use></svg></label><input id='data-b6527b89-b189-4c1a-8ec1-f6609ce67288' class='xr-var-data-in' type='checkbox'><label for='data-b6527b89-b189-4c1a-8ec1-f6609ce67288' title='Show/Hide data repr'><svg class='icon xr-icon-database'><use xlink:href='#icon-database'></use></svg></label><div class='xr-var-attrs'><dl class='xr-attrs'><dt><span>long_name :</span></dt><dd>air_temperature</dd><dt><span>standard_name :</span></dt><dd>air_temperature</dd><dt><span>units :</span></dt><dd>K</dd><dt><span>_ChunkSizes :</span></dt><dd>[256  16  16]</dd><dt><span>grid_mapping :</span></dt><dd>crs</dd></dl></div><div class='xr-var-data'><table>\n",
       "    <tr>\n",
       "        <td>\n",
       "            <table style=\"border-collapse: collapse;\">\n",
       "                <thead>\n",
       "                    <tr>\n",
       "                        <td> </td>\n",
       "                        <th> Array </th>\n",
       "                        <th> Chunk </th>\n",
       "                    </tr>\n",
       "                </thead>\n",
       "                <tbody>\n",
       "                    \n",
       "                    <tr>\n",
       "                        <th> Bytes </th>\n",
       "                        <td> 166.52 MiB </td>\n",
       "                        <td> 792.00 kiB </td>\n",
       "                    </tr>\n",
       "                    \n",
       "                    <tr>\n",
       "                        <th> Shape </th>\n",
       "                        <td> (55115, 18, 44) </td>\n",
       "                        <td> (256, 18, 44) </td>\n",
       "                    </tr>\n",
       "                    <tr>\n",
       "                        <th> Dask graph </th>\n",
       "                        <td colspan=\"2\"> 216 chunks in 8 graph layers </td>\n",
       "                    </tr>\n",
       "                    <tr>\n",
       "                        <th> Data type </th>\n",
       "                        <td colspan=\"2\"> float32 numpy.ndarray </td>\n",
       "                    </tr>\n",
       "                </tbody>\n",
       "            </table>\n",
       "        </td>\n",
       "        <td>\n",
       "        <svg width=\"156\" height=\"146\" style=\"stroke:rgb(0,0,0);stroke-width:1\" >\n",
       "\n",
       "  <!-- Horizontal lines -->\n",
       "  <line x1=\"10\" y1=\"0\" x2=\"80\" y2=\"70\" style=\"stroke-width:2\" />\n",
       "  <line x1=\"10\" y1=\"25\" x2=\"80\" y2=\"96\" style=\"stroke-width:2\" />\n",
       "\n",
       "  <!-- Vertical lines -->\n",
       "  <line x1=\"10\" y1=\"0\" x2=\"10\" y2=\"25\" style=\"stroke-width:2\" />\n",
       "  <line x1=\"13\" y1=\"3\" x2=\"13\" y2=\"29\" />\n",
       "  <line x1=\"17\" y1=\"7\" x2=\"17\" y2=\"32\" />\n",
       "  <line x1=\"21\" y1=\"11\" x2=\"21\" y2=\"36\" />\n",
       "  <line x1=\"24\" y1=\"14\" x2=\"24\" y2=\"40\" />\n",
       "  <line x1=\"28\" y1=\"18\" x2=\"28\" y2=\"43\" />\n",
       "  <line x1=\"32\" y1=\"22\" x2=\"32\" y2=\"47\" />\n",
       "  <line x1=\"35\" y1=\"25\" x2=\"35\" y2=\"51\" />\n",
       "  <line x1=\"39\" y1=\"29\" x2=\"39\" y2=\"54\" />\n",
       "  <line x1=\"43\" y1=\"33\" x2=\"43\" y2=\"58\" />\n",
       "  <line x1=\"47\" y1=\"37\" x2=\"47\" y2=\"62\" />\n",
       "  <line x1=\"50\" y1=\"40\" x2=\"50\" y2=\"66\" />\n",
       "  <line x1=\"54\" y1=\"44\" x2=\"54\" y2=\"70\" />\n",
       "  <line x1=\"58\" y1=\"48\" x2=\"58\" y2=\"73\" />\n",
       "  <line x1=\"62\" y1=\"52\" x2=\"62\" y2=\"77\" />\n",
       "  <line x1=\"65\" y1=\"55\" x2=\"65\" y2=\"81\" />\n",
       "  <line x1=\"69\" y1=\"59\" x2=\"69\" y2=\"84\" />\n",
       "  <line x1=\"73\" y1=\"63\" x2=\"73\" y2=\"88\" />\n",
       "  <line x1=\"76\" y1=\"66\" x2=\"76\" y2=\"92\" />\n",
       "  <line x1=\"80\" y1=\"70\" x2=\"80\" y2=\"96\" style=\"stroke-width:2\" />\n",
       "\n",
       "  <!-- Colored Rectangle -->\n",
       "  <polygon points=\"10.0,0.0 80.58823529411765,70.58823529411765 80.58823529411765,96.00085180870013 10.0,25.412616514582485\" style=\"fill:#8B4903A0;stroke-width:0\"/>\n",
       "\n",
       "  <!-- Horizontal lines -->\n",
       "  <line x1=\"10\" y1=\"0\" x2=\"35\" y2=\"0\" style=\"stroke-width:2\" />\n",
       "  <line x1=\"13\" y1=\"3\" x2=\"39\" y2=\"3\" />\n",
       "  <line x1=\"17\" y1=\"7\" x2=\"42\" y2=\"7\" />\n",
       "  <line x1=\"21\" y1=\"11\" x2=\"46\" y2=\"11\" />\n",
       "  <line x1=\"24\" y1=\"14\" x2=\"50\" y2=\"14\" />\n",
       "  <line x1=\"28\" y1=\"18\" x2=\"53\" y2=\"18\" />\n",
       "  <line x1=\"32\" y1=\"22\" x2=\"57\" y2=\"22\" />\n",
       "  <line x1=\"35\" y1=\"25\" x2=\"61\" y2=\"25\" />\n",
       "  <line x1=\"39\" y1=\"29\" x2=\"64\" y2=\"29\" />\n",
       "  <line x1=\"43\" y1=\"33\" x2=\"68\" y2=\"33\" />\n",
       "  <line x1=\"47\" y1=\"37\" x2=\"72\" y2=\"37\" />\n",
       "  <line x1=\"50\" y1=\"40\" x2=\"76\" y2=\"40\" />\n",
       "  <line x1=\"54\" y1=\"44\" x2=\"80\" y2=\"44\" />\n",
       "  <line x1=\"58\" y1=\"48\" x2=\"83\" y2=\"48\" />\n",
       "  <line x1=\"62\" y1=\"52\" x2=\"87\" y2=\"52\" />\n",
       "  <line x1=\"65\" y1=\"55\" x2=\"91\" y2=\"55\" />\n",
       "  <line x1=\"69\" y1=\"59\" x2=\"94\" y2=\"59\" />\n",
       "  <line x1=\"73\" y1=\"63\" x2=\"98\" y2=\"63\" />\n",
       "  <line x1=\"76\" y1=\"66\" x2=\"102\" y2=\"66\" />\n",
       "  <line x1=\"80\" y1=\"70\" x2=\"106\" y2=\"70\" style=\"stroke-width:2\" />\n",
       "\n",
       "  <!-- Vertical lines -->\n",
       "  <line x1=\"10\" y1=\"0\" x2=\"80\" y2=\"70\" style=\"stroke-width:2\" />\n",
       "  <line x1=\"35\" y1=\"0\" x2=\"106\" y2=\"70\" style=\"stroke-width:2\" />\n",
       "\n",
       "  <!-- Colored Rectangle -->\n",
       "  <polygon points=\"10.0,0.0 35.41261651458248,0.0 106.00085180870013,70.58823529411765 80.58823529411765,70.58823529411765\" style=\"fill:#8B4903A0;stroke-width:0\"/>\n",
       "\n",
       "  <!-- Horizontal lines -->\n",
       "  <line x1=\"80\" y1=\"70\" x2=\"106\" y2=\"70\" style=\"stroke-width:2\" />\n",
       "  <line x1=\"80\" y1=\"96\" x2=\"106\" y2=\"96\" style=\"stroke-width:2\" />\n",
       "\n",
       "  <!-- Vertical lines -->\n",
       "  <line x1=\"80\" y1=\"70\" x2=\"80\" y2=\"96\" style=\"stroke-width:2\" />\n",
       "  <line x1=\"106\" y1=\"70\" x2=\"106\" y2=\"96\" style=\"stroke-width:2\" />\n",
       "\n",
       "  <!-- Colored Rectangle -->\n",
       "  <polygon points=\"80.58823529411765,70.58823529411765 106.00085180870013,70.58823529411765 106.00085180870013,96.00085180870013 80.58823529411765,96.00085180870013\" style=\"fill:#ECB172A0;stroke-width:0\"/>\n",
       "\n",
       "  <!-- Text -->\n",
       "  <text x=\"93.294544\" y=\"116.000852\" font-size=\"1.0rem\" font-weight=\"100\" text-anchor=\"middle\" >44</text>\n",
       "  <text x=\"126.000852\" y=\"83.294544\" font-size=\"1.0rem\" font-weight=\"100\" text-anchor=\"middle\" transform=\"rotate(0,126.000852,83.294544)\">18</text>\n",
       "  <text x=\"35.294118\" y=\"80.706734\" font-size=\"1.0rem\" font-weight=\"100\" text-anchor=\"middle\" transform=\"rotate(45,35.294118,80.706734)\">55115</text>\n",
       "</svg>\n",
       "        </td>\n",
       "    </tr>\n",
       "</table></div></li><li class='xr-var-item'><div class='xr-var-name'><span>tasmax</span></div><div class='xr-var-dims'>(time, lat, lon)</div><div class='xr-var-dtype'>float32</div><div class='xr-var-preview xr-preview'>dask.array&lt;chunksize=(256, 18, 44), meta=np.ndarray&gt;</div><input id='attrs-8505e147-e952-4082-9cbf-c62dba7b6512' class='xr-var-attrs-in' type='checkbox' ><label for='attrs-8505e147-e952-4082-9cbf-c62dba7b6512' title='Show/Hide attributes'><svg class='icon xr-icon-file-text2'><use xlink:href='#icon-file-text2'></use></svg></label><input id='data-b41edd47-fa99-4d5f-bbab-f78bf95dc0b9' class='xr-var-data-in' type='checkbox'><label for='data-b41edd47-fa99-4d5f-bbab-f78bf95dc0b9' title='Show/Hide data repr'><svg class='icon xr-icon-database'><use xlink:href='#icon-database'></use></svg></label><div class='xr-var-attrs'><dl class='xr-attrs'><dt><span>long_name :</span></dt><dd>air_temperature</dd><dt><span>standard_name :</span></dt><dd>air_temperature</dd><dt><span>units :</span></dt><dd>K</dd><dt><span>_ChunkSizes :</span></dt><dd>[256  16  16]</dd><dt><span>grid_mapping :</span></dt><dd>crs</dd></dl></div><div class='xr-var-data'><table>\n",
       "    <tr>\n",
       "        <td>\n",
       "            <table style=\"border-collapse: collapse;\">\n",
       "                <thead>\n",
       "                    <tr>\n",
       "                        <td> </td>\n",
       "                        <th> Array </th>\n",
       "                        <th> Chunk </th>\n",
       "                    </tr>\n",
       "                </thead>\n",
       "                <tbody>\n",
       "                    \n",
       "                    <tr>\n",
       "                        <th> Bytes </th>\n",
       "                        <td> 166.52 MiB </td>\n",
       "                        <td> 792.00 kiB </td>\n",
       "                    </tr>\n",
       "                    \n",
       "                    <tr>\n",
       "                        <th> Shape </th>\n",
       "                        <td> (55115, 18, 44) </td>\n",
       "                        <td> (256, 18, 44) </td>\n",
       "                    </tr>\n",
       "                    <tr>\n",
       "                        <th> Dask graph </th>\n",
       "                        <td colspan=\"2\"> 216 chunks in 8 graph layers </td>\n",
       "                    </tr>\n",
       "                    <tr>\n",
       "                        <th> Data type </th>\n",
       "                        <td colspan=\"2\"> float32 numpy.ndarray </td>\n",
       "                    </tr>\n",
       "                </tbody>\n",
       "            </table>\n",
       "        </td>\n",
       "        <td>\n",
       "        <svg width=\"156\" height=\"146\" style=\"stroke:rgb(0,0,0);stroke-width:1\" >\n",
       "\n",
       "  <!-- Horizontal lines -->\n",
       "  <line x1=\"10\" y1=\"0\" x2=\"80\" y2=\"70\" style=\"stroke-width:2\" />\n",
       "  <line x1=\"10\" y1=\"25\" x2=\"80\" y2=\"96\" style=\"stroke-width:2\" />\n",
       "\n",
       "  <!-- Vertical lines -->\n",
       "  <line x1=\"10\" y1=\"0\" x2=\"10\" y2=\"25\" style=\"stroke-width:2\" />\n",
       "  <line x1=\"13\" y1=\"3\" x2=\"13\" y2=\"29\" />\n",
       "  <line x1=\"17\" y1=\"7\" x2=\"17\" y2=\"32\" />\n",
       "  <line x1=\"21\" y1=\"11\" x2=\"21\" y2=\"36\" />\n",
       "  <line x1=\"24\" y1=\"14\" x2=\"24\" y2=\"40\" />\n",
       "  <line x1=\"28\" y1=\"18\" x2=\"28\" y2=\"43\" />\n",
       "  <line x1=\"32\" y1=\"22\" x2=\"32\" y2=\"47\" />\n",
       "  <line x1=\"35\" y1=\"25\" x2=\"35\" y2=\"51\" />\n",
       "  <line x1=\"39\" y1=\"29\" x2=\"39\" y2=\"54\" />\n",
       "  <line x1=\"43\" y1=\"33\" x2=\"43\" y2=\"58\" />\n",
       "  <line x1=\"47\" y1=\"37\" x2=\"47\" y2=\"62\" />\n",
       "  <line x1=\"50\" y1=\"40\" x2=\"50\" y2=\"66\" />\n",
       "  <line x1=\"54\" y1=\"44\" x2=\"54\" y2=\"70\" />\n",
       "  <line x1=\"58\" y1=\"48\" x2=\"58\" y2=\"73\" />\n",
       "  <line x1=\"62\" y1=\"52\" x2=\"62\" y2=\"77\" />\n",
       "  <line x1=\"65\" y1=\"55\" x2=\"65\" y2=\"81\" />\n",
       "  <line x1=\"69\" y1=\"59\" x2=\"69\" y2=\"84\" />\n",
       "  <line x1=\"73\" y1=\"63\" x2=\"73\" y2=\"88\" />\n",
       "  <line x1=\"76\" y1=\"66\" x2=\"76\" y2=\"92\" />\n",
       "  <line x1=\"80\" y1=\"70\" x2=\"80\" y2=\"96\" style=\"stroke-width:2\" />\n",
       "\n",
       "  <!-- Colored Rectangle -->\n",
       "  <polygon points=\"10.0,0.0 80.58823529411765,70.58823529411765 80.58823529411765,96.00085180870013 10.0,25.412616514582485\" style=\"fill:#8B4903A0;stroke-width:0\"/>\n",
       "\n",
       "  <!-- Horizontal lines -->\n",
       "  <line x1=\"10\" y1=\"0\" x2=\"35\" y2=\"0\" style=\"stroke-width:2\" />\n",
       "  <line x1=\"13\" y1=\"3\" x2=\"39\" y2=\"3\" />\n",
       "  <line x1=\"17\" y1=\"7\" x2=\"42\" y2=\"7\" />\n",
       "  <line x1=\"21\" y1=\"11\" x2=\"46\" y2=\"11\" />\n",
       "  <line x1=\"24\" y1=\"14\" x2=\"50\" y2=\"14\" />\n",
       "  <line x1=\"28\" y1=\"18\" x2=\"53\" y2=\"18\" />\n",
       "  <line x1=\"32\" y1=\"22\" x2=\"57\" y2=\"22\" />\n",
       "  <line x1=\"35\" y1=\"25\" x2=\"61\" y2=\"25\" />\n",
       "  <line x1=\"39\" y1=\"29\" x2=\"64\" y2=\"29\" />\n",
       "  <line x1=\"43\" y1=\"33\" x2=\"68\" y2=\"33\" />\n",
       "  <line x1=\"47\" y1=\"37\" x2=\"72\" y2=\"37\" />\n",
       "  <line x1=\"50\" y1=\"40\" x2=\"76\" y2=\"40\" />\n",
       "  <line x1=\"54\" y1=\"44\" x2=\"80\" y2=\"44\" />\n",
       "  <line x1=\"58\" y1=\"48\" x2=\"83\" y2=\"48\" />\n",
       "  <line x1=\"62\" y1=\"52\" x2=\"87\" y2=\"52\" />\n",
       "  <line x1=\"65\" y1=\"55\" x2=\"91\" y2=\"55\" />\n",
       "  <line x1=\"69\" y1=\"59\" x2=\"94\" y2=\"59\" />\n",
       "  <line x1=\"73\" y1=\"63\" x2=\"98\" y2=\"63\" />\n",
       "  <line x1=\"76\" y1=\"66\" x2=\"102\" y2=\"66\" />\n",
       "  <line x1=\"80\" y1=\"70\" x2=\"106\" y2=\"70\" style=\"stroke-width:2\" />\n",
       "\n",
       "  <!-- Vertical lines -->\n",
       "  <line x1=\"10\" y1=\"0\" x2=\"80\" y2=\"70\" style=\"stroke-width:2\" />\n",
       "  <line x1=\"35\" y1=\"0\" x2=\"106\" y2=\"70\" style=\"stroke-width:2\" />\n",
       "\n",
       "  <!-- Colored Rectangle -->\n",
       "  <polygon points=\"10.0,0.0 35.41261651458248,0.0 106.00085180870013,70.58823529411765 80.58823529411765,70.58823529411765\" style=\"fill:#8B4903A0;stroke-width:0\"/>\n",
       "\n",
       "  <!-- Horizontal lines -->\n",
       "  <line x1=\"80\" y1=\"70\" x2=\"106\" y2=\"70\" style=\"stroke-width:2\" />\n",
       "  <line x1=\"80\" y1=\"96\" x2=\"106\" y2=\"96\" style=\"stroke-width:2\" />\n",
       "\n",
       "  <!-- Vertical lines -->\n",
       "  <line x1=\"80\" y1=\"70\" x2=\"80\" y2=\"96\" style=\"stroke-width:2\" />\n",
       "  <line x1=\"106\" y1=\"70\" x2=\"106\" y2=\"96\" style=\"stroke-width:2\" />\n",
       "\n",
       "  <!-- Colored Rectangle -->\n",
       "  <polygon points=\"80.58823529411765,70.58823529411765 106.00085180870013,70.58823529411765 106.00085180870013,96.00085180870013 80.58823529411765,96.00085180870013\" style=\"fill:#ECB172A0;stroke-width:0\"/>\n",
       "\n",
       "  <!-- Text -->\n",
       "  <text x=\"93.294544\" y=\"116.000852\" font-size=\"1.0rem\" font-weight=\"100\" text-anchor=\"middle\" >44</text>\n",
       "  <text x=\"126.000852\" y=\"83.294544\" font-size=\"1.0rem\" font-weight=\"100\" text-anchor=\"middle\" transform=\"rotate(0,126.000852,83.294544)\">18</text>\n",
       "  <text x=\"35.294118\" y=\"80.706734\" font-size=\"1.0rem\" font-weight=\"100\" text-anchor=\"middle\" transform=\"rotate(45,35.294118,80.706734)\">55115</text>\n",
       "</svg>\n",
       "        </td>\n",
       "    </tr>\n",
       "</table></div></li><li class='xr-var-item'><div class='xr-var-name'><span>pr</span></div><div class='xr-var-dims'>(time, lat, lon)</div><div class='xr-var-dtype'>float32</div><div class='xr-var-preview xr-preview'>dask.array&lt;chunksize=(256, 18, 44), meta=np.ndarray&gt;</div><input id='attrs-26135374-fbfe-4d19-ae22-edbff64ef3e6' class='xr-var-attrs-in' type='checkbox' ><label for='attrs-26135374-fbfe-4d19-ae22-edbff64ef3e6' title='Show/Hide attributes'><svg class='icon xr-icon-file-text2'><use xlink:href='#icon-file-text2'></use></svg></label><input id='data-15b6212e-0217-4b22-9974-b2837431be26' class='xr-var-data-in' type='checkbox'><label for='data-15b6212e-0217-4b22-9974-b2837431be26' title='Show/Hide data repr'><svg class='icon xr-icon-database'><use xlink:href='#icon-database'></use></svg></label><div class='xr-var-attrs'><dl class='xr-attrs'><dt><span>long_name :</span></dt><dd>lwe_precipitation_rate</dd><dt><span>standard_name :</span></dt><dd>lwe_precipitation_rate</dd><dt><span>units :</span></dt><dd>mm s-1</dd><dt><span>_ChunkSizes :</span></dt><dd>[256  16  16]</dd><dt><span>grid_mapping :</span></dt><dd>crs</dd></dl></div><div class='xr-var-data'><table>\n",
       "    <tr>\n",
       "        <td>\n",
       "            <table style=\"border-collapse: collapse;\">\n",
       "                <thead>\n",
       "                    <tr>\n",
       "                        <td> </td>\n",
       "                        <th> Array </th>\n",
       "                        <th> Chunk </th>\n",
       "                    </tr>\n",
       "                </thead>\n",
       "                <tbody>\n",
       "                    \n",
       "                    <tr>\n",
       "                        <th> Bytes </th>\n",
       "                        <td> 166.52 MiB </td>\n",
       "                        <td> 792.00 kiB </td>\n",
       "                    </tr>\n",
       "                    \n",
       "                    <tr>\n",
       "                        <th> Shape </th>\n",
       "                        <td> (55115, 18, 44) </td>\n",
       "                        <td> (256, 18, 44) </td>\n",
       "                    </tr>\n",
       "                    <tr>\n",
       "                        <th> Dask graph </th>\n",
       "                        <td colspan=\"2\"> 216 chunks in 8 graph layers </td>\n",
       "                    </tr>\n",
       "                    <tr>\n",
       "                        <th> Data type </th>\n",
       "                        <td colspan=\"2\"> float32 numpy.ndarray </td>\n",
       "                    </tr>\n",
       "                </tbody>\n",
       "            </table>\n",
       "        </td>\n",
       "        <td>\n",
       "        <svg width=\"156\" height=\"146\" style=\"stroke:rgb(0,0,0);stroke-width:1\" >\n",
       "\n",
       "  <!-- Horizontal lines -->\n",
       "  <line x1=\"10\" y1=\"0\" x2=\"80\" y2=\"70\" style=\"stroke-width:2\" />\n",
       "  <line x1=\"10\" y1=\"25\" x2=\"80\" y2=\"96\" style=\"stroke-width:2\" />\n",
       "\n",
       "  <!-- Vertical lines -->\n",
       "  <line x1=\"10\" y1=\"0\" x2=\"10\" y2=\"25\" style=\"stroke-width:2\" />\n",
       "  <line x1=\"13\" y1=\"3\" x2=\"13\" y2=\"29\" />\n",
       "  <line x1=\"17\" y1=\"7\" x2=\"17\" y2=\"32\" />\n",
       "  <line x1=\"21\" y1=\"11\" x2=\"21\" y2=\"36\" />\n",
       "  <line x1=\"24\" y1=\"14\" x2=\"24\" y2=\"40\" />\n",
       "  <line x1=\"28\" y1=\"18\" x2=\"28\" y2=\"43\" />\n",
       "  <line x1=\"32\" y1=\"22\" x2=\"32\" y2=\"47\" />\n",
       "  <line x1=\"35\" y1=\"25\" x2=\"35\" y2=\"51\" />\n",
       "  <line x1=\"39\" y1=\"29\" x2=\"39\" y2=\"54\" />\n",
       "  <line x1=\"43\" y1=\"33\" x2=\"43\" y2=\"58\" />\n",
       "  <line x1=\"47\" y1=\"37\" x2=\"47\" y2=\"62\" />\n",
       "  <line x1=\"50\" y1=\"40\" x2=\"50\" y2=\"66\" />\n",
       "  <line x1=\"54\" y1=\"44\" x2=\"54\" y2=\"70\" />\n",
       "  <line x1=\"58\" y1=\"48\" x2=\"58\" y2=\"73\" />\n",
       "  <line x1=\"62\" y1=\"52\" x2=\"62\" y2=\"77\" />\n",
       "  <line x1=\"65\" y1=\"55\" x2=\"65\" y2=\"81\" />\n",
       "  <line x1=\"69\" y1=\"59\" x2=\"69\" y2=\"84\" />\n",
       "  <line x1=\"73\" y1=\"63\" x2=\"73\" y2=\"88\" />\n",
       "  <line x1=\"76\" y1=\"66\" x2=\"76\" y2=\"92\" />\n",
       "  <line x1=\"80\" y1=\"70\" x2=\"80\" y2=\"96\" style=\"stroke-width:2\" />\n",
       "\n",
       "  <!-- Colored Rectangle -->\n",
       "  <polygon points=\"10.0,0.0 80.58823529411765,70.58823529411765 80.58823529411765,96.00085180870013 10.0,25.412616514582485\" style=\"fill:#8B4903A0;stroke-width:0\"/>\n",
       "\n",
       "  <!-- Horizontal lines -->\n",
       "  <line x1=\"10\" y1=\"0\" x2=\"35\" y2=\"0\" style=\"stroke-width:2\" />\n",
       "  <line x1=\"13\" y1=\"3\" x2=\"39\" y2=\"3\" />\n",
       "  <line x1=\"17\" y1=\"7\" x2=\"42\" y2=\"7\" />\n",
       "  <line x1=\"21\" y1=\"11\" x2=\"46\" y2=\"11\" />\n",
       "  <line x1=\"24\" y1=\"14\" x2=\"50\" y2=\"14\" />\n",
       "  <line x1=\"28\" y1=\"18\" x2=\"53\" y2=\"18\" />\n",
       "  <line x1=\"32\" y1=\"22\" x2=\"57\" y2=\"22\" />\n",
       "  <line x1=\"35\" y1=\"25\" x2=\"61\" y2=\"25\" />\n",
       "  <line x1=\"39\" y1=\"29\" x2=\"64\" y2=\"29\" />\n",
       "  <line x1=\"43\" y1=\"33\" x2=\"68\" y2=\"33\" />\n",
       "  <line x1=\"47\" y1=\"37\" x2=\"72\" y2=\"37\" />\n",
       "  <line x1=\"50\" y1=\"40\" x2=\"76\" y2=\"40\" />\n",
       "  <line x1=\"54\" y1=\"44\" x2=\"80\" y2=\"44\" />\n",
       "  <line x1=\"58\" y1=\"48\" x2=\"83\" y2=\"48\" />\n",
       "  <line x1=\"62\" y1=\"52\" x2=\"87\" y2=\"52\" />\n",
       "  <line x1=\"65\" y1=\"55\" x2=\"91\" y2=\"55\" />\n",
       "  <line x1=\"69\" y1=\"59\" x2=\"94\" y2=\"59\" />\n",
       "  <line x1=\"73\" y1=\"63\" x2=\"98\" y2=\"63\" />\n",
       "  <line x1=\"76\" y1=\"66\" x2=\"102\" y2=\"66\" />\n",
       "  <line x1=\"80\" y1=\"70\" x2=\"106\" y2=\"70\" style=\"stroke-width:2\" />\n",
       "\n",
       "  <!-- Vertical lines -->\n",
       "  <line x1=\"10\" y1=\"0\" x2=\"80\" y2=\"70\" style=\"stroke-width:2\" />\n",
       "  <line x1=\"35\" y1=\"0\" x2=\"106\" y2=\"70\" style=\"stroke-width:2\" />\n",
       "\n",
       "  <!-- Colored Rectangle -->\n",
       "  <polygon points=\"10.0,0.0 35.41261651458248,0.0 106.00085180870013,70.58823529411765 80.58823529411765,70.58823529411765\" style=\"fill:#8B4903A0;stroke-width:0\"/>\n",
       "\n",
       "  <!-- Horizontal lines -->\n",
       "  <line x1=\"80\" y1=\"70\" x2=\"106\" y2=\"70\" style=\"stroke-width:2\" />\n",
       "  <line x1=\"80\" y1=\"96\" x2=\"106\" y2=\"96\" style=\"stroke-width:2\" />\n",
       "\n",
       "  <!-- Vertical lines -->\n",
       "  <line x1=\"80\" y1=\"70\" x2=\"80\" y2=\"96\" style=\"stroke-width:2\" />\n",
       "  <line x1=\"106\" y1=\"70\" x2=\"106\" y2=\"96\" style=\"stroke-width:2\" />\n",
       "\n",
       "  <!-- Colored Rectangle -->\n",
       "  <polygon points=\"80.58823529411765,70.58823529411765 106.00085180870013,70.58823529411765 106.00085180870013,96.00085180870013 80.58823529411765,96.00085180870013\" style=\"fill:#ECB172A0;stroke-width:0\"/>\n",
       "\n",
       "  <!-- Text -->\n",
       "  <text x=\"93.294544\" y=\"116.000852\" font-size=\"1.0rem\" font-weight=\"100\" text-anchor=\"middle\" >44</text>\n",
       "  <text x=\"126.000852\" y=\"83.294544\" font-size=\"1.0rem\" font-weight=\"100\" text-anchor=\"middle\" transform=\"rotate(0,126.000852,83.294544)\">18</text>\n",
       "  <text x=\"35.294118\" y=\"80.706734\" font-size=\"1.0rem\" font-weight=\"100\" text-anchor=\"middle\" transform=\"rotate(45,35.294118,80.706734)\">55115</text>\n",
       "</svg>\n",
       "        </td>\n",
       "    </tr>\n",
       "</table></div></li><li class='xr-var-item'><div class='xr-var-name'><span>crs</span></div><div class='xr-var-dims'>()</div><div class='xr-var-dtype'>int64</div><div class='xr-var-preview xr-preview'>1</div><input id='attrs-47f62d5c-3f99-4b24-9bc8-92447201cae7' class='xr-var-attrs-in' type='checkbox' ><label for='attrs-47f62d5c-3f99-4b24-9bc8-92447201cae7' title='Show/Hide attributes'><svg class='icon xr-icon-file-text2'><use xlink:href='#icon-file-text2'></use></svg></label><input id='data-fc8bb889-d702-48a1-ac0a-c1fcf7d1fd57' class='xr-var-data-in' type='checkbox'><label for='data-fc8bb889-d702-48a1-ac0a-c1fcf7d1fd57' title='Show/Hide data repr'><svg class='icon xr-icon-database'><use xlink:href='#icon-database'></use></svg></label><div class='xr-var-attrs'><dl class='xr-attrs'><dt><span>crs_wkt :</span></dt><dd>GEOGCRS[&quot;WGS 84&quot;,ENSEMBLE[&quot;World Geodetic System 1984 ensemble&quot;,MEMBER[&quot;World Geodetic System 1984 (Transit)&quot;],MEMBER[&quot;World Geodetic System 1984 (G730)&quot;],MEMBER[&quot;World Geodetic System 1984 (G873)&quot;],MEMBER[&quot;World Geodetic System 1984 (G1150)&quot;],MEMBER[&quot;World Geodetic System 1984 (G1674)&quot;],MEMBER[&quot;World Geodetic System 1984 (G1762)&quot;],MEMBER[&quot;World Geodetic System 1984 (G2139)&quot;],ELLIPSOID[&quot;WGS 84&quot;,6378137,298.257223563,LENGTHUNIT[&quot;metre&quot;,1]],ENSEMBLEACCURACY[2.0]],PRIMEM[&quot;Greenwich&quot;,0,ANGLEUNIT[&quot;degree&quot;,0.0174532925199433]],CS[ellipsoidal,2],AXIS[&quot;geodetic latitude (Lat)&quot;,north,ORDER[1],ANGLEUNIT[&quot;degree&quot;,0.0174532925199433]],AXIS[&quot;geodetic longitude (Lon)&quot;,east,ORDER[2],ANGLEUNIT[&quot;degree&quot;,0.0174532925199433]],USAGE[SCOPE[&quot;Horizontal component of 3D system.&quot;],AREA[&quot;World.&quot;],BBOX[-90,-180,90,180]],ID[&quot;EPSG&quot;,4326]]</dd><dt><span>semi_major_axis :</span></dt><dd>6378137.0</dd><dt><span>semi_minor_axis :</span></dt><dd>6356752.314245179</dd><dt><span>inverse_flattening :</span></dt><dd>298.257223563</dd><dt><span>reference_ellipsoid_name :</span></dt><dd>WGS 84</dd><dt><span>longitude_of_prime_meridian :</span></dt><dd>0.0</dd><dt><span>prime_meridian_name :</span></dt><dd>Greenwich</dd><dt><span>geographic_crs_name :</span></dt><dd>WGS 84</dd><dt><span>horizontal_datum_name :</span></dt><dd>World Geodetic System 1984 ensemble</dd><dt><span>grid_mapping_name :</span></dt><dd>latitude_longitude</dd></dl></div><div class='xr-var-data'><pre>array(1)</pre></div></li></ul></div></li><li class='xr-section-item'><input id='section-c27e9140-5182-4e73-a692-122b5fd64151' class='xr-section-summary-in' type='checkbox'  ><label for='section-c27e9140-5182-4e73-a692-122b5fd64151' class='xr-section-summary' >Indexes: <span>(3)</span></label><div class='xr-section-inline-details'></div><div class='xr-section-details'><ul class='xr-var-list'><li class='xr-var-item'><div class='xr-index-name'><div>lat</div></div><div class='xr-index-preview'>PandasIndex</div><div></div><input id='index-11b22770-c53b-4918-9a21-9f1a5e79b7a2' class='xr-index-data-in' type='checkbox'/><label for='index-11b22770-c53b-4918-9a21-9f1a5e79b7a2' title='Show/Hide index repr'><svg class='icon xr-icon-database'><use xlink:href='#icon-database'></use></svg></label><div class='xr-index-data'><pre>PandasIndex(Index([ 49.29066848754883, 49.207340240478516,  49.12400817871094,\n",
       "       49.040679931640625,  48.95735168457031, 48.874019622802734,\n",
       "        48.79069137573242, 48.707359313964844,  48.62403106689453,\n",
       "        48.54069900512695,  48.45737075805664,  48.37403869628906,\n",
       "        48.29071044921875,  48.20737838745117,  48.12405014038086,\n",
       "        48.04072189331055,  47.95738983154297, 47.874061584472656],\n",
       "      dtype=&#x27;float32&#x27;, name=&#x27;lat&#x27;))</pre></div></li><li class='xr-var-item'><div class='xr-index-name'><div>lon</div></div><div class='xr-index-preview'>PandasIndex</div><div></div><input id='index-79b1cee6-72f9-48f5-9e8d-03327378f122' class='xr-index-data-in' type='checkbox'/><label for='index-79b1cee6-72f9-48f5-9e8d-03327378f122' title='Show/Hide index repr'><svg class='icon xr-icon-database'><use xlink:href='#icon-database'></use></svg></label><div class='xr-index-data'><pre>PandasIndex(Index([-67.71273040771484, -67.62940216064453, -67.54606628417969,\n",
       "       -67.46273803710938, -67.37940979003906, -67.29608154296875,\n",
       "       -67.21275329589844,  -67.1294174194336, -67.04608917236328,\n",
       "       -66.96276092529297, -66.87943267822266, -66.79609680175781,\n",
       "        -66.7127685546875, -66.62944030761719, -66.54611206054688,\n",
       "       -66.46278381347656, -66.37944793701172,  -66.2961196899414,\n",
       "        -66.2127914428711, -66.12946319580078, -66.04612731933594,\n",
       "       -65.96279907226562, -65.87947082519531,   -65.796142578125,\n",
       "       -65.71280670166016, -65.62947845458984, -65.54615020751953,\n",
       "       -65.46282196044922,  -65.3794937133789, -65.29615783691406,\n",
       "       -65.21282958984375, -65.12950134277344, -65.04617309570312,\n",
       "       -64.96283721923828, -64.87950897216797, -64.79618072509766,\n",
       "       -64.71285247802734,  -64.6295166015625, -64.54618835449219,\n",
       "       -64.46286010742188, -64.37953186035156, -64.29620361328125,\n",
       "        -64.2128677368164,  -64.1295394897461],\n",
       "      dtype=&#x27;float32&#x27;, name=&#x27;lon&#x27;))</pre></div></li><li class='xr-var-item'><div class='xr-index-name'><div>time</div></div><div class='xr-index-preview'>PandasIndex</div><div></div><input id='index-a30dec6d-d95f-4f24-96d3-0ae496dc7e52' class='xr-index-data-in' type='checkbox'/><label for='index-a30dec6d-d95f-4f24-96d3-0ae496dc7e52' title='Show/Hide index repr'><svg class='icon xr-icon-database'><use xlink:href='#icon-database'></use></svg></label><div class='xr-index-data'><pre>PandasIndex(CFTimeIndex([1950-01-01 00:00:00, 1950-01-02 00:00:00, 1950-01-03 00:00:00,\n",
       "             1950-01-04 00:00:00, 1950-01-05 00:00:00, 1950-01-06 00:00:00,\n",
       "             1950-01-07 00:00:00, 1950-01-08 00:00:00, 1950-01-09 00:00:00,\n",
       "             1950-01-10 00:00:00,\n",
       "             ...\n",
       "             2100-12-22 00:00:00, 2100-12-23 00:00:00, 2100-12-24 00:00:00,\n",
       "             2100-12-25 00:00:00, 2100-12-26 00:00:00, 2100-12-27 00:00:00,\n",
       "             2100-12-28 00:00:00, 2100-12-29 00:00:00, 2100-12-30 00:00:00,\n",
       "             2100-12-31 00:00:00],\n",
       "            dtype=&#x27;object&#x27;, length=55115, calendar=&#x27;noleap&#x27;, freq=&#x27;D&#x27;))</pre></div></li></ul></div></li><li class='xr-section-item'><input id='section-4b6b12a6-5451-4430-ac7b-524284f3d921' class='xr-section-summary-in' type='checkbox'  ><label for='section-4b6b12a6-5451-4430-ac7b-524284f3d921' class='xr-section-summary' >Attributes: <span>(27)</span></label><div class='xr-section-inline-details'></div><div class='xr-section-details'><dl class='xr-attrs'><dt><span>Conventions :</span></dt><dd>CF-1.5</dd><dt><span>title :</span></dt><dd>Ouranos standard ensemble of bias-adjusted climate scenarios version 1.0 (cb-oura-1.0)</dd><dt><span>history :</span></dt><dd>2011-06-01T01:08:07Z CMOR rewrote data to comply with CF standards and CMIP5 requirements.\n",
       "2016-01-18T18:16:47: Interpolate to nrcan_livneh grid.\n",
       "2016-02-10T09:50:14: Bias correction using nrcan_livneh.</dd><dt><span>institution :</span></dt><dd>Ouranos Consortium on Regional Climatology and Adaptation to Climate Change</dd><dt><span>source :</span></dt><dd>NorESM1-M 2011  atmosphere: CAM-Oslo (CAM4-Oslo-noresm-ver1_cmip5-r112, f19L26);  ocean: MICOM (MICOM-noresm-ver1_cmip5-r112, gx1v6L53);  sea ice: CICE (CICE4-noresm-ver1_cmip5-r112);  land: CLM (CLM4-noresm-ver1_cmip5-r112)\n",
       "30-day moving window 50-bins quantile mapping with detrending.</dd><dt><span>driving_experiment :</span></dt><dd>historical,rcp85</dd><dt><span>institute_id :</span></dt><dd>Ouranos</dd><dt><span>dataset_id :</span></dt><dd>cb-oura-1.0</dd><dt><span>type :</span></dt><dd>GCM</dd><dt><span>processing :</span></dt><dd>bias_adjusted</dd><dt><span>dataset_description :</span></dt><dd>https://www.ouranos.ca/publication-scientifique/FicheLoganGauvin2016_EN.pdf</dd><dt><span>abstract :</span></dt><dd>In order to satisfy growing demand and ensure the availability of climate scenarios that meet the needs of vulnerability, impact and adaptation (VIA) studies, a standard ensemble of bias-adjusted climate scenarios has been produced. Resulting climate scenarios are constructed using outputs of 11 individual global climate models and two future greenhouse gas emissions scenarios (RCP 4.5 and RCP 8.5) to cover the range of plausible of future changes and post-processed to refine the spatial scales and correct biases. The selection of a subset of simulations from the entire CMIP5 ensemble was carried out using a cluster analysis. The selection criteria include projected monthly changes in maximum and minimum temperatures as well as in total precipitations for two future horizons (2041 to 2070 and 2071 to 2100)</dd><dt><span>driving_model_id :</span></dt><dd>NorESM1-M</dd><dt><span>bias_adjustment_method :</span></dt><dd>1D-Quantile Mapping</dd><dt><span>bias_adjustment_reference :</span></dt><dd>http://doi.org/10.1002/2015JD023890</dd><dt><span>project_id :</span></dt><dd>CMIP5</dd><dt><span>license_type :</span></dt><dd>permissive non-commercial</dd><dt><span>license :</span></dt><dd>Creative Commons Attribution-NonCommercial 4.0 International Public License: https://creativecommons.org/licenses/by-nc/4.0/legalcode</dd><dt><span>terms_of_use :</span></dt><dd>In addition to the provided licence, the data used for the realization of climate scenarios are subject to the conditions of use of each organization that is the source of this data, and that you must respect. For more details, please refer to:https://pcmdi.llnl.gov/mips/cmip5/terms-of-use.html</dd><dt><span>attribution :</span></dt><dd>Use of this dataset should be acknowledged as &#x27;Data produced and provided by the Ouranos Consortium on Regional Climatology and Adaptation to Climate Change&#x27;. Furthermore, the modeling groups from which the bias-adjusted climate scenarios were consrtucted must also be acknowledged, please refer to: The Coupled Model Intercomparison Project https://pcmdi.llnl.gov/mips/cmip5/citation.html</dd><dt><span>frequency :</span></dt><dd>day</dd><dt><span>modeling_realm :</span></dt><dd>atmos</dd><dt><span>target_dataset :</span></dt><dd>CANADA : ANUSPLIN interpolated Canada daily 300 arc second climate grids; USA : Livneh_et_al_2013</dd><dt><span>target_dataset_references :</span></dt><dd>CANADA : https://doi.org/10.1175/2011BAMS3132.1; USA : https://doi.org/10.1175/JCLI-D-12-00508.1</dd><dt><span>driving_institution :</span></dt><dd>Norwegian Climate Centre</dd><dt><span>driving_institute_id :</span></dt><dd>NCC</dd><dt><span>crs :</span></dt><dd>EPSG:4326</dd></dl></div></li></ul></div></div>"
      ],
      "text/plain": [
       "<xarray.Dataset> Size: 524MB\n",
       "Dimensions:  (lat: 18, lon: 44, time: 55115)\n",
       "Coordinates:\n",
       "  * lat      (lat) float32 72B 49.29 49.21 49.12 49.04 ... 48.04 47.96 47.87\n",
       "  * lon      (lon) float32 176B -67.71 -67.63 -67.55 ... -64.3 -64.21 -64.13\n",
       "  * time     (time) object 441kB 1950-01-01 00:00:00 ... 2100-12-31 00:00:00\n",
       "Data variables:\n",
       "    tasmin   (time, lat, lon) float32 175MB dask.array<chunksize=(256, 18, 44), meta=np.ndarray>\n",
       "    tasmax   (time, lat, lon) float32 175MB dask.array<chunksize=(256, 18, 44), meta=np.ndarray>\n",
       "    pr       (time, lat, lon) float32 175MB dask.array<chunksize=(256, 18, 44), meta=np.ndarray>\n",
       "    crs      int64 8B 1\n",
       "Attributes: (12/27)\n",
       "    Conventions:                CF-1.5\n",
       "    title:                      Ouranos standard ensemble of bias-adjusted cl...\n",
       "    history:                    2011-06-01T01:08:07Z CMOR rewrote data to com...\n",
       "    institution:                Ouranos Consortium on Regional Climatology an...\n",
       "    source:                     NorESM1-M 2011  atmosphere: CAM-Oslo (CAM4-Os...\n",
       "    driving_experiment:         historical,rcp85\n",
       "    ...                         ...\n",
       "    modeling_realm:             atmos\n",
       "    target_dataset:             CANADA : ANUSPLIN interpolated Canada daily 3...\n",
       "    target_dataset_references:  CANADA : https://doi.org/10.1175/2011BAMS3132...\n",
       "    driving_institution:        Norwegian Climate Centre\n",
       "    driving_institute_id:       NCC\n",
       "    crs:                        EPSG:4326"
      ]
     },
     "metadata": {},
     "output_type": "display_data"
    },
    {
     "data": {
      "image/png": "[encoded data removed]",
      "text/plain": [
       "<Figure size 1000x400 with 2 Axes>"
      ]
     },
     "metadata": {},
     "output_type": "display_data"
    }
   ],
   "source": [
    "import os\n",
    "\n",
    "os.environ[\"USE_PYGEOS\"] = \"0\"  # force use Shapely with GeoPandas\n",
    "\n",
    "import warnings\n",
    "\n",
    "import numba\n",
    "\n",
    "warnings.simplefilter(\"ignore\", category=numba.core.errors.NumbaDeprecationWarning)\n",
    "\n",
    "import geopandas as gpd\n",
    "import matplotlib.pyplot as plt\n",
    "import xarray as xr\n",
    "from clisops.core import subset\n",
    "from dask.diagnostics import ProgressBar\n",
    "from siphon.catalog import TDSCatalog\n",
    "from xclim import atmos\n",
    "\n",
    "warnings.simplefilter(\"ignore\")\n",
    "# TODO change address\n",
    "url = \"https://pavics.ouranos.ca/twitcher/ows/proxy/thredds/catalog/datasets/simulations/bias_adjusted/cmip5/ouranos/cb-oura-1.0/catalog.xml\"  # TEST_USE_PROD_DATA\n",
    "\n",
    "# Create Catalog\n",
    "cat = TDSCatalog(url)\n",
    "\n",
    "# Subset over the Gaspé peninsula in eastern Quebec\n",
    "gaspe = gpd.GeoDataFrame.from_file(\n",
    "    \"/notebook_dir/pavics-homepage/tutorial_data/gaspesie_mrc.geojson\"\n",
    ")\n",
    "ds = subset.subset_shape(\n",
    "    xr.open_dataset(cat.datasets[0].access_urls[\"OPENDAP\"], chunks=dict(time=256)),\n",
    "    shape=gpd.GeoDataFrame(geometry=gaspe.buffer(0.05)),\n",
    ")\n",
    "\n",
    "# What we see here is only a representation of the full content, the entire data set hasn't been loaded.\n",
    "display(ds)\n",
    "\n",
    "# plot of single day tasmin\n",
    "a = ds.tasmin.isel(time=0).plot(figsize=(10, 4))"
   ]
  },
  {
   "cell_type": "markdown",
   "metadata": {},
   "source": [
    "<a id='climcalc'></a>\n",
    "## Climate indicator calculation\n",
    "The `atmos` module allows us to easily calculate a large number of climate indicators. For example we can determine the projected the number of days with maximum temperature above a threshold for our test dataset using the `atmos.tx_days_above`.  The vast majority of `xclim.atmos` calculations employ a resample frequency parameter `freq` trivializing the calculation of yearly (`'YS'`), monthly (`'MS'`), seasonal (`'QS-DEC'`) or other frequencies following pandas <a href=\"https://pandas.pydata.org/pandas-docs/stable/user_guide/timeseries.html#offset-aliases\" target=\"_blank\">resampling offsets.</a>\n",
    "\n",
    "\n",
    "*[return to top of page](#top1)*"
   ]
  },
  {
   "cell_type": "code",
   "execution_count": 2,
   "metadata": {
    "execution": {
     "iopub.execute_input": "2024-05-10T03:11:53.924098Z",
     "iopub.status.busy": "2024-05-10T03:11:53.923306Z",
     "iopub.status.idle": "2024-05-10T03:12:08.771782Z",
     "shell.execute_reply": "2024-05-10T03:12:08.770942Z"
    },
    "tags": []
   },
   "outputs": [
    {
     "name": "stdout",
     "output_type": "stream",
     "text": [
      "calculating yearly output using freq=\"YS\"\n"
     ]
    },
    {
     "name": "stdout",
     "output_type": "stream",
     "text": [
      "\r",
      "[                                        ] | 0% Completed | 298.58 us"
     ]
    },
    {
     "name": "stdout",
     "output_type": "stream",
     "text": [
      "\r",
      "[                                        ] | 0% Completed | 127.86 ms"
     ]
    },
    {
     "name": "stdout",
     "output_type": "stream",
     "text": [
      "\r",
      "[                                        ] | 0% Completed | 228.69 ms"
     ]
    },
    {
     "name": "stdout",
     "output_type": "stream",
     "text": [
      "\r",
      "[                                        ] | 1% Completed | 330.75 ms"
     ]
    },
    {
     "name": "stdout",
     "output_type": "stream",
     "text": [
      "\r",
      "[                                        ] | 2% Completed | 432.24 ms"
     ]
    },
    {
     "name": "stdout",
     "output_type": "stream",
     "text": [
      "\r",
      "[#                                       ] | 3% Completed | 533.42 ms"
     ]
    },
    {
     "name": "stdout",
     "output_type": "stream",
     "text": [
      "\r",
      "[#                                       ] | 4% Completed | 635.30 ms"
     ]
    },
    {
     "name": "stdout",
     "output_type": "stream",
     "text": [
      "\r",
      "[#                                       ] | 4% Completed | 736.71 ms"
     ]
    },
    {
     "name": "stdout",
     "output_type": "stream",
     "text": [
      "\r",
      "[##                                      ] | 5% Completed | 838.65 ms"
     ]
    },
    {
     "name": "stdout",
     "output_type": "stream",
     "text": [
      "\r",
      "[##                                      ] | 6% Completed | 940.33 ms"
     ]
    },
    {
     "name": "stdout",
     "output_type": "stream",
     "text": [
      "\r",
      "[###                                     ] | 7% Completed | 1.04 s"
     ]
    },
    {
     "name": "stdout",
     "output_type": "stream",
     "text": [
      "\r",
      "[###                                     ] | 8% Completed | 1.14 s"
     ]
    },
    {
     "name": "stdout",
     "output_type": "stream",
     "text": [
      "\r",
      "[###                                     ] | 9% Completed | 1.24 s"
     ]
    },
    {
     "name": "stdout",
     "output_type": "stream",
     "text": [
      "\r",
      "[####                                    ] | 10% Completed | 1.35 s"
     ]
    },
    {
     "name": "stdout",
     "output_type": "stream",
     "text": [
      "\r",
      "[####                                    ] | 11% Completed | 1.45 s"
     ]
    },
    {
     "name": "stdout",
     "output_type": "stream",
     "text": [
      "\r",
      "[####                                    ] | 12% Completed | 1.55 s"
     ]
    },
    {
     "name": "stdout",
     "output_type": "stream",
     "text": [
      "\r",
      "[#####                                   ] | 13% Completed | 1.65 s"
     ]
    },
    {
     "name": "stdout",
     "output_type": "stream",
     "text": [
      "\r",
      "[#####                                   ] | 14% Completed | 1.75 s"
     ]
    },
    {
     "name": "stdout",
     "output_type": "stream",
     "text": [
      "\r",
      "[######                                  ] | 15% Completed | 1.85 s"
     ]
    },
    {
     "name": "stdout",
     "output_type": "stream",
     "text": [
      "\r",
      "[######                                  ] | 16% Completed | 1.95 s"
     ]
    },
    {
     "name": "stdout",
     "output_type": "stream",
     "text": [
      "\r",
      "[#######                                 ] | 18% Completed | 2.05 s"
     ]
    },
    {
     "name": "stdout",
     "output_type": "stream",
     "text": [
      "\r",
      "[#######                                 ] | 19% Completed | 2.16 s"
     ]
    },
    {
     "name": "stdout",
     "output_type": "stream",
     "text": [
      "\r",
      "[########                                ] | 20% Completed | 2.26 s"
     ]
    },
    {
     "name": "stdout",
     "output_type": "stream",
     "text": [
      "\r",
      "[########                                ] | 21% Completed | 2.36 s"
     ]
    },
    {
     "name": "stdout",
     "output_type": "stream",
     "text": [
      "\r",
      "[#########                               ] | 22% Completed | 2.46 s"
     ]
    },
    {
     "name": "stdout",
     "output_type": "stream",
     "text": [
      "\r",
      "[#########                               ] | 24% Completed | 2.56 s"
     ]
    },
    {
     "name": "stdout",
     "output_type": "stream",
     "text": [
      "\r",
      "[#########                               ] | 24% Completed | 2.66 s"
     ]
    },
    {
     "name": "stdout",
     "output_type": "stream",
     "text": [
      "\r",
      "[##########                              ] | 26% Completed | 2.76 s"
     ]
    },
    {
     "name": "stdout",
     "output_type": "stream",
     "text": [
      "\r",
      "[##########                              ] | 27% Completed | 2.86 s"
     ]
    },
    {
     "name": "stdout",
     "output_type": "stream",
     "text": [
      "\r",
      "[###########                             ] | 28% Completed | 2.96 s"
     ]
    },
    {
     "name": "stdout",
     "output_type": "stream",
     "text": [
      "\r",
      "[###########                             ] | 29% Completed | 3.06 s"
     ]
    },
    {
     "name": "stdout",
     "output_type": "stream",
     "text": [
      "\r",
      "[############                            ] | 30% Completed | 3.17 s"
     ]
    },
    {
     "name": "stdout",
     "output_type": "stream",
     "text": [
      "\r",
      "[############                            ] | 31% Completed | 3.27 s"
     ]
    },
    {
     "name": "stdout",
     "output_type": "stream",
     "text": [
      "\r",
      "[############                            ] | 32% Completed | 3.37 s"
     ]
    },
    {
     "name": "stdout",
     "output_type": "stream",
     "text": [
      "\r",
      "[#############                           ] | 33% Completed | 3.47 s"
     ]
    },
    {
     "name": "stdout",
     "output_type": "stream",
     "text": [
      "\r",
      "[#############                           ] | 34% Completed | 3.57 s"
     ]
    },
    {
     "name": "stdout",
     "output_type": "stream",
     "text": [
      "\r",
      "[##############                          ] | 35% Completed | 3.67 s"
     ]
    },
    {
     "name": "stdout",
     "output_type": "stream",
     "text": [
      "\r",
      "[##############                          ] | 36% Completed | 3.77 s"
     ]
    },
    {
     "name": "stdout",
     "output_type": "stream",
     "text": [
      "\r",
      "[##############                          ] | 37% Completed | 3.87 s"
     ]
    },
    {
     "name": "stdout",
     "output_type": "stream",
     "text": [
      "\r",
      "[###############                         ] | 38% Completed | 3.97 s"
     ]
    },
    {
     "name": "stdout",
     "output_type": "stream",
     "text": [
      "\r",
      "[###############                         ] | 39% Completed | 4.08 s"
     ]
    },
    {
     "name": "stdout",
     "output_type": "stream",
     "text": [
      "\r",
      "[################                        ] | 40% Completed | 4.18 s"
     ]
    },
    {
     "name": "stdout",
     "output_type": "stream",
     "text": [
      "\r",
      "[################                        ] | 41% Completed | 4.28 s"
     ]
    },
    {
     "name": "stdout",
     "output_type": "stream",
     "text": [
      "\r",
      "[################                        ] | 42% Completed | 4.38 s"
     ]
    },
    {
     "name": "stdout",
     "output_type": "stream",
     "text": [
      "\r",
      "[#################                       ] | 43% Completed | 4.48 s"
     ]
    },
    {
     "name": "stdout",
     "output_type": "stream",
     "text": [
      "\r",
      "[#################                       ] | 44% Completed | 4.58 s"
     ]
    },
    {
     "name": "stdout",
     "output_type": "stream",
     "text": [
      "\r",
      "[##################                      ] | 45% Completed | 4.68 s"
     ]
    },
    {
     "name": "stdout",
     "output_type": "stream",
     "text": [
      "\r",
      "[##################                      ] | 46% Completed | 4.79 s"
     ]
    },
    {
     "name": "stdout",
     "output_type": "stream",
     "text": [
      "\r",
      "[##################                      ] | 46% Completed | 4.89 s"
     ]
    },
    {
     "name": "stdout",
     "output_type": "stream",
     "text": [
      "\r",
      "[###################                     ] | 47% Completed | 4.99 s"
     ]
    },
    {
     "name": "stdout",
     "output_type": "stream",
     "text": [
      "\r",
      "[###################                     ] | 49% Completed | 5.09 s"
     ]
    },
    {
     "name": "stdout",
     "output_type": "stream",
     "text": [
      "\r",
      "[####################                    ] | 51% Completed | 5.19 s"
     ]
    },
    {
     "name": "stdout",
     "output_type": "stream",
     "text": [
      "\r",
      "[#####################                   ] | 53% Completed | 5.29 s"
     ]
    },
    {
     "name": "stdout",
     "output_type": "stream",
     "text": [
      "\r",
      "[######################                  ] | 55% Completed | 5.39 s"
     ]
    },
    {
     "name": "stdout",
     "output_type": "stream",
     "text": [
      "\r",
      "[######################                  ] | 56% Completed | 5.49 s"
     ]
    },
    {
     "name": "stdout",
     "output_type": "stream",
     "text": [
      "\r",
      "[#######################                 ] | 58% Completed | 5.60 s"
     ]
    },
    {
     "name": "stdout",
     "output_type": "stream",
     "text": [
      "\r",
      "[#######################                 ] | 59% Completed | 5.70 s"
     ]
    },
    {
     "name": "stdout",
     "output_type": "stream",
     "text": [
      "\r",
      "[########################                ] | 61% Completed | 5.80 s"
     ]
    },
    {
     "name": "stdout",
     "output_type": "stream",
     "text": [
      "\r",
      "[#########################               ] | 62% Completed | 5.90 s"
     ]
    },
    {
     "name": "stdout",
     "output_type": "stream",
     "text": [
      "\r",
      "[#########################               ] | 64% Completed | 6.00 s"
     ]
    },
    {
     "name": "stdout",
     "output_type": "stream",
     "text": [
      "\r",
      "[##########################              ] | 65% Completed | 6.10 s"
     ]
    },
    {
     "name": "stdout",
     "output_type": "stream",
     "text": [
      "\r",
      "[##########################              ] | 67% Completed | 6.20 s"
     ]
    },
    {
     "name": "stdout",
     "output_type": "stream",
     "text": [
      "\r",
      "[###########################             ] | 68% Completed | 6.30 s"
     ]
    },
    {
     "name": "stdout",
     "output_type": "stream",
     "text": [
      "\r",
      "[###########################             ] | 69% Completed | 6.41 s"
     ]
    },
    {
     "name": "stdout",
     "output_type": "stream",
     "text": [
      "\r",
      "[############################            ] | 71% Completed | 6.51 s"
     ]
    },
    {
     "name": "stdout",
     "output_type": "stream",
     "text": [
      "\r",
      "[#############################           ] | 72% Completed | 6.61 s"
     ]
    },
    {
     "name": "stdout",
     "output_type": "stream",
     "text": [
      "\r",
      "[#############################           ] | 73% Completed | 6.71 s"
     ]
    },
    {
     "name": "stdout",
     "output_type": "stream",
     "text": [
      "\r",
      "[##############################          ] | 75% Completed | 6.81 s"
     ]
    },
    {
     "name": "stdout",
     "output_type": "stream",
     "text": [
      "\r",
      "[##############################          ] | 76% Completed | 6.91 s"
     ]
    },
    {
     "name": "stdout",
     "output_type": "stream",
     "text": [
      "\r",
      "[##############################          ] | 77% Completed | 7.02 s"
     ]
    },
    {
     "name": "stdout",
     "output_type": "stream",
     "text": [
      "\r",
      "[###############################         ] | 78% Completed | 7.12 s"
     ]
    },
    {
     "name": "stdout",
     "output_type": "stream",
     "text": [
      "\r",
      "[###############################         ] | 79% Completed | 7.22 s"
     ]
    },
    {
     "name": "stdout",
     "output_type": "stream",
     "text": [
      "\r",
      "[################################        ] | 80% Completed | 7.32 s"
     ]
    },
    {
     "name": "stdout",
     "output_type": "stream",
     "text": [
      "\r",
      "[################################        ] | 81% Completed | 7.42 s"
     ]
    },
    {
     "name": "stdout",
     "output_type": "stream",
     "text": [
      "\r",
      "[#################################       ] | 82% Completed | 7.52 s"
     ]
    },
    {
     "name": "stdout",
     "output_type": "stream",
     "text": [
      "\r",
      "[#################################       ] | 84% Completed | 7.62 s"
     ]
    },
    {
     "name": "stdout",
     "output_type": "stream",
     "text": [
      "\r",
      "[##################################      ] | 85% Completed | 7.72 s"
     ]
    },
    {
     "name": "stdout",
     "output_type": "stream",
     "text": [
      "\r",
      "[##################################      ] | 86% Completed | 7.82 s"
     ]
    },
    {
     "name": "stdout",
     "output_type": "stream",
     "text": [
      "\r",
      "[###################################     ] | 87% Completed | 7.92 s"
     ]
    },
    {
     "name": "stdout",
     "output_type": "stream",
     "text": [
      "\r",
      "[###################################     ] | 88% Completed | 8.03 s"
     ]
    },
    {
     "name": "stdout",
     "output_type": "stream",
     "text": [
      "\r",
      "[###################################     ] | 89% Completed | 8.13 s"
     ]
    },
    {
     "name": "stdout",
     "output_type": "stream",
     "text": [
      "\r",
      "[####################################    ] | 90% Completed | 8.23 s"
     ]
    },
    {
     "name": "stdout",
     "output_type": "stream",
     "text": [
      "\r",
      "[####################################    ] | 91% Completed | 8.33 s"
     ]
    },
    {
     "name": "stdout",
     "output_type": "stream",
     "text": [
      "\r",
      "[####################################    ] | 92% Completed | 8.43 s"
     ]
    },
    {
     "name": "stdout",
     "output_type": "stream",
     "text": [
      "\r",
      "[#####################################   ] | 93% Completed | 8.53 s"
     ]
    },
    {
     "name": "stdout",
     "output_type": "stream",
     "text": [
      "\r",
      "[#####################################   ] | 94% Completed | 8.63 s"
     ]
    },
    {
     "name": "stdout",
     "output_type": "stream",
     "text": [
      "\r",
      "[######################################  ] | 95% Completed | 8.73 s"
     ]
    },
    {
     "name": "stdout",
     "output_type": "stream",
     "text": [
      "\r",
      "[######################################  ] | 96% Completed | 8.83 s"
     ]
    },
    {
     "name": "stdout",
     "output_type": "stream",
     "text": [
      "\r",
      "[######################################  ] | 97% Completed | 8.93 s"
     ]
    },
    {
     "name": "stdout",
     "output_type": "stream",
     "text": [
      "\r",
      "[####################################### ] | 98% Completed | 9.04 s"
     ]
    },
    {
     "name": "stdout",
     "output_type": "stream",
     "text": [
      "\r",
      "[####################################### ] | 99% Completed | 9.14 s"
     ]
    },
    {
     "name": "stdout",
     "output_type": "stream",
     "text": [
      "\r",
      "[########################################] | 100% Completed | 9.24 s"
     ]
    },
    {
     "name": "stdout",
     "output_type": "stream",
     "text": [
      "\n"
     ]
    },
    {
     "name": "stdout",
     "output_type": "stream",
     "text": [
      "\r",
      "[                                        ] | 0% Completed | 281.71 us"
     ]
    },
    {
     "name": "stdout",
     "output_type": "stream",
     "text": [
      "\r",
      "[#                                       ] | 3% Completed | 124.67 ms"
     ]
    },
    {
     "name": "stdout",
     "output_type": "stream",
     "text": [
      "\r",
      "[###                                     ] | 7% Completed | 225.38 ms"
     ]
    },
    {
     "name": "stdout",
     "output_type": "stream",
     "text": [
      "\r",
      "[#####                                   ] | 12% Completed | 326.83 ms"
     ]
    },
    {
     "name": "stdout",
     "output_type": "stream",
     "text": [
      "\r",
      "[######                                  ] | 17% Completed | 427.80 ms"
     ]
    },
    {
     "name": "stdout",
     "output_type": "stream",
     "text": [
      "\r",
      "[########                                ] | 21% Completed | 528.92 ms"
     ]
    },
    {
     "name": "stdout",
     "output_type": "stream",
     "text": [
      "\r",
      "[##########                              ] | 26% Completed | 629.75 ms"
     ]
    },
    {
     "name": "stdout",
     "output_type": "stream",
     "text": [
      "\r",
      "[############                            ] | 30% Completed | 730.69 ms"
     ]
    },
    {
     "name": "stdout",
     "output_type": "stream",
     "text": [
      "\r",
      "[#############                           ] | 33% Completed | 832.34 ms"
     ]
    },
    {
     "name": "stdout",
     "output_type": "stream",
     "text": [
      "\r",
      "[###############                         ] | 39% Completed | 934.00 ms"
     ]
    },
    {
     "name": "stdout",
     "output_type": "stream",
     "text": [
      "\r",
      "[#################                       ] | 44% Completed | 1.04 s"
     ]
    },
    {
     "name": "stdout",
     "output_type": "stream",
     "text": [
      "\r",
      "[###################                     ] | 48% Completed | 1.14 s"
     ]
    },
    {
     "name": "stdout",
     "output_type": "stream",
     "text": [
      "\r",
      "[####################                    ] | 52% Completed | 1.24 s"
     ]
    },
    {
     "name": "stdout",
     "output_type": "stream",
     "text": [
      "\r",
      "[######################                  ] | 56% Completed | 1.34 s"
     ]
    },
    {
     "name": "stdout",
     "output_type": "stream",
     "text": [
      "\r",
      "[#######################                 ] | 58% Completed | 1.44 s"
     ]
    },
    {
     "name": "stdout",
     "output_type": "stream",
     "text": [
      "\r",
      "[##########################              ] | 66% Completed | 1.54 s"
     ]
    },
    {
     "name": "stdout",
     "output_type": "stream",
     "text": [
      "\r",
      "[#############################           ] | 74% Completed | 1.64 s"
     ]
    },
    {
     "name": "stdout",
     "output_type": "stream",
     "text": [
      "\r",
      "[#################################       ] | 82% Completed | 1.75 s"
     ]
    },
    {
     "name": "stdout",
     "output_type": "stream",
     "text": [
      "\r",
      "[#####################################   ] | 92% Completed | 1.85 s"
     ]
    },
    {
     "name": "stdout",
     "output_type": "stream",
     "text": [
      "\r",
      "[########################################] | 100% Completed | 1.95 s"
     ]
    },
    {
     "name": "stdout",
     "output_type": "stream",
     "text": [
      "\n"
     ]
    },
    {
     "data": {
      "image/png": "[encoded data removed]",
      "text/plain": [
       "<Figure size 2000x400 with 3 Axes>"
      ]
     },
     "metadata": {},
     "output_type": "display_data"
    }
   ],
   "source": [
    "# NBVAL_IGNORE_OUTPUT\n",
    "\n",
    "freq = \"YS\"\n",
    "print(f'calculating yearly output using freq=\"{freq}\"')\n",
    "with ProgressBar():\n",
    "    out = atmos.tx_days_above(\n",
    "        tasmax=ds.tasmax, thresh=\"27 degC\", freq=freq\n",
    "    )  # Yearly frequency\n",
    "\n",
    "    # Average over spatial domain and plot time-series\n",
    "    fig1 = plt.figure(figsize=(20, 4))\n",
    "    plt.subplot(1, 2, 1)\n",
    "    out.mean(dim=[\"lon\", \"lat\"], keep_attrs=True).plot()\n",
    "    plt.title(\"spatial mean\")\n",
    "\n",
    "    # Calculate a 30 year climatology and plot a map\n",
    "    plt.subplot(1, 2, 2)\n",
    "    subset.subset_time(out, start_date=\"1981\", end_date=\"2010\").mean(\n",
    "        dim=\"time\", keep_attrs=True\n",
    "    ).plot()\n",
    "    plt.title(\"1981-2010 mean\")\n",
    "    display()"
   ]
  },
  {
   "cell_type": "markdown",
   "metadata": {},
   "source": [
    "___\n",
    "<a id='missing'></a>\n",
    "### Missing data options\n",
    "Some data sets require consideration of how best to deal with possible missing data in the input time-series. For example, The World Meteorological Organisation recommends that where monthly means are computed from daily values it should be considered missing if either of these two criteria are met:  observations are missing for 11 or more days during the month; observations are missing for a period of 5 or more consecutive days during the month.  Stricter criteria are sometimes used in practice, with a tolerance of 5 missing values or 3 consecutive missing values, or in other cases one may simply wish to use a simple percent threshold demonstrated below.\n",
    "\n",
    "The `xclim.set_options` can be used to choose from a number of <a href=\"https://xclim.readthedocs.io/en/stable/checks.html#missing-values-identification\" target=\"_blank\">missing data options</a>.\n",
    "\n",
    "\n",
    "*[return to top of page](#top1)*"
   ]
  },
  {
   "cell_type": "code",
   "execution_count": 3,
   "metadata": {
    "execution": {
     "iopub.execute_input": "2024-05-10T03:12:08.776242Z",
     "iopub.status.busy": "2024-05-10T03:12:08.775761Z",
     "iopub.status.idle": "2024-05-10T03:12:10.490244Z",
     "shell.execute_reply": "2024-05-10T03:12:10.489414Z"
    }
   },
   "outputs": [
    {
     "data": {
      "image/png": "[encoded data removed]",
      "text/plain": [
       "<Figure size 1500x1000 with 3 Axes>"
      ]
     },
     "metadata": {},
     "output_type": "display_data"
    }
   ],
   "source": [
    "import xclim\n",
    "\n",
    "# Access some station data\n",
    "url = \"https://pavics.ouranos.ca/twitcher/ows/proxy/thredds/dodsC/datasets/station_obs/ECCC_AHCCD_gen3_temperature.ncml\"\n",
    "ds_stat = xr.open_dataset(url, chunks=dict(station=1))\n",
    "istat = 115\n",
    "# Compare use of differernt percent tolerance levels  (tolerance == 0.1)\n",
    "plt.figure(figsize=(15, 10))\n",
    "color = [\"blue\", \"green\", \"orange\"]\n",
    "\n",
    "for i, tol in enumerate([0.25, 0.1, 0.05]):\n",
    "    plt.subplot(3, 1, i + 1)\n",
    "    with xclim.set_options(\n",
    "        check_missing=\"pct\", missing_options={\"pct\": {\"tolerance\": tol}}\n",
    "    ):\n",
    "        # compute yearly max tasmax\n",
    "        tx_mean = xclim.atmos.tx_mean(\n",
    "            tasmax=ds_stat.isel(station=istat).tasmax, freq=\"YS\"\n",
    "        )\n",
    "\n",
    "        tx_mean.plot(\n",
    "            marker=\"o\",\n",
    "            color=color[i],\n",
    "            label=f\"{len(tx_mean.dropna('time').values)} \\\n",
    "                     valid years w/ <={tol*100}% missing data\",\n",
    "        )\n",
    "        plt.title(\"\")\n",
    "        plt.xlabel(\"\")\n",
    "        if i == 0:\n",
    "            name = str(ds_stat.isel(station=istat).station_name.values)\n",
    "            plt.title(f\"{name.capitalize().replace('_',' ')} Station\")\n",
    "\n",
    "        elif i == 2:\n",
    "            plt.xlabel(\"time\")\n",
    "\n",
    "        plt.legend(loc=\"lower right\")"
   ]
  },
  {
   "cell_type": "markdown",
   "metadata": {},
   "source": [
    "<a id='french'></a>\n",
    "### Adding french language metadata fields\n",
    "\n",
    "Climate indicator output can be customized to include additional translated metadata fields. French translations are supported directly while others can be user configured. By setting french language <a href=\"https://xclim.readthedocs.io/en/stable/internationalization.html#\" target=\"_blank\">internationalization</a>  options via `xclim.set_options` we note the additional `description_fr` and `longname_fr` attributes. \n",
    "\n",
    "*[return to top of page](#top1)*"
   ]
  },
  {
   "cell_type": "code",
   "execution_count": 4,
   "metadata": {
    "execution": {
     "iopub.execute_input": "2024-05-10T03:12:10.495619Z",
     "iopub.status.busy": "2024-05-10T03:12:10.494990Z",
     "iopub.status.idle": "2024-05-10T03:12:13.123891Z",
     "shell.execute_reply": "2024-05-10T03:12:13.123020Z"
    }
   },
   "outputs": [
    {
     "data": {
      "text/html": [
       "<div><svg style=\"position: absolute; width: 0; height: 0; overflow: hidden\">\n",
       "<defs>\n",
       "<symbol id=\"icon-database\" viewBox=\"0 0 32 32\">\n",
       "<path d=\"M16 0c-8.837 0-16 2.239-16 5v4c0 2.761 7.163 5 16 5s16-2.239 16-5v-4c0-2.761-7.163-5-16-5z\"></path>\n",
       "<path d=\"M16 17c-8.837 0-16-2.239-16-5v6c0 2.761 7.163 5 16 5s16-2.239 16-5v-6c0 2.761-7.163 5-16 5z\"></path>\n",
       "<path d=\"M16 26c-8.837 0-16-2.239-16-5v6c0 2.761 7.163 5 16 5s16-2.239 16-5v-6c0 2.761-7.163 5-16 5z\"></path>\n",
       "</symbol>\n",
       "<symbol id=\"icon-file-text2\" viewBox=\"0 0 32 32\">\n",
       "<path d=\"M28.681 7.159c-0.694-0.947-1.662-2.053-2.724-3.116s-2.169-2.030-3.116-2.724c-1.612-1.182-2.393-1.319-2.841-1.319h-15.5c-1.378 0-2.5 1.121-2.5 2.5v27c0 1.378 1.122 2.5 2.5 2.5h23c1.378 0 2.5-1.122 2.5-2.5v-19.5c0-0.448-0.137-1.23-1.319-2.841zM24.543 5.457c0.959 0.959 1.712 1.825 2.268 2.543h-4.811v-4.811c0.718 0.556 1.584 1.309 2.543 2.268zM28 29.5c0 0.271-0.229 0.5-0.5 0.5h-23c-0.271 0-0.5-0.229-0.5-0.5v-27c0-0.271 0.229-0.5 0.5-0.5 0 0 15.499-0 15.5 0v7c0 0.552 0.448 1 1 1h7v19.5z\"></path>\n",
       "<path d=\"M23 26h-14c-0.552 0-1-0.448-1-1s0.448-1 1-1h14c0.552 0 1 0.448 1 1s-0.448 1-1 1z\"></path>\n",
       "<path d=\"M23 22h-14c-0.552 0-1-0.448-1-1s0.448-1 1-1h14c0.552 0 1 0.448 1 1s-0.448 1-1 1z\"></path>\n",
       "<path d=\"M23 18h-14c-0.552 0-1-0.448-1-1s0.448-1 1-1h14c0.552 0 1 0.448 1 1s-0.448 1-1 1z\"></path>\n",
       "</symbol>\n",
       "</defs>\n",
       "</svg>\n",
       "<style>/* CSS stylesheet for displaying xarray objects in jupyterlab.\n",
       " *\n",
       " */\n",
       "\n",
       ":root {\n",
       "  --xr-font-color0: var(--jp-content-font-color0, rgba(0, 0, 0, 1));\n",
       "  --xr-font-color2: var(--jp-content-font-color2, rgba(0, 0, 0, 0.54));\n",
       "  --xr-font-color3: var(--jp-content-font-color3, rgba(0, 0, 0, 0.38));\n",
       "  --xr-border-color: var(--jp-border-color2, #e0e0e0);\n",
       "  --xr-disabled-color: var(--jp-layout-color3, #bdbdbd);\n",
       "  --xr-background-color: var(--jp-layout-color0, white);\n",
       "  --xr-background-color-row-even: var(--jp-layout-color1, white);\n",
       "  --xr-background-color-row-odd: var(--jp-layout-color2, #eeeeee);\n",
       "}\n",
       "\n",
       "html[theme=dark],\n",
       "body[data-theme=dark],\n",
       "body.vscode-dark {\n",
       "  --xr-font-color0: rgba(255, 255, 255, 1);\n",
       "  --xr-font-color2: rgba(255, 255, 255, 0.54);\n",
       "  --xr-font-color3: rgba(255, 255, 255, 0.38);\n",
       "  --xr-border-color: #1F1F1F;\n",
       "  --xr-disabled-color: #515151;\n",
       "  --xr-background-color: #111111;\n",
       "  --xr-background-color-row-even: #111111;\n",
       "  --xr-background-color-row-odd: #313131;\n",
       "}\n",
       "\n",
       ".xr-wrap {\n",
       "  display: block !important;\n",
       "  min-width: 300px;\n",
       "  max-width: 700px;\n",
       "}\n",
       "\n",
       ".xr-text-repr-fallback {\n",
       "  /* fallback to plain text repr when CSS is not injected (untrusted notebook) */\n",
       "  display: none;\n",
       "}\n",
       "\n",
       ".xr-header {\n",
       "  padding-top: 6px;\n",
       "  padding-bottom: 6px;\n",
       "  margin-bottom: 4px;\n",
       "  border-bottom: solid 1px var(--xr-border-color);\n",
       "}\n",
       "\n",
       ".xr-header > div,\n",
       ".xr-header > ul {\n",
       "  display: inline;\n",
       "  margin-top: 0;\n",
       "  margin-bottom: 0;\n",
       "}\n",
       "\n",
       ".xr-obj-type,\n",
       ".xr-array-name {\n",
       "  margin-left: 2px;\n",
       "  margin-right: 10px;\n",
       "}\n",
       "\n",
       ".xr-obj-type {\n",
       "  color: var(--xr-font-color2);\n",
       "}\n",
       "\n",
       ".xr-sections {\n",
       "  padding-left: 0 !important;\n",
       "  display: grid;\n",
       "  grid-template-columns: 150px auto auto 1fr 20px 20px;\n",
       "}\n",
       "\n",
       ".xr-section-item {\n",
       "  display: contents;\n",
       "}\n",
       "\n",
       ".xr-section-item input {\n",
       "  display: none;\n",
       "}\n",
       "\n",
       ".xr-section-item input + label {\n",
       "  color: var(--xr-disabled-color);\n",
       "}\n",
       "\n",
       ".xr-section-item input:enabled + label {\n",
       "  cursor: pointer;\n",
       "  color: var(--xr-font-color2);\n",
       "}\n",
       "\n",
       ".xr-section-item input:enabled + label:hover {\n",
       "  color: var(--xr-font-color0);\n",
       "}\n",
       "\n",
       ".xr-section-summary {\n",
       "  grid-column: 1;\n",
       "  color: var(--xr-font-color2);\n",
       "  font-weight: 500;\n",
       "}\n",
       "\n",
       ".xr-section-summary > span {\n",
       "  display: inline-block;\n",
       "  padding-left: 0.5em;\n",
       "}\n",
       "\n",
       ".xr-section-summary-in:disabled + label {\n",
       "  color: var(--xr-font-color2);\n",
       "}\n",
       "\n",
       ".xr-section-summary-in + label:before {\n",
       "  display: inline-block;\n",
       "  content: '►';\n",
       "  font-size: 11px;\n",
       "  width: 15px;\n",
       "  text-align: center;\n",
       "}\n",
       "\n",
       ".xr-section-summary-in:disabled + label:before {\n",
       "  color: var(--xr-disabled-color);\n",
       "}\n",
       "\n",
       ".xr-section-summary-in:checked + label:before {\n",
       "  content: '▼';\n",
       "}\n",
       "\n",
       ".xr-section-summary-in:checked + label > span {\n",
       "  display: none;\n",
       "}\n",
       "\n",
       ".xr-section-summary,\n",
       ".xr-section-inline-details {\n",
       "  padding-top: 4px;\n",
       "  padding-bottom: 4px;\n",
       "}\n",
       "\n",
       ".xr-section-inline-details {\n",
       "  grid-column: 2 / -1;\n",
       "}\n",
       "\n",
       ".xr-section-details {\n",
       "  display: none;\n",
       "  grid-column: 1 / -1;\n",
       "  margin-bottom: 5px;\n",
       "}\n",
       "\n",
       ".xr-section-summary-in:checked ~ .xr-section-details {\n",
       "  display: contents;\n",
       "}\n",
       "\n",
       ".xr-array-wrap {\n",
       "  grid-column: 1 / -1;\n",
       "  display: grid;\n",
       "  grid-template-columns: 20px auto;\n",
       "}\n",
       "\n",
       ".xr-array-wrap > label {\n",
       "  grid-column: 1;\n",
       "  vertical-align: top;\n",
       "}\n",
       "\n",
       ".xr-preview {\n",
       "  color: var(--xr-font-color3);\n",
       "}\n",
       "\n",
       ".xr-array-preview,\n",
       ".xr-array-data {\n",
       "  padding: 0 5px !important;\n",
       "  grid-column: 2;\n",
       "}\n",
       "\n",
       ".xr-array-data,\n",
       ".xr-array-in:checked ~ .xr-array-preview {\n",
       "  display: none;\n",
       "}\n",
       "\n",
       ".xr-array-in:checked ~ .xr-array-data,\n",
       ".xr-array-preview {\n",
       "  display: inline-block;\n",
       "}\n",
       "\n",
       ".xr-dim-list {\n",
       "  display: inline-block !important;\n",
       "  list-style: none;\n",
       "  padding: 0 !important;\n",
       "  margin: 0;\n",
       "}\n",
       "\n",
       ".xr-dim-list li {\n",
       "  display: inline-block;\n",
       "  padding: 0;\n",
       "  margin: 0;\n",
       "}\n",
       "\n",
       ".xr-dim-list:before {\n",
       "  content: '(';\n",
       "}\n",
       "\n",
       ".xr-dim-list:after {\n",
       "  content: ')';\n",
       "}\n",
       "\n",
       ".xr-dim-list li:not(:last-child):after {\n",
       "  content: ',';\n",
       "  padding-right: 5px;\n",
       "}\n",
       "\n",
       ".xr-has-index {\n",
       "  font-weight: bold;\n",
       "}\n",
       "\n",
       ".xr-var-list,\n",
       ".xr-var-item {\n",
       "  display: contents;\n",
       "}\n",
       "\n",
       ".xr-var-item > div,\n",
       ".xr-var-item label,\n",
       ".xr-var-item > .xr-var-name span {\n",
       "  background-color: var(--xr-background-color-row-even);\n",
       "  margin-bottom: 0;\n",
       "}\n",
       "\n",
       ".xr-var-item > .xr-var-name:hover span {\n",
       "  padding-right: 5px;\n",
       "}\n",
       "\n",
       ".xr-var-list > li:nth-child(odd) > div,\n",
       ".xr-var-list > li:nth-child(odd) > label,\n",
       ".xr-var-list > li:nth-child(odd) > .xr-var-name span {\n",
       "  background-color: var(--xr-background-color-row-odd);\n",
       "}\n",
       "\n",
       ".xr-var-name {\n",
       "  grid-column: 1;\n",
       "}\n",
       "\n",
       ".xr-var-dims {\n",
       "  grid-column: 2;\n",
       "}\n",
       "\n",
       ".xr-var-dtype {\n",
       "  grid-column: 3;\n",
       "  text-align: right;\n",
       "  color: var(--xr-font-color2);\n",
       "}\n",
       "\n",
       ".xr-var-preview {\n",
       "  grid-column: 4;\n",
       "}\n",
       "\n",
       ".xr-index-preview {\n",
       "  grid-column: 2 / 5;\n",
       "  color: var(--xr-font-color2);\n",
       "}\n",
       "\n",
       ".xr-var-name,\n",
       ".xr-var-dims,\n",
       ".xr-var-dtype,\n",
       ".xr-preview,\n",
       ".xr-attrs dt {\n",
       "  white-space: nowrap;\n",
       "  overflow: hidden;\n",
       "  text-overflow: ellipsis;\n",
       "  padding-right: 10px;\n",
       "}\n",
       "\n",
       ".xr-var-name:hover,\n",
       ".xr-var-dims:hover,\n",
       ".xr-var-dtype:hover,\n",
       ".xr-attrs dt:hover {\n",
       "  overflow: visible;\n",
       "  width: auto;\n",
       "  z-index: 1;\n",
       "}\n",
       "\n",
       ".xr-var-attrs,\n",
       ".xr-var-data,\n",
       ".xr-index-data {\n",
       "  display: none;\n",
       "  background-color: var(--xr-background-color) !important;\n",
       "  padding-bottom: 5px !important;\n",
       "}\n",
       "\n",
       ".xr-var-attrs-in:checked ~ .xr-var-attrs,\n",
       ".xr-var-data-in:checked ~ .xr-var-data,\n",
       ".xr-index-data-in:checked ~ .xr-index-data {\n",
       "  display: block;\n",
       "}\n",
       "\n",
       ".xr-var-data > table {\n",
       "  float: right;\n",
       "}\n",
       "\n",
       ".xr-var-name span,\n",
       ".xr-var-data,\n",
       ".xr-index-name div,\n",
       ".xr-index-data,\n",
       ".xr-attrs {\n",
       "  padding-left: 25px !important;\n",
       "}\n",
       "\n",
       ".xr-attrs,\n",
       ".xr-var-attrs,\n",
       ".xr-var-data,\n",
       ".xr-index-data {\n",
       "  grid-column: 1 / -1;\n",
       "}\n",
       "\n",
       "dl.xr-attrs {\n",
       "  padding: 0;\n",
       "  margin: 0;\n",
       "  display: grid;\n",
       "  grid-template-columns: 125px auto;\n",
       "}\n",
       "\n",
       ".xr-attrs dt,\n",
       ".xr-attrs dd {\n",
       "  padding: 0;\n",
       "  margin: 0;\n",
       "  float: left;\n",
       "  padding-right: 10px;\n",
       "  width: auto;\n",
       "}\n",
       "\n",
       ".xr-attrs dt {\n",
       "  font-weight: normal;\n",
       "  grid-column: 1;\n",
       "}\n",
       "\n",
       ".xr-attrs dt:hover span {\n",
       "  display: inline-block;\n",
       "  background: var(--xr-background-color);\n",
       "  padding-right: 10px;\n",
       "}\n",
       "\n",
       ".xr-attrs dd {\n",
       "  grid-column: 2;\n",
       "  white-space: pre-wrap;\n",
       "  word-break: break-all;\n",
       "}\n",
       "\n",
       ".xr-icon-database,\n",
       ".xr-icon-file-text2,\n",
       ".xr-no-icon {\n",
       "  display: inline-block;\n",
       "  vertical-align: middle;\n",
       "  width: 1em;\n",
       "  height: 1.5em !important;\n",
       "  stroke-width: 0;\n",
       "  stroke: currentColor;\n",
       "  fill: currentColor;\n",
       "}\n",
       "</style><pre class='xr-text-repr-fallback'>&lt;xarray.DataArray &#x27;tx_days_above&#x27; (time: 151, lat: 18, lon: 44)&gt; Size: 957kB\n",
       "dask.array&lt;where, shape=(151, 18, 44), dtype=float64, chunksize=(1, 18, 44), chunktype=numpy.ndarray&gt;\n",
       "Coordinates:\n",
       "  * lat      (lat) float32 72B 49.29 49.21 49.12 49.04 ... 48.04 47.96 47.87\n",
       "  * lon      (lon) float32 176B -67.71 -67.63 -67.55 ... -64.3 -64.21 -64.13\n",
       "  * time     (time) object 1kB 1950-01-01 00:00:00 ... 2100-01-01 00:00:00\n",
       "Attributes:\n",
       "    units:           days\n",
       "    cell_methods:     time: sum over days\n",
       "    history:         [2024-05-10 03:12:12] tx_days_above: TX_DAYS_ABOVE(tasma...\n",
       "    standard_name:   number_of_days_with_air_temperature_above_threshold\n",
       "    long_name:       The number of days with maximum temperature above 27 degc\n",
       "    description:     Annual number of days where daily maximum temperature ex...\n",
       "    long_name_fr:    Nombre de jours ayant une température maximale quotidien...\n",
       "    description_fr:  Nombre annuel de jours où la température maximale quotid...</pre><div class='xr-wrap' style='display:none'><div class='xr-header'><div class='xr-obj-type'>xarray.DataArray</div><div class='xr-array-name'>'tx_days_above'</div><ul class='xr-dim-list'><li><span class='xr-has-index'>time</span>: 151</li><li><span class='xr-has-index'>lat</span>: 18</li><li><span class='xr-has-index'>lon</span>: 44</li></ul></div><ul class='xr-sections'><li class='xr-section-item'><div class='xr-array-wrap'><input id='section-176d2ee5-d261-4e66-a5e5-1d4ceb58ead1' class='xr-array-in' type='checkbox' checked><label for='section-176d2ee5-d261-4e66-a5e5-1d4ceb58ead1' title='Show/hide data repr'><svg class='icon xr-icon-database'><use xlink:href='#icon-database'></use></svg></label><div class='xr-array-preview xr-preview'><span>dask.array&lt;chunksize=(1, 18, 44), meta=np.ndarray&gt;</span></div><div class='xr-array-data'><table>\n",
       "    <tr>\n",
       "        <td>\n",
       "            <table style=\"border-collapse: collapse;\">\n",
       "                <thead>\n",
       "                    <tr>\n",
       "                        <td> </td>\n",
       "                        <th> Array </th>\n",
       "                        <th> Chunk </th>\n",
       "                    </tr>\n",
       "                </thead>\n",
       "                <tbody>\n",
       "                    \n",
       "                    <tr>\n",
       "                        <th> Bytes </th>\n",
       "                        <td> 0.91 MiB </td>\n",
       "                        <td> 6.19 kiB </td>\n",
       "                    </tr>\n",
       "                    \n",
       "                    <tr>\n",
       "                        <th> Shape </th>\n",
       "                        <td> (151, 18, 44) </td>\n",
       "                        <td> (1, 18, 44) </td>\n",
       "                    </tr>\n",
       "                    <tr>\n",
       "                        <th> Dask graph </th>\n",
       "                        <td colspan=\"2\"> 151 chunks in 941 graph layers </td>\n",
       "                    </tr>\n",
       "                    <tr>\n",
       "                        <th> Data type </th>\n",
       "                        <td colspan=\"2\"> float64 numpy.ndarray </td>\n",
       "                    </tr>\n",
       "                </tbody>\n",
       "            </table>\n",
       "        </td>\n",
       "        <td>\n",
       "        <svg width=\"174\" height=\"160\" style=\"stroke:rgb(0,0,0);stroke-width:1\" >\n",
       "\n",
       "  <!-- Horizontal lines -->\n",
       "  <line x1=\"10\" y1=\"0\" x2=\"80\" y2=\"70\" style=\"stroke-width:2\" />\n",
       "  <line x1=\"10\" y1=\"39\" x2=\"80\" y2=\"110\" style=\"stroke-width:2\" />\n",
       "\n",
       "  <!-- Vertical lines -->\n",
       "  <line x1=\"10\" y1=\"0\" x2=\"10\" y2=\"39\" style=\"stroke-width:2\" />\n",
       "  <line x1=\"13\" y1=\"3\" x2=\"13\" y2=\"42\" />\n",
       "  <line x1=\"17\" y1=\"7\" x2=\"17\" y2=\"46\" />\n",
       "  <line x1=\"20\" y1=\"10\" x2=\"20\" y2=\"50\" />\n",
       "  <line x1=\"24\" y1=\"14\" x2=\"24\" y2=\"54\" />\n",
       "  <line x1=\"28\" y1=\"18\" x2=\"28\" y2=\"57\" />\n",
       "  <line x1=\"31\" y1=\"21\" x2=\"31\" y2=\"61\" />\n",
       "  <line x1=\"35\" y1=\"25\" x2=\"35\" y2=\"65\" />\n",
       "  <line x1=\"39\" y1=\"29\" x2=\"39\" y2=\"68\" />\n",
       "  <line x1=\"43\" y1=\"33\" x2=\"43\" y2=\"72\" />\n",
       "  <line x1=\"46\" y1=\"36\" x2=\"46\" y2=\"76\" />\n",
       "  <line x1=\"50\" y1=\"40\" x2=\"50\" y2=\"80\" />\n",
       "  <line x1=\"54\" y1=\"44\" x2=\"54\" y2=\"83\" />\n",
       "  <line x1=\"58\" y1=\"48\" x2=\"58\" y2=\"87\" />\n",
       "  <line x1=\"61\" y1=\"51\" x2=\"61\" y2=\"91\" />\n",
       "  <line x1=\"65\" y1=\"55\" x2=\"65\" y2=\"95\" />\n",
       "  <line x1=\"69\" y1=\"59\" x2=\"69\" y2=\"98\" />\n",
       "  <line x1=\"73\" y1=\"63\" x2=\"73\" y2=\"102\" />\n",
       "  <line x1=\"76\" y1=\"66\" x2=\"76\" y2=\"106\" />\n",
       "  <line x1=\"80\" y1=\"70\" x2=\"80\" y2=\"110\" style=\"stroke-width:2\" />\n",
       "\n",
       "  <!-- Colored Rectangle -->\n",
       "  <polygon points=\"10.0,0.0 80.58823529411765,70.58823529411765 80.58823529411765,110.13452524489415 10.0,39.5462899507765\" style=\"fill:#8B4903A0;stroke-width:0\"/>\n",
       "\n",
       "  <!-- Horizontal lines -->\n",
       "  <line x1=\"10\" y1=\"0\" x2=\"53\" y2=\"0\" style=\"stroke-width:2\" />\n",
       "  <line x1=\"13\" y1=\"3\" x2=\"56\" y2=\"3\" />\n",
       "  <line x1=\"17\" y1=\"7\" x2=\"60\" y2=\"7\" />\n",
       "  <line x1=\"20\" y1=\"10\" x2=\"64\" y2=\"10\" />\n",
       "  <line x1=\"24\" y1=\"14\" x2=\"67\" y2=\"14\" />\n",
       "  <line x1=\"28\" y1=\"18\" x2=\"71\" y2=\"18\" />\n",
       "  <line x1=\"31\" y1=\"21\" x2=\"75\" y2=\"21\" />\n",
       "  <line x1=\"35\" y1=\"25\" x2=\"79\" y2=\"25\" />\n",
       "  <line x1=\"39\" y1=\"29\" x2=\"82\" y2=\"29\" />\n",
       "  <line x1=\"43\" y1=\"33\" x2=\"86\" y2=\"33\" />\n",
       "  <line x1=\"46\" y1=\"36\" x2=\"90\" y2=\"36\" />\n",
       "  <line x1=\"50\" y1=\"40\" x2=\"94\" y2=\"40\" />\n",
       "  <line x1=\"54\" y1=\"44\" x2=\"97\" y2=\"44\" />\n",
       "  <line x1=\"58\" y1=\"48\" x2=\"101\" y2=\"48\" />\n",
       "  <line x1=\"61\" y1=\"51\" x2=\"105\" y2=\"51\" />\n",
       "  <line x1=\"65\" y1=\"55\" x2=\"109\" y2=\"55\" />\n",
       "  <line x1=\"69\" y1=\"59\" x2=\"112\" y2=\"59\" />\n",
       "  <line x1=\"73\" y1=\"63\" x2=\"116\" y2=\"63\" />\n",
       "  <line x1=\"76\" y1=\"66\" x2=\"120\" y2=\"66\" />\n",
       "  <line x1=\"80\" y1=\"70\" x2=\"124\" y2=\"70\" style=\"stroke-width:2\" />\n",
       "\n",
       "  <!-- Vertical lines -->\n",
       "  <line x1=\"10\" y1=\"0\" x2=\"80\" y2=\"70\" style=\"stroke-width:2\" />\n",
       "  <line x1=\"53\" y1=\"0\" x2=\"124\" y2=\"70\" style=\"stroke-width:2\" />\n",
       "\n",
       "  <!-- Colored Rectangle -->\n",
       "  <polygon points=\"10.0,0.0 53.446435977202114,0.0 124.03467127131977,70.58823529411765 80.58823529411765,70.58823529411765\" style=\"fill:#8B4903A0;stroke-width:0\"/>\n",
       "\n",
       "  <!-- Horizontal lines -->\n",
       "  <line x1=\"80\" y1=\"70\" x2=\"124\" y2=\"70\" style=\"stroke-width:2\" />\n",
       "  <line x1=\"80\" y1=\"110\" x2=\"124\" y2=\"110\" style=\"stroke-width:2\" />\n",
       "\n",
       "  <!-- Vertical lines -->\n",
       "  <line x1=\"80\" y1=\"70\" x2=\"80\" y2=\"110\" style=\"stroke-width:2\" />\n",
       "  <line x1=\"124\" y1=\"70\" x2=\"124\" y2=\"110\" style=\"stroke-width:2\" />\n",
       "\n",
       "  <!-- Colored Rectangle -->\n",
       "  <polygon points=\"80.58823529411765,70.58823529411765 124.03467127131977,70.58823529411765 124.03467127131977,110.13452524489415 80.58823529411765,110.13452524489415\" style=\"fill:#ECB172A0;stroke-width:0\"/>\n",
       "\n",
       "  <!-- Text -->\n",
       "  <text x=\"102.311453\" y=\"130.134525\" font-size=\"1.0rem\" font-weight=\"100\" text-anchor=\"middle\" >44</text>\n",
       "  <text x=\"144.034671\" y=\"90.361380\" font-size=\"1.0rem\" font-weight=\"100\" text-anchor=\"middle\" transform=\"rotate(0,144.034671,90.361380)\">18</text>\n",
       "  <text x=\"35.294118\" y=\"94.840408\" font-size=\"1.0rem\" font-weight=\"100\" text-anchor=\"middle\" transform=\"rotate(45,35.294118,94.840408)\">151</text>\n",
       "</svg>\n",
       "        </td>\n",
       "    </tr>\n",
       "</table></div></div></li><li class='xr-section-item'><input id='section-7aa9c430-4dd5-45fe-964c-202cf21b3ea5' class='xr-section-summary-in' type='checkbox'  checked><label for='section-7aa9c430-4dd5-45fe-964c-202cf21b3ea5' class='xr-section-summary' >Coordinates: <span>(3)</span></label><div class='xr-section-inline-details'></div><div class='xr-section-details'><ul class='xr-var-list'><li class='xr-var-item'><div class='xr-var-name'><span class='xr-has-index'>lat</span></div><div class='xr-var-dims'>(lat)</div><div class='xr-var-dtype'>float32</div><div class='xr-var-preview xr-preview'>49.29 49.21 49.12 ... 47.96 47.87</div><input id='attrs-3d305f5c-c941-4db6-a9aa-90aaac603cc0' class='xr-var-attrs-in' type='checkbox' disabled><label for='attrs-3d305f5c-c941-4db6-a9aa-90aaac603cc0' title='Show/Hide attributes'><svg class='icon xr-icon-file-text2'><use xlink:href='#icon-file-text2'></use></svg></label><input id='data-c5ad02ab-d1e0-4f76-b2e6-26de46cef2e0' class='xr-var-data-in' type='checkbox'><label for='data-c5ad02ab-d1e0-4f76-b2e6-26de46cef2e0' title='Show/Hide data repr'><svg class='icon xr-icon-database'><use xlink:href='#icon-database'></use></svg></label><div class='xr-var-attrs'><dl class='xr-attrs'></dl></div><div class='xr-var-data'><pre>array([49.29067, 49.20734, 49.12401, 49.04068, 48.95735, 48.87402, 48.79069,\n",
       "       48.70736, 48.62403, 48.5407 , 48.45737, 48.37404, 48.29071, 48.20738,\n",
       "       48.12405, 48.04072, 47.95739, 47.87406], dtype=float32)</pre></div></li><li class='xr-var-item'><div class='xr-var-name'><span class='xr-has-index'>lon</span></div><div class='xr-var-dims'>(lon)</div><div class='xr-var-dtype'>float32</div><div class='xr-var-preview xr-preview'>-67.71 -67.63 ... -64.21 -64.13</div><input id='attrs-dbec3bd2-a82e-408b-88b8-b34b955bac2f' class='xr-var-attrs-in' type='checkbox' disabled><label for='attrs-dbec3bd2-a82e-408b-88b8-b34b955bac2f' title='Show/Hide attributes'><svg class='icon xr-icon-file-text2'><use xlink:href='#icon-file-text2'></use></svg></label><input id='data-641eed64-9a43-4412-89e1-79e894e06dc6' class='xr-var-data-in' type='checkbox'><label for='data-641eed64-9a43-4412-89e1-79e894e06dc6' title='Show/Hide data repr'><svg class='icon xr-icon-database'><use xlink:href='#icon-database'></use></svg></label><div class='xr-var-attrs'><dl class='xr-attrs'></dl></div><div class='xr-var-data'><pre>array([-67.71273, -67.6294 , -67.54607, -67.46274, -67.37941, -67.29608,\n",
       "       -67.21275, -67.12942, -67.04609, -66.96276, -66.87943, -66.7961 ,\n",
       "       -66.71277, -66.62944, -66.54611, -66.46278, -66.37945, -66.29612,\n",
       "       -66.21279, -66.12946, -66.04613, -65.9628 , -65.87947, -65.79614,\n",
       "       -65.71281, -65.62948, -65.54615, -65.46282, -65.37949, -65.29616,\n",
       "       -65.21283, -65.1295 , -65.04617, -64.96284, -64.87951, -64.79618,\n",
       "       -64.71285, -64.62952, -64.54619, -64.46286, -64.37953, -64.2962 ,\n",
       "       -64.21287, -64.12954], dtype=float32)</pre></div></li><li class='xr-var-item'><div class='xr-var-name'><span class='xr-has-index'>time</span></div><div class='xr-var-dims'>(time)</div><div class='xr-var-dtype'>object</div><div class='xr-var-preview xr-preview'>1950-01-01 00:00:00 ... 2100-01-...</div><input id='attrs-75777efb-a347-4c1e-9292-8573ddd2c9d1' class='xr-var-attrs-in' type='checkbox' disabled><label for='attrs-75777efb-a347-4c1e-9292-8573ddd2c9d1' title='Show/Hide attributes'><svg class='icon xr-icon-file-text2'><use xlink:href='#icon-file-text2'></use></svg></label><input id='data-5d96d3d2-6a1d-4d7f-9c41-64b68383cf85' class='xr-var-data-in' type='checkbox'><label for='data-5d96d3d2-6a1d-4d7f-9c41-64b68383cf85' title='Show/Hide data repr'><svg class='icon xr-icon-database'><use xlink:href='#icon-database'></use></svg></label><div class='xr-var-attrs'><dl class='xr-attrs'></dl></div><div class='xr-var-data'><pre>array([cftime.DatetimeNoLeap(1950, 1, 1, 0, 0, 0, 0, has_year_zero=True),\n",
       "       cftime.DatetimeNoLeap(1951, 1, 1, 0, 0, 0, 0, has_year_zero=True),\n",
       "       cftime.DatetimeNoLeap(1952, 1, 1, 0, 0, 0, 0, has_year_zero=True),\n",
       "       cftime.DatetimeNoLeap(1953, 1, 1, 0, 0, 0, 0, has_year_zero=True),\n",
       "       cftime.DatetimeNoLeap(1954, 1, 1, 0, 0, 0, 0, has_year_zero=True),\n",
       "       cftime.DatetimeNoLeap(1955, 1, 1, 0, 0, 0, 0, has_year_zero=True),\n",
       "       cftime.DatetimeNoLeap(1956, 1, 1, 0, 0, 0, 0, has_year_zero=True),\n",
       "       cftime.DatetimeNoLeap(1957, 1, 1, 0, 0, 0, 0, has_year_zero=True),\n",
       "       cftime.DatetimeNoLeap(1958, 1, 1, 0, 0, 0, 0, has_year_zero=True),\n",
       "       cftime.DatetimeNoLeap(1959, 1, 1, 0, 0, 0, 0, has_year_zero=True),\n",
       "       cftime.DatetimeNoLeap(1960, 1, 1, 0, 0, 0, 0, has_year_zero=True),\n",
       "       cftime.DatetimeNoLeap(1961, 1, 1, 0, 0, 0, 0, has_year_zero=True),\n",
       "       cftime.DatetimeNoLeap(1962, 1, 1, 0, 0, 0, 0, has_year_zero=True),\n",
       "       cftime.DatetimeNoLeap(1963, 1, 1, 0, 0, 0, 0, has_year_zero=True),\n",
       "       cftime.DatetimeNoLeap(1964, 1, 1, 0, 0, 0, 0, has_year_zero=True),\n",
       "       cftime.DatetimeNoLeap(1965, 1, 1, 0, 0, 0, 0, has_year_zero=True),\n",
       "       cftime.DatetimeNoLeap(1966, 1, 1, 0, 0, 0, 0, has_year_zero=True),\n",
       "       cftime.DatetimeNoLeap(1967, 1, 1, 0, 0, 0, 0, has_year_zero=True),\n",
       "       cftime.DatetimeNoLeap(1968, 1, 1, 0, 0, 0, 0, has_year_zero=True),\n",
       "       cftime.DatetimeNoLeap(1969, 1, 1, 0, 0, 0, 0, has_year_zero=True),\n",
       "       cftime.DatetimeNoLeap(1970, 1, 1, 0, 0, 0, 0, has_year_zero=True),\n",
       "       cftime.DatetimeNoLeap(1971, 1, 1, 0, 0, 0, 0, has_year_zero=True),\n",
       "       cftime.DatetimeNoLeap(1972, 1, 1, 0, 0, 0, 0, has_year_zero=True),\n",
       "       cftime.DatetimeNoLeap(1973, 1, 1, 0, 0, 0, 0, has_year_zero=True),\n",
       "       cftime.DatetimeNoLeap(1974, 1, 1, 0, 0, 0, 0, has_year_zero=True),\n",
       "       cftime.DatetimeNoLeap(1975, 1, 1, 0, 0, 0, 0, has_year_zero=True),\n",
       "       cftime.DatetimeNoLeap(1976, 1, 1, 0, 0, 0, 0, has_year_zero=True),\n",
       "       cftime.DatetimeNoLeap(1977, 1, 1, 0, 0, 0, 0, has_year_zero=True),\n",
       "       cftime.DatetimeNoLeap(1978, 1, 1, 0, 0, 0, 0, has_year_zero=True),\n",
       "       cftime.DatetimeNoLeap(1979, 1, 1, 0, 0, 0, 0, has_year_zero=True),\n",
       "       cftime.DatetimeNoLeap(1980, 1, 1, 0, 0, 0, 0, has_year_zero=True),\n",
       "       cftime.DatetimeNoLeap(1981, 1, 1, 0, 0, 0, 0, has_year_zero=True),\n",
       "       cftime.DatetimeNoLeap(1982, 1, 1, 0, 0, 0, 0, has_year_zero=True),\n",
       "       cftime.DatetimeNoLeap(1983, 1, 1, 0, 0, 0, 0, has_year_zero=True),\n",
       "       cftime.DatetimeNoLeap(1984, 1, 1, 0, 0, 0, 0, has_year_zero=True),\n",
       "       cftime.DatetimeNoLeap(1985, 1, 1, 0, 0, 0, 0, has_year_zero=True),\n",
       "       cftime.DatetimeNoLeap(1986, 1, 1, 0, 0, 0, 0, has_year_zero=True),\n",
       "       cftime.DatetimeNoLeap(1987, 1, 1, 0, 0, 0, 0, has_year_zero=True),\n",
       "       cftime.DatetimeNoLeap(1988, 1, 1, 0, 0, 0, 0, has_year_zero=True),\n",
       "       cftime.DatetimeNoLeap(1989, 1, 1, 0, 0, 0, 0, has_year_zero=True),\n",
       "       cftime.DatetimeNoLeap(1990, 1, 1, 0, 0, 0, 0, has_year_zero=True),\n",
       "       cftime.DatetimeNoLeap(1991, 1, 1, 0, 0, 0, 0, has_year_zero=True),\n",
       "       cftime.DatetimeNoLeap(1992, 1, 1, 0, 0, 0, 0, has_year_zero=True),\n",
       "       cftime.DatetimeNoLeap(1993, 1, 1, 0, 0, 0, 0, has_year_zero=True),\n",
       "       cftime.DatetimeNoLeap(1994, 1, 1, 0, 0, 0, 0, has_year_zero=True),\n",
       "       cftime.DatetimeNoLeap(1995, 1, 1, 0, 0, 0, 0, has_year_zero=True),\n",
       "       cftime.DatetimeNoLeap(1996, 1, 1, 0, 0, 0, 0, has_year_zero=True),\n",
       "       cftime.DatetimeNoLeap(1997, 1, 1, 0, 0, 0, 0, has_year_zero=True),\n",
       "       cftime.DatetimeNoLeap(1998, 1, 1, 0, 0, 0, 0, has_year_zero=True),\n",
       "       cftime.DatetimeNoLeap(1999, 1, 1, 0, 0, 0, 0, has_year_zero=True),\n",
       "       cftime.DatetimeNoLeap(2000, 1, 1, 0, 0, 0, 0, has_year_zero=True),\n",
       "       cftime.DatetimeNoLeap(2001, 1, 1, 0, 0, 0, 0, has_year_zero=True),\n",
       "       cftime.DatetimeNoLeap(2002, 1, 1, 0, 0, 0, 0, has_year_zero=True),\n",
       "       cftime.DatetimeNoLeap(2003, 1, 1, 0, 0, 0, 0, has_year_zero=True),\n",
       "       cftime.DatetimeNoLeap(2004, 1, 1, 0, 0, 0, 0, has_year_zero=True),\n",
       "       cftime.DatetimeNoLeap(2005, 1, 1, 0, 0, 0, 0, has_year_zero=True),\n",
       "       cftime.DatetimeNoLeap(2006, 1, 1, 0, 0, 0, 0, has_year_zero=True),\n",
       "       cftime.DatetimeNoLeap(2007, 1, 1, 0, 0, 0, 0, has_year_zero=True),\n",
       "       cftime.DatetimeNoLeap(2008, 1, 1, 0, 0, 0, 0, has_year_zero=True),\n",
       "       cftime.DatetimeNoLeap(2009, 1, 1, 0, 0, 0, 0, has_year_zero=True),\n",
       "       cftime.DatetimeNoLeap(2010, 1, 1, 0, 0, 0, 0, has_year_zero=True),\n",
       "       cftime.DatetimeNoLeap(2011, 1, 1, 0, 0, 0, 0, has_year_zero=True),\n",
       "       cftime.DatetimeNoLeap(2012, 1, 1, 0, 0, 0, 0, has_year_zero=True),\n",
       "       cftime.DatetimeNoLeap(2013, 1, 1, 0, 0, 0, 0, has_year_zero=True),\n",
       "       cftime.DatetimeNoLeap(2014, 1, 1, 0, 0, 0, 0, has_year_zero=True),\n",
       "       cftime.DatetimeNoLeap(2015, 1, 1, 0, 0, 0, 0, has_year_zero=True),\n",
       "       cftime.DatetimeNoLeap(2016, 1, 1, 0, 0, 0, 0, has_year_zero=True),\n",
       "       cftime.DatetimeNoLeap(2017, 1, 1, 0, 0, 0, 0, has_year_zero=True),\n",
       "       cftime.DatetimeNoLeap(2018, 1, 1, 0, 0, 0, 0, has_year_zero=True),\n",
       "       cftime.DatetimeNoLeap(2019, 1, 1, 0, 0, 0, 0, has_year_zero=True),\n",
       "       cftime.DatetimeNoLeap(2020, 1, 1, 0, 0, 0, 0, has_year_zero=True),\n",
       "       cftime.DatetimeNoLeap(2021, 1, 1, 0, 0, 0, 0, has_year_zero=True),\n",
       "       cftime.DatetimeNoLeap(2022, 1, 1, 0, 0, 0, 0, has_year_zero=True),\n",
       "       cftime.DatetimeNoLeap(2023, 1, 1, 0, 0, 0, 0, has_year_zero=True),\n",
       "       cftime.DatetimeNoLeap(2024, 1, 1, 0, 0, 0, 0, has_year_zero=True),\n",
       "       cftime.DatetimeNoLeap(2025, 1, 1, 0, 0, 0, 0, has_year_zero=True),\n",
       "       cftime.DatetimeNoLeap(2026, 1, 1, 0, 0, 0, 0, has_year_zero=True),\n",
       "       cftime.DatetimeNoLeap(2027, 1, 1, 0, 0, 0, 0, has_year_zero=True),\n",
       "       cftime.DatetimeNoLeap(2028, 1, 1, 0, 0, 0, 0, has_year_zero=True),\n",
       "       cftime.DatetimeNoLeap(2029, 1, 1, 0, 0, 0, 0, has_year_zero=True),\n",
       "       cftime.DatetimeNoLeap(2030, 1, 1, 0, 0, 0, 0, has_year_zero=True),\n",
       "       cftime.DatetimeNoLeap(2031, 1, 1, 0, 0, 0, 0, has_year_zero=True),\n",
       "       cftime.DatetimeNoLeap(2032, 1, 1, 0, 0, 0, 0, has_year_zero=True),\n",
       "       cftime.DatetimeNoLeap(2033, 1, 1, 0, 0, 0, 0, has_year_zero=True),\n",
       "       cftime.DatetimeNoLeap(2034, 1, 1, 0, 0, 0, 0, has_year_zero=True),\n",
       "       cftime.DatetimeNoLeap(2035, 1, 1, 0, 0, 0, 0, has_year_zero=True),\n",
       "       cftime.DatetimeNoLeap(2036, 1, 1, 0, 0, 0, 0, has_year_zero=True),\n",
       "       cftime.DatetimeNoLeap(2037, 1, 1, 0, 0, 0, 0, has_year_zero=True),\n",
       "       cftime.DatetimeNoLeap(2038, 1, 1, 0, 0, 0, 0, has_year_zero=True),\n",
       "       cftime.DatetimeNoLeap(2039, 1, 1, 0, 0, 0, 0, has_year_zero=True),\n",
       "       cftime.DatetimeNoLeap(2040, 1, 1, 0, 0, 0, 0, has_year_zero=True),\n",
       "       cftime.DatetimeNoLeap(2041, 1, 1, 0, 0, 0, 0, has_year_zero=True),\n",
       "       cftime.DatetimeNoLeap(2042, 1, 1, 0, 0, 0, 0, has_year_zero=True),\n",
       "       cftime.DatetimeNoLeap(2043, 1, 1, 0, 0, 0, 0, has_year_zero=True),\n",
       "       cftime.DatetimeNoLeap(2044, 1, 1, 0, 0, 0, 0, has_year_zero=True),\n",
       "       cftime.DatetimeNoLeap(2045, 1, 1, 0, 0, 0, 0, has_year_zero=True),\n",
       "       cftime.DatetimeNoLeap(2046, 1, 1, 0, 0, 0, 0, has_year_zero=True),\n",
       "       cftime.DatetimeNoLeap(2047, 1, 1, 0, 0, 0, 0, has_year_zero=True),\n",
       "       cftime.DatetimeNoLeap(2048, 1, 1, 0, 0, 0, 0, has_year_zero=True),\n",
       "       cftime.DatetimeNoLeap(2049, 1, 1, 0, 0, 0, 0, has_year_zero=True),\n",
       "       cftime.DatetimeNoLeap(2050, 1, 1, 0, 0, 0, 0, has_year_zero=True),\n",
       "       cftime.DatetimeNoLeap(2051, 1, 1, 0, 0, 0, 0, has_year_zero=True),\n",
       "       cftime.DatetimeNoLeap(2052, 1, 1, 0, 0, 0, 0, has_year_zero=True),\n",
       "       cftime.DatetimeNoLeap(2053, 1, 1, 0, 0, 0, 0, has_year_zero=True),\n",
       "       cftime.DatetimeNoLeap(2054, 1, 1, 0, 0, 0, 0, has_year_zero=True),\n",
       "       cftime.DatetimeNoLeap(2055, 1, 1, 0, 0, 0, 0, has_year_zero=True),\n",
       "       cftime.DatetimeNoLeap(2056, 1, 1, 0, 0, 0, 0, has_year_zero=True),\n",
       "       cftime.DatetimeNoLeap(2057, 1, 1, 0, 0, 0, 0, has_year_zero=True),\n",
       "       cftime.DatetimeNoLeap(2058, 1, 1, 0, 0, 0, 0, has_year_zero=True),\n",
       "       cftime.DatetimeNoLeap(2059, 1, 1, 0, 0, 0, 0, has_year_zero=True),\n",
       "       cftime.DatetimeNoLeap(2060, 1, 1, 0, 0, 0, 0, has_year_zero=True),\n",
       "       cftime.DatetimeNoLeap(2061, 1, 1, 0, 0, 0, 0, has_year_zero=True),\n",
       "       cftime.DatetimeNoLeap(2062, 1, 1, 0, 0, 0, 0, has_year_zero=True),\n",
       "       cftime.DatetimeNoLeap(2063, 1, 1, 0, 0, 0, 0, has_year_zero=True),\n",
       "       cftime.DatetimeNoLeap(2064, 1, 1, 0, 0, 0, 0, has_year_zero=True),\n",
       "       cftime.DatetimeNoLeap(2065, 1, 1, 0, 0, 0, 0, has_year_zero=True),\n",
       "       cftime.DatetimeNoLeap(2066, 1, 1, 0, 0, 0, 0, has_year_zero=True),\n",
       "       cftime.DatetimeNoLeap(2067, 1, 1, 0, 0, 0, 0, has_year_zero=True),\n",
       "       cftime.DatetimeNoLeap(2068, 1, 1, 0, 0, 0, 0, has_year_zero=True),\n",
       "       cftime.DatetimeNoLeap(2069, 1, 1, 0, 0, 0, 0, has_year_zero=True),\n",
       "       cftime.DatetimeNoLeap(2070, 1, 1, 0, 0, 0, 0, has_year_zero=True),\n",
       "       cftime.DatetimeNoLeap(2071, 1, 1, 0, 0, 0, 0, has_year_zero=True),\n",
       "       cftime.DatetimeNoLeap(2072, 1, 1, 0, 0, 0, 0, has_year_zero=True),\n",
       "       cftime.DatetimeNoLeap(2073, 1, 1, 0, 0, 0, 0, has_year_zero=True),\n",
       "       cftime.DatetimeNoLeap(2074, 1, 1, 0, 0, 0, 0, has_year_zero=True),\n",
       "       cftime.DatetimeNoLeap(2075, 1, 1, 0, 0, 0, 0, has_year_zero=True),\n",
       "       cftime.DatetimeNoLeap(2076, 1, 1, 0, 0, 0, 0, has_year_zero=True),\n",
       "       cftime.DatetimeNoLeap(2077, 1, 1, 0, 0, 0, 0, has_year_zero=True),\n",
       "       cftime.DatetimeNoLeap(2078, 1, 1, 0, 0, 0, 0, has_year_zero=True),\n",
       "       cftime.DatetimeNoLeap(2079, 1, 1, 0, 0, 0, 0, has_year_zero=True),\n",
       "       cftime.DatetimeNoLeap(2080, 1, 1, 0, 0, 0, 0, has_year_zero=True),\n",
       "       cftime.DatetimeNoLeap(2081, 1, 1, 0, 0, 0, 0, has_year_zero=True),\n",
       "       cftime.DatetimeNoLeap(2082, 1, 1, 0, 0, 0, 0, has_year_zero=True),\n",
       "       cftime.DatetimeNoLeap(2083, 1, 1, 0, 0, 0, 0, has_year_zero=True),\n",
       "       cftime.DatetimeNoLeap(2084, 1, 1, 0, 0, 0, 0, has_year_zero=True),\n",
       "       cftime.DatetimeNoLeap(2085, 1, 1, 0, 0, 0, 0, has_year_zero=True),\n",
       "       cftime.DatetimeNoLeap(2086, 1, 1, 0, 0, 0, 0, has_year_zero=True),\n",
       "       cftime.DatetimeNoLeap(2087, 1, 1, 0, 0, 0, 0, has_year_zero=True),\n",
       "       cftime.DatetimeNoLeap(2088, 1, 1, 0, 0, 0, 0, has_year_zero=True),\n",
       "       cftime.DatetimeNoLeap(2089, 1, 1, 0, 0, 0, 0, has_year_zero=True),\n",
       "       cftime.DatetimeNoLeap(2090, 1, 1, 0, 0, 0, 0, has_year_zero=True),\n",
       "       cftime.DatetimeNoLeap(2091, 1, 1, 0, 0, 0, 0, has_year_zero=True),\n",
       "       cftime.DatetimeNoLeap(2092, 1, 1, 0, 0, 0, 0, has_year_zero=True),\n",
       "       cftime.DatetimeNoLeap(2093, 1, 1, 0, 0, 0, 0, has_year_zero=True),\n",
       "       cftime.DatetimeNoLeap(2094, 1, 1, 0, 0, 0, 0, has_year_zero=True),\n",
       "       cftime.DatetimeNoLeap(2095, 1, 1, 0, 0, 0, 0, has_year_zero=True),\n",
       "       cftime.DatetimeNoLeap(2096, 1, 1, 0, 0, 0, 0, has_year_zero=True),\n",
       "       cftime.DatetimeNoLeap(2097, 1, 1, 0, 0, 0, 0, has_year_zero=True),\n",
       "       cftime.DatetimeNoLeap(2098, 1, 1, 0, 0, 0, 0, has_year_zero=True),\n",
       "       cftime.DatetimeNoLeap(2099, 1, 1, 0, 0, 0, 0, has_year_zero=True),\n",
       "       cftime.DatetimeNoLeap(2100, 1, 1, 0, 0, 0, 0, has_year_zero=True)],\n",
       "      dtype=object)</pre></div></li></ul></div></li><li class='xr-section-item'><input id='section-c985657f-8e97-461b-81d0-0e9764c8dfd2' class='xr-section-summary-in' type='checkbox'  ><label for='section-c985657f-8e97-461b-81d0-0e9764c8dfd2' class='xr-section-summary' >Indexes: <span>(3)</span></label><div class='xr-section-inline-details'></div><div class='xr-section-details'><ul class='xr-var-list'><li class='xr-var-item'><div class='xr-index-name'><div>lat</div></div><div class='xr-index-preview'>PandasIndex</div><div></div><input id='index-1700cdf6-7b6c-463d-8ad0-94c78238eb2e' class='xr-index-data-in' type='checkbox'/><label for='index-1700cdf6-7b6c-463d-8ad0-94c78238eb2e' title='Show/Hide index repr'><svg class='icon xr-icon-database'><use xlink:href='#icon-database'></use></svg></label><div class='xr-index-data'><pre>PandasIndex(Index([ 49.29066848754883, 49.207340240478516,  49.12400817871094,\n",
       "       49.040679931640625,  48.95735168457031, 48.874019622802734,\n",
       "        48.79069137573242, 48.707359313964844,  48.62403106689453,\n",
       "        48.54069900512695,  48.45737075805664,  48.37403869628906,\n",
       "        48.29071044921875,  48.20737838745117,  48.12405014038086,\n",
       "        48.04072189331055,  47.95738983154297, 47.874061584472656],\n",
       "      dtype=&#x27;float32&#x27;, name=&#x27;lat&#x27;))</pre></div></li><li class='xr-var-item'><div class='xr-index-name'><div>lon</div></div><div class='xr-index-preview'>PandasIndex</div><div></div><input id='index-0ee27b4b-97e0-4780-af9f-5a63a28e6fc9' class='xr-index-data-in' type='checkbox'/><label for='index-0ee27b4b-97e0-4780-af9f-5a63a28e6fc9' title='Show/Hide index repr'><svg class='icon xr-icon-database'><use xlink:href='#icon-database'></use></svg></label><div class='xr-index-data'><pre>PandasIndex(Index([-67.71273040771484, -67.62940216064453, -67.54606628417969,\n",
       "       -67.46273803710938, -67.37940979003906, -67.29608154296875,\n",
       "       -67.21275329589844,  -67.1294174194336, -67.04608917236328,\n",
       "       -66.96276092529297, -66.87943267822266, -66.79609680175781,\n",
       "        -66.7127685546875, -66.62944030761719, -66.54611206054688,\n",
       "       -66.46278381347656, -66.37944793701172,  -66.2961196899414,\n",
       "        -66.2127914428711, -66.12946319580078, -66.04612731933594,\n",
       "       -65.96279907226562, -65.87947082519531,   -65.796142578125,\n",
       "       -65.71280670166016, -65.62947845458984, -65.54615020751953,\n",
       "       -65.46282196044922,  -65.3794937133789, -65.29615783691406,\n",
       "       -65.21282958984375, -65.12950134277344, -65.04617309570312,\n",
       "       -64.96283721923828, -64.87950897216797, -64.79618072509766,\n",
       "       -64.71285247802734,  -64.6295166015625, -64.54618835449219,\n",
       "       -64.46286010742188, -64.37953186035156, -64.29620361328125,\n",
       "        -64.2128677368164,  -64.1295394897461],\n",
       "      dtype=&#x27;float32&#x27;, name=&#x27;lon&#x27;))</pre></div></li><li class='xr-var-item'><div class='xr-index-name'><div>time</div></div><div class='xr-index-preview'>PandasIndex</div><div></div><input id='index-c1ec247b-00b9-4dd1-8a6a-2307f157f96f' class='xr-index-data-in' type='checkbox'/><label for='index-c1ec247b-00b9-4dd1-8a6a-2307f157f96f' title='Show/Hide index repr'><svg class='icon xr-icon-database'><use xlink:href='#icon-database'></use></svg></label><div class='xr-index-data'><pre>PandasIndex(CFTimeIndex([1950-01-01 00:00:00, 1951-01-01 00:00:00, 1952-01-01 00:00:00,\n",
       "             1953-01-01 00:00:00, 1954-01-01 00:00:00, 1955-01-01 00:00:00,\n",
       "             1956-01-01 00:00:00, 1957-01-01 00:00:00, 1958-01-01 00:00:00,\n",
       "             1959-01-01 00:00:00,\n",
       "             ...\n",
       "             2091-01-01 00:00:00, 2092-01-01 00:00:00, 2093-01-01 00:00:00,\n",
       "             2094-01-01 00:00:00, 2095-01-01 00:00:00, 2096-01-01 00:00:00,\n",
       "             2097-01-01 00:00:00, 2098-01-01 00:00:00, 2099-01-01 00:00:00,\n",
       "             2100-01-01 00:00:00],\n",
       "            dtype=&#x27;object&#x27;, length=151, calendar=&#x27;noleap&#x27;, freq=&#x27;YS-JAN&#x27;))</pre></div></li></ul></div></li><li class='xr-section-item'><input id='section-993a9cab-666a-4c30-bd7c-c5ac70ee07bd' class='xr-section-summary-in' type='checkbox'  checked><label for='section-993a9cab-666a-4c30-bd7c-c5ac70ee07bd' class='xr-section-summary' >Attributes: <span>(8)</span></label><div class='xr-section-inline-details'></div><div class='xr-section-details'><dl class='xr-attrs'><dt><span>units :</span></dt><dd>days</dd><dt><span>cell_methods :</span></dt><dd> time: sum over days</dd><dt><span>history :</span></dt><dd>[2024-05-10 03:12:12] tx_days_above: TX_DAYS_ABOVE(tasmax=tasmax, thresh=&#x27;27 degC&#x27;, freq=&#x27;YS&#x27;, op=&#x27;&gt;&#x27;) with options check_missing=any - xclim version: 0.49.0</dd><dt><span>standard_name :</span></dt><dd>number_of_days_with_air_temperature_above_threshold</dd><dt><span>long_name :</span></dt><dd>The number of days with maximum temperature above 27 degc</dd><dt><span>description :</span></dt><dd>Annual number of days where daily maximum temperature exceeds 27 degc.</dd><dt><span>long_name_fr :</span></dt><dd>Nombre de jours ayant une température maximale quotidienne au-dessus de 27 degC</dd><dt><span>description_fr :</span></dt><dd>Nombre annuel de jours où la température maximale quotidienne est au-dessus de 27 degC.</dd></dl></div></li></ul></div></div>"
      ],
      "text/plain": [
       "<xarray.DataArray 'tx_days_above' (time: 151, lat: 18, lon: 44)> Size: 957kB\n",
       "dask.array<where, shape=(151, 18, 44), dtype=float64, chunksize=(1, 18, 44), chunktype=numpy.ndarray>\n",
       "Coordinates:\n",
       "  * lat      (lat) float32 72B 49.29 49.21 49.12 49.04 ... 48.04 47.96 47.87\n",
       "  * lon      (lon) float32 176B -67.71 -67.63 -67.55 ... -64.3 -64.21 -64.13\n",
       "  * time     (time) object 1kB 1950-01-01 00:00:00 ... 2100-01-01 00:00:00\n",
       "Attributes:\n",
       "    units:           days\n",
       "    cell_methods:     time: sum over days\n",
       "    history:         [2024-05-10 03:12:12] tx_days_above: TX_DAYS_ABOVE(tasma...\n",
       "    standard_name:   number_of_days_with_air_temperature_above_threshold\n",
       "    long_name:       The number of days with maximum temperature above 27 degc\n",
       "    description:     Annual number of days where daily maximum temperature ex...\n",
       "    long_name_fr:    Nombre de jours ayant une température maximale quotidien...\n",
       "    description_fr:  Nombre annuel de jours où la température maximale quotid..."
      ]
     },
     "execution_count": 4,
     "metadata": {},
     "output_type": "execute_result"
    }
   ],
   "source": [
    "# NBVAL_IGNORE_OUTPUT\n",
    "\n",
    "with xclim.set_options(metadata_locales=[\"fr\"]):\n",
    "    out_fr = atmos.tx_days_above(tasmax=ds.tasmax, thresh=\"27 degC\", freq=\"YS\")\n",
    "out_fr"
   ]
  },
  {
   "cell_type": "markdown",
   "metadata": {},
   "source": [
    "___"
   ]
  },
  {
   "cell_type": "markdown",
   "metadata": {},
   "source": [
    "### Advanced Topics\n",
    "<a id='multiproc'></a>\n",
    "#### Parallel processing of the entire ensemble\n",
    "\n",
    "xclim uses `xarray` and its built-in support of `Dask` parallelization for most of its operations allowing for simple configuration of climate indicator calculation employing <a href=\"http://xarray.pydata.org/en/stable/dask.html\" target=\"_blank\">parallel computing</a>. Here we show a simple workflow to calculate climate indicators for all simulations (n=22) in the `cb-oura-1.0` ensemble.   From a user standpoint simply specifying the `chunks` argument when opening the data via `xarray.open_dataset` will autmomatically result in dask being employed.  In this case, the calculations are additionally computed in parrallel via a `dask.distributed` client of worker processes instead of the default scheduler.\n"
   ]
  },
  {
   "cell_type": "markdown",
   "metadata": {},
   "source": [
    "#### User input section\n",
    "Many PAVICS users may wish to simply calculate a list of custom defined climate indicators over their own region of interest.  The following code section can be edited in order to define :\n",
    "* The dataset(s) to be used (in this case cb-oura-1.0 thredds catalogue url)\n",
    "* A subset region of interest (in this case a polygon over Gaspésie)\n",
    "* A start and end date on which to perform the calculations\n",
    "* A list of climate indicator calculations to perform (a python list of `xclim.atmos` functions and associated key-word arguments)\n",
    "\n",
    "*[return to top of page](#top1)*\n"
   ]
  },
  {
   "cell_type": "code",
   "execution_count": 5,
   "metadata": {
    "execution": {
     "iopub.execute_input": "2024-05-10T03:12:13.139575Z",
     "iopub.status.busy": "2024-05-10T03:12:13.138826Z",
     "iopub.status.idle": "2024-05-10T03:12:13.674283Z",
     "shell.execute_reply": "2024-05-10T03:12:13.673362Z"
    }
   },
   "outputs": [],
   "source": [
    "from pathlib import Path\n",
    "\n",
    "from dask import compute\n",
    "from dask.distributed import Client\n",
    "from IPython.display import clear_output, display\n",
    "\n",
    "# cb-oura-1.0 thredds url\n",
    "url = \"https://pavics.ouranos.ca/twitcher/ows/proxy/thredds/catalog/datasets/simulations/bias_adjusted/cmip5/ouranos/cb-oura-1.0/catalog.xml\"  # TEST_USE_PROD_DATA\n",
    "\n",
    "# specify output folder for netcdf files\n",
    "output = \"/notebook_dir/writable-workspace/tmp/tutorial3/output\"\n",
    "\n",
    "# Create Catalog\n",
    "cat = TDSCatalog(url)\n",
    "\n",
    "# We will subset over the Gaspé peninsula in eastern Quebec\n",
    "gaspe = gpd.GeoDataFrame.from_file(\n",
    "    \"/notebook_dir/pavics-homepage/tutorial_data/gaspesie_mrc.geojson\"\n",
    ")\n",
    "\n",
    "# buffer the region slightly (.05 degrees) to include slightly more gridcells than necessary\n",
    "gaspe = gpd.GeoDataFrame(geometry=gaspe.buffer(0.05))\n",
    "\n",
    "# calculate on data using start year - if `start_date=None` calculation starts on the intitial timestep\n",
    "start_date = \"1970\"\n",
    "\n",
    "# define an end_date - if `end_date=None` calculation will use the last timestep as an end_date\n",
    "end_date = None\n",
    "\n",
    "# Set up a dictionary of xclim.atmos calculations to perform.\n",
    "# In the example we will calculate two indicators with seasonal and yearly frequency (freq='QS-DEC' and 'YS')\n",
    "calcs = []\n",
    "\n",
    "# calculation 1 : seasonal number of days with tmax above 27 degC\n",
    "calcs.append(\n",
    "    dict(\n",
    "        func=atmos.tx_days_above,\n",
    "        invars=dict(tasmax=\"tasmax\"),\n",
    "        args=dict(thresh=\"27 degC\", freq=\"QS-DEC\"),\n",
    "    )\n",
    ")\n",
    "# calculation 2 : yearly number of days with tmax above 27 degC\n",
    "calcs.append(\n",
    "    dict(\n",
    "        func=atmos.tx_days_above,\n",
    "        invars=dict(tasmax=\"tasmax\"),\n",
    "        args=dict(thresh=\"27 degC\", freq=\"YS\"),\n",
    "    )\n",
    ")\n",
    "# calculation 3: seasonal average maximum daily temperature\n",
    "calcs.append(\n",
    "    dict(func=atmos.tx_mean, invars=dict(tasmax=\"tasmax\"), args=dict(freq=\"QS-DEC\"))\n",
    ")\n",
    "# calculation 4: yearly average maximum daily temperature\n",
    "calcs.append(\n",
    "    dict(func=atmos.tx_mean, invars=dict(tasmax=\"tasmax\"), args=dict(freq=\"YS\"))\n",
    ")\n",
    "# Additional calculations added here ..."
   ]
  },
  {
   "cell_type": "markdown",
   "metadata": {},
   "source": [
    "#### Parallel processing section\n",
    "The following section of code will execute the calculations prepared above. In many cases the following code can be used as is (or with only slight modifications). It will iteratively prepare a series `dask.delayed` computations on the input datasets found within the THREDDS catalog url (in this case we prepare `dask.delayed` tasks to output one netcdf file per simulation per climate indicator calculation). Then, employing a dask distributed `Client`, simulataneously execute all calculations in parralel. Climate indicator calculation output netcdf files are written into an `output` subfolder.\n",
    "\n",
    "<div class=\"alert alert-info\"><strong>Info!</strong> Despite increased performance via parallel processing executing this portion of the tutorial will likely take some time to finish all computations.\n",
    "</div>"
   ]
  },
  {
   "cell_type": "code",
   "execution_count": 6,
   "metadata": {
    "execution": {
     "iopub.execute_input": "2024-05-10T03:12:13.678646Z",
     "iopub.status.busy": "2024-05-10T03:12:13.678247Z",
     "iopub.status.idle": "2024-05-10T03:22:26.446549Z",
     "shell.execute_reply": "2024-05-10T03:22:26.445722Z"
    }
   },
   "outputs": [
    {
     "name": "stderr",
     "output_type": "stream",
     "text": [
      "INFO:distributed.scheduler:Remove client Client-191cf495-0e7b-11ef-8e0f-0242ac110002\n"
     ]
    },
    {
     "name": "stderr",
     "output_type": "stream",
     "text": [
      "INFO:distributed.core:Received 'close-stream' from tcp://127.0.0.1:53672; closing.\n"
     ]
    },
    {
     "name": "stderr",
     "output_type": "stream",
     "text": [
      "INFO:distributed.scheduler:Remove client Client-191cf495-0e7b-11ef-8e0f-0242ac110002\n"
     ]
    },
    {
     "name": "stderr",
     "output_type": "stream",
     "text": [
      "INFO:distributed.scheduler:Close client connection: Client-191cf495-0e7b-11ef-8e0f-0242ac110002\n"
     ]
    },
    {
     "name": "stderr",
     "output_type": "stream",
     "text": [
      "INFO:distributed.scheduler:Retire worker addresses (0, 1, 2, 3, 4, 5)\n"
     ]
    },
    {
     "name": "stderr",
     "output_type": "stream",
     "text": [
      "INFO:distributed.nanny:Closing Nanny at 'tcp://127.0.0.1:37596'. Reason: nanny-close\n"
     ]
    },
    {
     "name": "stderr",
     "output_type": "stream",
     "text": [
      "INFO:distributed.nanny:Nanny asking worker to close. Reason: nanny-close\n"
     ]
    },
    {
     "name": "stderr",
     "output_type": "stream",
     "text": [
      "INFO:distributed.nanny:Closing Nanny at 'tcp://127.0.0.1:42919'. Reason: nanny-close\n"
     ]
    },
    {
     "name": "stderr",
     "output_type": "stream",
     "text": [
      "INFO:distributed.nanny:Nanny asking worker to close. Reason: nanny-close\n"
     ]
    },
    {
     "name": "stderr",
     "output_type": "stream",
     "text": [
      "INFO:distributed.nanny:Closing Nanny at 'tcp://127.0.0.1:38069'. Reason: nanny-close\n"
     ]
    },
    {
     "name": "stderr",
     "output_type": "stream",
     "text": [
      "INFO:distributed.nanny:Nanny asking worker to close. Reason: nanny-close\n"
     ]
    },
    {
     "name": "stderr",
     "output_type": "stream",
     "text": [
      "INFO:distributed.nanny:Closing Nanny at 'tcp://127.0.0.1:44908'. Reason: nanny-close\n"
     ]
    },
    {
     "name": "stderr",
     "output_type": "stream",
     "text": [
      "INFO:distributed.nanny:Nanny asking worker to close. Reason: nanny-close\n"
     ]
    },
    {
     "name": "stderr",
     "output_type": "stream",
     "text": [
      "INFO:distributed.nanny:Closing Nanny at 'tcp://127.0.0.1:43209'. Reason: nanny-close\n"
     ]
    },
    {
     "name": "stderr",
     "output_type": "stream",
     "text": [
      "INFO:distributed.nanny:Nanny asking worker to close. Reason: nanny-close\n"
     ]
    },
    {
     "name": "stderr",
     "output_type": "stream",
     "text": [
      "INFO:distributed.nanny:Closing Nanny at 'tcp://127.0.0.1:44949'. Reason: nanny-close\n"
     ]
    },
    {
     "name": "stderr",
     "output_type": "stream",
     "text": [
      "INFO:distributed.nanny:Nanny asking worker to close. Reason: nanny-close\n"
     ]
    },
    {
     "name": "stderr",
     "output_type": "stream",
     "text": [
      "INFO:distributed.core:Received 'close-stream' from tcp://127.0.0.1:55038; closing.\n"
     ]
    },
    {
     "name": "stderr",
     "output_type": "stream",
     "text": [
      "INFO:distributed.core:Received 'close-stream' from tcp://127.0.0.1:55042; closing.\n"
     ]
    },
    {
     "name": "stderr",
     "output_type": "stream",
     "text": [
      "INFO:distributed.core:Received 'close-stream' from tcp://127.0.0.1:55034; closing.\n"
     ]
    },
    {
     "name": "stderr",
     "output_type": "stream",
     "text": [
      "INFO:distributed.core:Received 'close-stream' from tcp://127.0.0.1:55032; closing.\n"
     ]
    },
    {
     "name": "stderr",
     "output_type": "stream",
     "text": [
      "INFO:distributed.core:Received 'close-stream' from tcp://127.0.0.1:55040; closing.\n"
     ]
    },
    {
     "name": "stderr",
     "output_type": "stream",
     "text": [
      "INFO:distributed.scheduler:Remove worker <WorkerState 'tcp://127.0.0.1:37134', name: 0, status: closing, memory: 0, processing: 0> (stimulus_id='handle-worker-cleanup-1715311346.0854993')\n"
     ]
    },
    {
     "name": "stderr",
     "output_type": "stream",
     "text": [
      "INFO:distributed.scheduler:Remove worker <WorkerState 'tcp://127.0.0.1:34928', name: 1, status: closing, memory: 0, processing: 0> (stimulus_id='handle-worker-cleanup-1715311346.0878124')\n"
     ]
    },
    {
     "name": "stderr",
     "output_type": "stream",
     "text": [
      "INFO:distributed.scheduler:Remove worker <WorkerState 'tcp://127.0.0.1:46003', name: 2, status: closing, memory: 0, processing: 0> (stimulus_id='handle-worker-cleanup-1715311346.0899696')\n"
     ]
    },
    {
     "name": "stderr",
     "output_type": "stream",
     "text": [
      "INFO:distributed.scheduler:Remove worker <WorkerState 'tcp://127.0.0.1:40848', name: 3, status: closing, memory: 0, processing: 0> (stimulus_id='handle-worker-cleanup-1715311346.0921535')\n"
     ]
    },
    {
     "name": "stderr",
     "output_type": "stream",
     "text": [
      "INFO:distributed.scheduler:Remove worker <WorkerState 'tcp://127.0.0.1:36639', name: 4, status: closing, memory: 0, processing: 0> (stimulus_id='handle-worker-cleanup-1715311346.094283')\n"
     ]
    },
    {
     "name": "stderr",
     "output_type": "stream",
     "text": [
      "INFO:distributed.core:Received 'close-stream' from tcp://127.0.0.1:55036; closing.\n"
     ]
    },
    {
     "name": "stderr",
     "output_type": "stream",
     "text": [
      "INFO:distributed.scheduler:Remove worker <WorkerState 'tcp://127.0.0.1:35144', name: 5, status: closing, memory: 0, processing: 0> (stimulus_id='handle-worker-cleanup-1715311346.0996034')\n"
     ]
    },
    {
     "name": "stderr",
     "output_type": "stream",
     "text": [
      "INFO:distributed.scheduler:Lost all workers\n"
     ]
    },
    {
     "name": "stderr",
     "output_type": "stream",
     "text": [
      "INFO:distributed.scheduler:Scheduler closing due to unknown reason...\n"
     ]
    },
    {
     "name": "stderr",
     "output_type": "stream",
     "text": [
      "INFO:distributed.scheduler:Scheduler closing all comms\n"
     ]
    }
   ],
   "source": [
    "# NBVAL_SKIP\n",
    "\n",
    "\n",
    "# We define a small sub-function for xclim.atmos indicator calculation and export to netcdf.\n",
    "# compute=False results in returning a dask.delayed object : computation is not immediately executed.\n",
    "# dask.delayed objects for all calculations are appended to a list and executed in parralel all at once\n",
    "def indicator_calc(func, outfile, args, attrs):\n",
    "    dsout = xr.Dataset(attrs=attrs)\n",
    "    out = func(**args)\n",
    "    dsout[out.name] = out\n",
    "    dsout.to_netcdf(outfile, mode=\"w\")\n",
    "\n",
    "\n",
    "# Parallel computing part...\n",
    "dask_kwargs = dict(\n",
    "    n_workers=6,\n",
    "    threads_per_worker=6,\n",
    "    memory_limit=\"4GB\",\n",
    "    local_directory=\"/notebook_dir/writable-workspace/tmp\",\n",
    ")\n",
    "with Client(**dask_kwargs) as client:\n",
    "    # loop over the list of calculations to perform\n",
    "    for c in calcs:\n",
    "        # create an output file prefix from the input arguments\n",
    "        prefix = \"-\".join(\n",
    "            [f\"{c['args'][c1]}\" for c1 in c[\"args\"] if type(c[\"args\"][c1]) == str]\n",
    "        )\n",
    "\n",
    "        # we also add the xclim.atmos function identifier to the file prefix\n",
    "        prefix = f\"{c['func'].identifier}_{prefix.replace(' ','_')}\"\n",
    "\n",
    "        # Loop over all climate simulations in the ensemble:\n",
    "        # We'll create a list of dask.delayed calculations that will be subsequently sent to the Client for computation\n",
    "\n",
    "        for i, d in enumerate([cat.datasets[x] for x in cat.datasets]):\n",
    "            clear_output(wait=True)\n",
    "            print(\n",
    "                f\"calculation {i+1} of {len([cat.datasets[x] for x in cat.datasets])} for {prefix}... \"\n",
    "            )\n",
    "\n",
    "            # create the output file path\n",
    "            # We will write to a 'output' subdirectory\n",
    "            outfile = Path(output).joinpath(\n",
    "                d.name.replace(\"day_\", f\"{prefix}_\")\n",
    "                .replace(\"1950\", start_date)\n",
    "                .replace(\".ncml\", \".nc\")\n",
    "            )\n",
    "\n",
    "            # create the output dir if not already present\n",
    "            outfile.parent.mkdir(parents=True, exist_ok=True)\n",
    "\n",
    "            # access the climate simulation data from thredds\n",
    "            ds = xr.open_dataset(d.access_urls[\"OPENDAP\"], chunks=dict(time=256 * 15))\n",
    "            # subset the dataset\n",
    "            ds = subset.subset_shape(\n",
    "                ds, shape=gaspe, start_date=start_date, end_date=end_date\n",
    "            )\n",
    "            # add the subsetted dataset to the list of input arguments\n",
    "            args = c[\"args\"]\n",
    "            for v, vv in c[\"invars\"].items():\n",
    "                args[v] = ds[vv]\n",
    "            # call our custom sub-function with the arguments and data\n",
    "            # append the returned dask.delayed object to our list\n",
    "            display(client)\n",
    "            indicator_calc(c[\"func\"], outfile, args, ds.attrs)\n",
    "\n",
    "        print(\"finished\")\n",
    "\n",
    "        # optionally restart the client when finished (can help ensure good memory management)\n",
    "        client.restart()\n",
    "        clear_output()"
   ]
  },
  {
   "cell_type": "markdown",
   "metadata": {},
   "source": [
    "___\n",
    "### Notes\n",
    "\n",
    "<a id='workspace'></a>\n",
    "\n",
    "<div class=\"alert alert-info\"><strong>Info! writeable-workspace location.</strong> To conserve any modifications and to avoid permission errors for notebooks which write output to disk it is necessary to copy tutorial notebooks from the \"pavics-homepage\" folder to a location within your \"writeable-workspace\"\n",
    "</div>"
   ]
  },
  {
   "attachments": {
    "1e458dad-73f1-4a54-9e9d-e324b2f0d6b4.png": {
     "image/png": "[encoded data removed]"
    }
   },
   "cell_type": "markdown",
   "metadata": {},
   "source": [
    "![writable_workspace.png](attachment:1e458dad-73f1-4a54-9e9d-e324b2f0d6b4.png)\n",
    "\n",
    "*[return to top of page](#top1)*"
   ]
  }
 ],
 "metadata": {
  "kernelspec": {
   "display_name": "birdy",
   "language": "python",
   "name": "birdy"
  },
  "language_info": {
   "codemirror_mode": {
    "name": "ipython",
    "version": 3
   },
   "file_extension": ".py",
   "mimetype": "text/x-python",
   "name": "python",
   "nbconvert_exporter": "python",
   "pygments_lexer": "ipython3",
   "version": "3.11.6"
  }
 },
 "nbformat": 4,
 "nbformat_minor": 4
}
