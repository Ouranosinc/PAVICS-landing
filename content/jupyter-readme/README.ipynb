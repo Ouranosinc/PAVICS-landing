{
 "cells": [
  {
   "cell_type": "markdown",
   "metadata": {},
   "source": [
    "# Welcome to the PAVICS's JupyterLab\n",
    "\n",
    "This is Ouranos' JupyterLab server for the PAVICS platform. PAVICS is a climate science gateway hosting both climate data and analytical services:\n",
    "- NetCDF datasets: [THREDDS Data Server](https://pavics.ouranos.ca/twitcher/ows/proxy/thredds/)\n",
    "- Geospatial layers: [GeoServer](https://pavics.ouranos.ca/geoserver)\n",
    "- Climate indicators: [Finch](https://pavics.ouranos.ca/twitcher/ows/proxy/finch/)\n",
    "- Hydrological modeling: [Raven](https://pavics.ouranos.ca/twitcher/ows/proxy/raven/)\n",
    "- Experimental utilities: [FlyingPigeon](https://pavics.ouranos.ca/twitcher/ows/proxy/flyingpigeon/)\n",
    "\n",
    "These servers are intended to be accessed through a programming environment. More precisely, analytical services can be accessed through a Web Processing Services (WPS) Application programming interface (API). To facilitate the integration of these WPS processes into typical scientific workflows, we suggest using the high-level Python client library (`birdy.WPSClient`). \n",
    "\n",
    "The public demo account on the login page of this JupyterLab is not meant as a production environment. It is a public account with no private directory and limited computing resources. Your files are public, can be seen by the rest of the world and can be reset at anytime. Use it to explore the system's capability and see whether it may be useful to your work.\n",
    "\n",
    "You can request personal account by contacting the email on the login page.  With a personal account, you will have a production environment with private workspace and no computing resource limitation.\n",
    "\n",
    "## Home Directory Layout\n",
    "\n",
    "```\n",
    "/notebook_dir/\n",
    "├── README.ipynb        # This file, read-only.\n",
    "├── pavics-homepage     # Tutorial notebooks from the PAVICS homepage, read-only.\n",
    "├── tutorial-notebooks  # Other tutorial notebooks, read-only.\n",
    "├── public              # Public share of all other users on this system, read-only.\n",
    "├── mypublic            # Your public share visible to all other users, do not put anything private in there.\n",
    "└── writable-workspace  # Your personal writable workspace, private to you only.\n",
    "```\n",
    "\n",
    "## Example: Computing a climate index at a given coordinate"
   ]
  },
  {
   "cell_type": "code",
   "execution_count": 1,
   "metadata": {},
   "outputs": [],
   "source": [
    "%matplotlib inline\n",
    "# Open the connection to the WPS server\n",
    "from birdy import WPSClient\n",
    "wps = WPSClient('https://pavics.ouranos.ca/twitcher/ows/proxy/finch/')"
   ]
  },
  {
   "cell_type": "code",
   "execution_count": 2,
   "metadata": {},
   "outputs": [],
   "source": [
    "# Launch the process extracting the daily time series from a grid point\n",
    "url = \"https://pavics.ouranos.ca/thredds/dodsC/birdhouse/\"\\\n",
    "      \"cmip5/MRI/rcp85/day/atmos/r1i1p1/pr/pr_day_MRI-CGCM3_rcp85_r1i1p1_20060101-20151231.nc\"\n",
    "resp = wps.subset_gridpoint(url, -108, 45, variable='pr')"
   ]
  },
  {
   "cell_type": "code",
   "execution_count": 3,
   "metadata": {},
   "outputs": [
    {
     "name": "stdout",
     "output_type": "stream",
     "text": [
      "https://pavics.ouranos.ca/wpsoutputs/a1652284-c03d-11e9-a6ff-0242ac12000c/pr_day_MRI-CGCM3_rcp85_r1i1p1_20060101-20151231_sub.nc\n"
     ]
    }
   ],
   "source": [
    "# Inspect the response\n",
    "reference, meta = resp.get()\n",
    "print(reference)"
   ]
  },
  {
   "cell_type": "markdown",
   "metadata": {},
   "source": [
    "The output of the process is stored on the server. You may reuse this link as an input to another process, or open it locally. "
   ]
  },
  {
   "cell_type": "code",
   "execution_count": 4,
   "metadata": {},
   "outputs": [
    {
     "name": "stdout",
     "output_type": "stream",
     "text": [
      "Downloading to /tmp/tmpphgljtuh/pr_day_MRI-CGCM3_rcp85_r1i1p1_20060101-20151231_sub.nc.\n"
     ]
    },
    {
     "data": {
      "text/plain": [
       "<xarray.Dataset>\n",
       "Dimensions:  (time: 3652)\n",
       "Coordinates:\n",
       "    lon      float64 ...\n",
       "  * time     (time) datetime64[ns] 2006-01-01T12:00:00 ... 2015-12-31T12:00:00\n",
       "    lat      float64 ...\n",
       "Data variables:\n",
       "    pr       (time) float32 ...\n",
       "Attributes:\n",
       "    institution:                     MRI (Meteorological Research Institute, ...\n",
       "    institute_id:                    MRI\n",
       "    experiment_id:                   rcp85\n",
       "    source:                          MRI-CGCM3 2011 atmosphere: GSMUV (gsmuv-...\n",
       "    model_id:                        MRI-CGCM3\n",
       "    forcing:                         GHG, SA, Oz, LU, Sl, Vl, BC, OC (GHG inc...\n",
       "    parent_experiment_id:            historical\n",
       "    parent_experiment_rip:           r1i1p1\n",
       "    branch_time:                     56978.0\n",
       "    contact:                         Seiji Yukimoto (yukimoto@mri-jma.go.jp)\n",
       "    history:                         Output from /sharex2/cmip5/rcp85/run-C3_...\n",
       "    references:                      Model described by Yukimoto et al. (Tech...\n",
       "    initialization_method:           1\n",
       "    physics_version:                 1\n",
       "    tracking_id:                     0fd95a33-a805-4e18-8821-3c4e51fcf800\n",
       "    product:                         output\n",
       "    experiment:                      RCP8.5\n",
       "    frequency:                       day\n",
       "    creation_date:                   2011-06-09T19:59:26Z\n",
       "    Conventions:                     CF-1.4\n",
       "    project_id:                      CMIP5\n",
       "    table_id:                        Table day (27 April 2011) 86d1558d99b6ed...\n",
       "    title:                           MRI-CGCM3 model output prepared for CMIP...\n",
       "    parent_experiment:               historical\n",
       "    modeling_realm:                  atmos\n",
       "    realization:                     1\n",
       "    cmor_version:                    2.6.0\n",
       "    DODS_EXTRA.Unlimited_Dimension:  time"
      ]
     },
     "execution_count": 4,
     "metadata": {},
     "output_type": "execute_result"
    }
   ],
   "source": [
    "pr, meta = resp.get(asobj=True)\n",
    "pr"
   ]
  },
  {
   "cell_type": "markdown",
   "metadata": {},
   "source": [
    "Now let's use the precipitation time series stored on the server to compute the maximum annual daily precipitation."
   ]
  },
  {
   "cell_type": "code",
   "execution_count": 5,
   "metadata": {},
   "outputs": [],
   "source": [
    "resp_rx1 = wps.rx1day(reference)"
   ]
  },
  {
   "cell_type": "code",
   "execution_count": 6,
   "metadata": {},
   "outputs": [],
   "source": [
    "rx1, meta = resp_rx1.get(asobj=True)"
   ]
  },
  {
   "cell_type": "code",
   "execution_count": 7,
   "metadata": {},
   "outputs": [
    {
     "data": {
      "text/plain": [
       "[<matplotlib.lines.Line2D at 0x7fd3a7286a20>]"
      ]
     },
     "execution_count": 7,
     "metadata": {},
     "output_type": "execute_result"
    },
    {
     "data": {
      "image/png": "[encoded data removed]",
      "text/plain": [
       "<Figure size 432x288 with 1 Axes>"
      ]
     },
     "metadata": {
      "needs_background": "light"
     },
     "output_type": "display_data"
    }
   ],
   "source": [
    "import xarray as xr\n",
    "xr.plot.utils.register_pandas_datetime_converter_if_needed()\n",
    "rx1.rx1day.plot()"
   ]
  },
  {
   "cell_type": "markdown",
   "metadata": {},
   "source": [
    "## Next steps\n",
    "\n",
    "Want to check out what other neat stuff it can do ? The `help` function will get you the description of each process available (`help(wps.rx1day)`). The code in this notebook will work from your laptop, provided you install the following: \n",
    "```\n",
    "pip install birdhouse-birdy xarray matplotlib\n",
    "```\n",
    "\n",
    "If you have any problem, check out the [documentation](https://pavics-sdi.readthedocs.io/en/latest/) or open an [issue] (https://github.com/Ouranosinc/pavics-sdi/issues).\n",
    "\n",
    "Note that you may use the services over any netCDF file, whether it sits on your computer or another server. It will simply be downloaded to the PAVICS server before the process is launched. \n",
    "\n",
    "We're diligently working on improving the services offered and growing the data co-located with the services. Some aspects of the gateway are mature, while others are in development, so be aware that you might hit roadblocks along the way. Don't hesitate to provide feedback at pavics@ouranos.ca. \n",
    "\n",
    "## Credits\n",
    "\n",
    "The PAVICS platform is developed and maintained by Ouranos, the Centre de Recherche Informatique de Montréal and the German Climate Computing Center (DKRZ). It is part of [birdhouse](https://birdhouse.readthedocs.io), a software stack built by an international community motivated by free public access to climate data and services. The platform's development was funded by the [CANARIE](https://canarie.ca) research software program and the [Canadian Center for Climate Services](https://www.canada.ca/en/environment-climate-change/services/climate-change/canadian-centre-climate-services.html).  "
   ]
  }
 ],
 "metadata": {
  "kernelspec": {
   "display_name": "Python 3 (ipykernel)",
   "language": "python",
   "name": "python3"
  },
  "language_info": {
   "codemirror_mode": {
    "name": "ipython",
    "version": 3
   },
   "file_extension": ".py",
   "mimetype": "text/x-python",
   "name": "python",
   "nbconvert_exporter": "python",
   "pygments_lexer": "ipython3",
   "version": "3.7.10"
  }
 },
 "nbformat": 4,
 "nbformat_minor": 2
}
