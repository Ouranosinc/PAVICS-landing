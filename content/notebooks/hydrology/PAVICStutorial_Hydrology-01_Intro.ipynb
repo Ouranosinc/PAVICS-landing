{
 "cells": [
  {
   "cell_type": "markdown",
   "id": "1030535e-0bf4-43ba-a011-fee6267978c0",
   "metadata": {},
   "source": [
    "# Running Raven on PAVICS\n",
    "\n",
    "\n",
    "[Raven](https://raven.uwaterloo.ca) is an hydrological modeling framework that lets hydrologists build hydrological models by combining different hydrological processes together. It can also be used to emulate a variety of existing lumped and distributed models. Model structure, parameters, initial conditions and forcing files are configured in text files, which Raven parses to run hydrological simulations. A detailed description of Raven' modeling capabilities can be found in the [Raven manual](https://www.civil.uwaterloo.ca/raven/files/v3.7/RavenManual_v3.8.pdf)\n",
    "\n",
    "\n",
    "[RavenPy](https://ravenpy.readthedocs.io) provides a Python interface to Raven, automating the creation of configuration files and allowing the model to be launched from Python. Results, or errors, are automatically parsed and exposed within the programming environment. This facilitates the launch of parallel simulations, multi-model prediction ensembles, sensitivity analyses and other experiments involving a large number of model runs.\n",
    "\n",
    "\n",
    "## Running Raven from existing configuration files\n",
    "\n",
    "To run Raven using existing configuration files (`.rv*`), simply call the `ravenpy.run` function with the name of the configuration file and the path to the directory storing the RV files. `run` simply returns the directory storing the model outputs. If Raven emits warnings, those will be printed in the console. If Raven raises errors, `run` will halt the execution with a `RavenError` and display the error messages in `Raven_errors.txt`."
   ]
  },
  {
   "cell_type": "code",
   "execution_count": 1,
   "id": "1cda6695-aa4c-4699-b37d-6231459bd0f8",
   "metadata": {
    "execution": {
     "iopub.execute_input": "2025-04-23T21:52:23.089404Z",
     "iopub.status.busy": "2025-04-23T21:52:23.088074Z",
     "iopub.status.idle": "2025-04-23T21:52:25.194601Z",
     "shell.execute_reply": "2025-04-23T21:52:25.192489Z"
    },
    "tags": []
   },
   "outputs": [
    {
     "data": {
      "text/plain": [
       "PosixPath('/notebook_dir/writable-workspace/tmp/raven_tutorial_output')"
      ]
     },
     "execution_count": 1,
     "metadata": {},
     "output_type": "execute_result"
    }
   ],
   "source": [
    "from ravenpy import run\n",
    "\n",
    "config_dir = \"tutorial_data/\"\n",
    "output_dir = \"/notebook_dir/writable-workspace/tmp/raven_tutorial_output\"\n",
    "run(\"raven-gr4j-salmon\", configdir=config_dir, outputdir=output_dir)"
   ]
  },
  {
   "cell_type": "markdown",
   "id": "65608f30-4997-47ea-82f3-82e6102ccfce",
   "metadata": {},
   "source": [
    "## Exposing model outputs as Python objects\n",
    "\n",
    "The model outputs can be read with the `ravenpy.OutputReader`, a class holding the various Raven outputs as attributes. Streamflow time series and model state variables are exposed as `xarray.Dataset` objects within the  `hydrograph` and `storage` attributes respectively.\n",
    "\n",
    "Note that an `EnsembleReader` class is also available to merge together outputs from multiple simulations.  "
   ]
  },
  {
   "cell_type": "code",
   "execution_count": 2,
   "id": "48fe21f4-73c0-4581-83ed-467c507951fc",
   "metadata": {
    "execution": {
     "iopub.execute_input": "2025-04-23T21:52:25.199511Z",
     "iopub.status.busy": "2025-04-23T21:52:25.198308Z",
     "iopub.status.idle": "2025-04-23T21:52:27.242056Z",
     "shell.execute_reply": "2025-04-23T21:52:27.241219Z"
    },
    "tags": []
   },
   "outputs": [
    {
     "data": {
      "text/html": [
       "<div><svg style=\"position: absolute; width: 0; height: 0; overflow: hidden\">\n",
       "<defs>\n",
       "<symbol id=\"icon-database\" viewBox=\"0 0 32 32\">\n",
       "<path d=\"M16 0c-8.837 0-16 2.239-16 5v4c0 2.761 7.163 5 16 5s16-2.239 16-5v-4c0-2.761-7.163-5-16-5z\"></path>\n",
       "<path d=\"M16 17c-8.837 0-16-2.239-16-5v6c0 2.761 7.163 5 16 5s16-2.239 16-5v-6c0 2.761-7.163 5-16 5z\"></path>\n",
       "<path d=\"M16 26c-8.837 0-16-2.239-16-5v6c0 2.761 7.163 5 16 5s16-2.239 16-5v-6c0 2.761-7.163 5-16 5z\"></path>\n",
       "</symbol>\n",
       "<symbol id=\"icon-file-text2\" viewBox=\"0 0 32 32\">\n",
       "<path d=\"M28.681 7.159c-0.694-0.947-1.662-2.053-2.724-3.116s-2.169-2.030-3.116-2.724c-1.612-1.182-2.393-1.319-2.841-1.319h-15.5c-1.378 0-2.5 1.121-2.5 2.5v27c0 1.378 1.122 2.5 2.5 2.5h23c1.378 0 2.5-1.122 2.5-2.5v-19.5c0-0.448-0.137-1.23-1.319-2.841zM24.543 5.457c0.959 0.959 1.712 1.825 2.268 2.543h-4.811v-4.811c0.718 0.556 1.584 1.309 2.543 2.268zM28 29.5c0 0.271-0.229 0.5-0.5 0.5h-23c-0.271 0-0.5-0.229-0.5-0.5v-27c0-0.271 0.229-0.5 0.5-0.5 0 0 15.499-0 15.5 0v7c0 0.552 0.448 1 1 1h7v19.5z\"></path>\n",
       "<path d=\"M23 26h-14c-0.552 0-1-0.448-1-1s0.448-1 1-1h14c0.552 0 1 0.448 1 1s-0.448 1-1 1z\"></path>\n",
       "<path d=\"M23 22h-14c-0.552 0-1-0.448-1-1s0.448-1 1-1h14c0.552 0 1 0.448 1 1s-0.448 1-1 1z\"></path>\n",
       "<path d=\"M23 18h-14c-0.552 0-1-0.448-1-1s0.448-1 1-1h14c0.552 0 1 0.448 1 1s-0.448 1-1 1z\"></path>\n",
       "</symbol>\n",
       "</defs>\n",
       "</svg>\n",
       "<style>/* CSS stylesheet for displaying xarray objects in jupyterlab.\n",
       " *\n",
       " */\n",
       "\n",
       ":root {\n",
       "  --xr-font-color0: var(--jp-content-font-color0, rgba(0, 0, 0, 1));\n",
       "  --xr-font-color2: var(--jp-content-font-color2, rgba(0, 0, 0, 0.54));\n",
       "  --xr-font-color3: var(--jp-content-font-color3, rgba(0, 0, 0, 0.38));\n",
       "  --xr-border-color: var(--jp-border-color2, #e0e0e0);\n",
       "  --xr-disabled-color: var(--jp-layout-color3, #bdbdbd);\n",
       "  --xr-background-color: var(--jp-layout-color0, white);\n",
       "  --xr-background-color-row-even: var(--jp-layout-color1, white);\n",
       "  --xr-background-color-row-odd: var(--jp-layout-color2, #eeeeee);\n",
       "}\n",
       "\n",
       "html[theme=\"dark\"],\n",
       "html[data-theme=\"dark\"],\n",
       "body[data-theme=\"dark\"],\n",
       "body.vscode-dark {\n",
       "  --xr-font-color0: rgba(255, 255, 255, 1);\n",
       "  --xr-font-color2: rgba(255, 255, 255, 0.54);\n",
       "  --xr-font-color3: rgba(255, 255, 255, 0.38);\n",
       "  --xr-border-color: #1f1f1f;\n",
       "  --xr-disabled-color: #515151;\n",
       "  --xr-background-color: #111111;\n",
       "  --xr-background-color-row-even: #111111;\n",
       "  --xr-background-color-row-odd: #313131;\n",
       "}\n",
       "\n",
       ".xr-wrap {\n",
       "  display: block !important;\n",
       "  min-width: 300px;\n",
       "  max-width: 700px;\n",
       "}\n",
       "\n",
       ".xr-text-repr-fallback {\n",
       "  /* fallback to plain text repr when CSS is not injected (untrusted notebook) */\n",
       "  display: none;\n",
       "}\n",
       "\n",
       ".xr-header {\n",
       "  padding-top: 6px;\n",
       "  padding-bottom: 6px;\n",
       "  margin-bottom: 4px;\n",
       "  border-bottom: solid 1px var(--xr-border-color);\n",
       "}\n",
       "\n",
       ".xr-header > div,\n",
       ".xr-header > ul {\n",
       "  display: inline;\n",
       "  margin-top: 0;\n",
       "  margin-bottom: 0;\n",
       "}\n",
       "\n",
       ".xr-obj-type,\n",
       ".xr-array-name {\n",
       "  margin-left: 2px;\n",
       "  margin-right: 10px;\n",
       "}\n",
       "\n",
       ".xr-obj-type {\n",
       "  color: var(--xr-font-color2);\n",
       "}\n",
       "\n",
       ".xr-sections {\n",
       "  padding-left: 0 !important;\n",
       "  display: grid;\n",
       "  grid-template-columns: 150px auto auto 1fr 0 20px 0 20px;\n",
       "}\n",
       "\n",
       ".xr-section-item {\n",
       "  display: contents;\n",
       "}\n",
       "\n",
       ".xr-section-item input {\n",
       "  display: inline-block;\n",
       "  opacity: 0;\n",
       "  height: 0;\n",
       "}\n",
       "\n",
       ".xr-section-item input + label {\n",
       "  color: var(--xr-disabled-color);\n",
       "}\n",
       "\n",
       ".xr-section-item input:enabled + label {\n",
       "  cursor: pointer;\n",
       "  color: var(--xr-font-color2);\n",
       "}\n",
       "\n",
       ".xr-section-item input:focus + label {\n",
       "  border: 2px solid var(--xr-font-color0);\n",
       "}\n",
       "\n",
       ".xr-section-item input:enabled + label:hover {\n",
       "  color: var(--xr-font-color0);\n",
       "}\n",
       "\n",
       ".xr-section-summary {\n",
       "  grid-column: 1;\n",
       "  color: var(--xr-font-color2);\n",
       "  font-weight: 500;\n",
       "}\n",
       "\n",
       ".xr-section-summary > span {\n",
       "  display: inline-block;\n",
       "  padding-left: 0.5em;\n",
       "}\n",
       "\n",
       ".xr-section-summary-in:disabled + label {\n",
       "  color: var(--xr-font-color2);\n",
       "}\n",
       "\n",
       ".xr-section-summary-in + label:before {\n",
       "  display: inline-block;\n",
       "  content: \"►\";\n",
       "  font-size: 11px;\n",
       "  width: 15px;\n",
       "  text-align: center;\n",
       "}\n",
       "\n",
       ".xr-section-summary-in:disabled + label:before {\n",
       "  color: var(--xr-disabled-color);\n",
       "}\n",
       "\n",
       ".xr-section-summary-in:checked + label:before {\n",
       "  content: \"▼\";\n",
       "}\n",
       "\n",
       ".xr-section-summary-in:checked + label > span {\n",
       "  display: none;\n",
       "}\n",
       "\n",
       ".xr-section-summary,\n",
       ".xr-section-inline-details {\n",
       "  padding-top: 4px;\n",
       "  padding-bottom: 4px;\n",
       "}\n",
       "\n",
       ".xr-section-inline-details {\n",
       "  grid-column: 2 / -1;\n",
       "}\n",
       "\n",
       ".xr-section-details {\n",
       "  display: none;\n",
       "  grid-column: 1 / -1;\n",
       "  margin-bottom: 5px;\n",
       "}\n",
       "\n",
       ".xr-section-summary-in:checked ~ .xr-section-details {\n",
       "  display: contents;\n",
       "}\n",
       "\n",
       ".xr-array-wrap {\n",
       "  grid-column: 1 / -1;\n",
       "  display: grid;\n",
       "  grid-template-columns: 20px auto;\n",
       "}\n",
       "\n",
       ".xr-array-wrap > label {\n",
       "  grid-column: 1;\n",
       "  vertical-align: top;\n",
       "}\n",
       "\n",
       ".xr-preview {\n",
       "  color: var(--xr-font-color3);\n",
       "}\n",
       "\n",
       ".xr-array-preview,\n",
       ".xr-array-data {\n",
       "  padding: 0 5px !important;\n",
       "  grid-column: 2;\n",
       "}\n",
       "\n",
       ".xr-array-data,\n",
       ".xr-array-in:checked ~ .xr-array-preview {\n",
       "  display: none;\n",
       "}\n",
       "\n",
       ".xr-array-in:checked ~ .xr-array-data,\n",
       ".xr-array-preview {\n",
       "  display: inline-block;\n",
       "}\n",
       "\n",
       ".xr-dim-list {\n",
       "  display: inline-block !important;\n",
       "  list-style: none;\n",
       "  padding: 0 !important;\n",
       "  margin: 0;\n",
       "}\n",
       "\n",
       ".xr-dim-list li {\n",
       "  display: inline-block;\n",
       "  padding: 0;\n",
       "  margin: 0;\n",
       "}\n",
       "\n",
       ".xr-dim-list:before {\n",
       "  content: \"(\";\n",
       "}\n",
       "\n",
       ".xr-dim-list:after {\n",
       "  content: \")\";\n",
       "}\n",
       "\n",
       ".xr-dim-list li:not(:last-child):after {\n",
       "  content: \",\";\n",
       "  padding-right: 5px;\n",
       "}\n",
       "\n",
       ".xr-has-index {\n",
       "  font-weight: bold;\n",
       "}\n",
       "\n",
       ".xr-var-list,\n",
       ".xr-var-item {\n",
       "  display: contents;\n",
       "}\n",
       "\n",
       ".xr-var-item > div,\n",
       ".xr-var-item label,\n",
       ".xr-var-item > .xr-var-name span {\n",
       "  background-color: var(--xr-background-color-row-even);\n",
       "  margin-bottom: 0;\n",
       "}\n",
       "\n",
       ".xr-var-item > .xr-var-name:hover span {\n",
       "  padding-right: 5px;\n",
       "}\n",
       "\n",
       ".xr-var-list > li:nth-child(odd) > div,\n",
       ".xr-var-list > li:nth-child(odd) > label,\n",
       ".xr-var-list > li:nth-child(odd) > .xr-var-name span {\n",
       "  background-color: var(--xr-background-color-row-odd);\n",
       "}\n",
       "\n",
       ".xr-var-name {\n",
       "  grid-column: 1;\n",
       "}\n",
       "\n",
       ".xr-var-dims {\n",
       "  grid-column: 2;\n",
       "}\n",
       "\n",
       ".xr-var-dtype {\n",
       "  grid-column: 3;\n",
       "  text-align: right;\n",
       "  color: var(--xr-font-color2);\n",
       "}\n",
       "\n",
       ".xr-var-preview {\n",
       "  grid-column: 4;\n",
       "}\n",
       "\n",
       ".xr-index-preview {\n",
       "  grid-column: 2 / 5;\n",
       "  color: var(--xr-font-color2);\n",
       "}\n",
       "\n",
       ".xr-var-name,\n",
       ".xr-var-dims,\n",
       ".xr-var-dtype,\n",
       ".xr-preview,\n",
       ".xr-attrs dt {\n",
       "  white-space: nowrap;\n",
       "  overflow: hidden;\n",
       "  text-overflow: ellipsis;\n",
       "  padding-right: 10px;\n",
       "}\n",
       "\n",
       ".xr-var-name:hover,\n",
       ".xr-var-dims:hover,\n",
       ".xr-var-dtype:hover,\n",
       ".xr-attrs dt:hover {\n",
       "  overflow: visible;\n",
       "  width: auto;\n",
       "  z-index: 1;\n",
       "}\n",
       "\n",
       ".xr-var-attrs,\n",
       ".xr-var-data,\n",
       ".xr-index-data {\n",
       "  display: none;\n",
       "  background-color: var(--xr-background-color) !important;\n",
       "  padding-bottom: 5px !important;\n",
       "}\n",
       "\n",
       ".xr-var-attrs-in:checked ~ .xr-var-attrs,\n",
       ".xr-var-data-in:checked ~ .xr-var-data,\n",
       ".xr-index-data-in:checked ~ .xr-index-data {\n",
       "  display: block;\n",
       "}\n",
       "\n",
       ".xr-var-data > table {\n",
       "  float: right;\n",
       "}\n",
       "\n",
       ".xr-var-name span,\n",
       ".xr-var-data,\n",
       ".xr-index-name div,\n",
       ".xr-index-data,\n",
       ".xr-attrs {\n",
       "  padding-left: 25px !important;\n",
       "}\n",
       "\n",
       ".xr-attrs,\n",
       ".xr-var-attrs,\n",
       ".xr-var-data,\n",
       ".xr-index-data {\n",
       "  grid-column: 1 / -1;\n",
       "}\n",
       "\n",
       "dl.xr-attrs {\n",
       "  padding: 0;\n",
       "  margin: 0;\n",
       "  display: grid;\n",
       "  grid-template-columns: 125px auto;\n",
       "}\n",
       "\n",
       ".xr-attrs dt,\n",
       ".xr-attrs dd {\n",
       "  padding: 0;\n",
       "  margin: 0;\n",
       "  float: left;\n",
       "  padding-right: 10px;\n",
       "  width: auto;\n",
       "}\n",
       "\n",
       ".xr-attrs dt {\n",
       "  font-weight: normal;\n",
       "  grid-column: 1;\n",
       "}\n",
       "\n",
       ".xr-attrs dt:hover span {\n",
       "  display: inline-block;\n",
       "  background: var(--xr-background-color);\n",
       "  padding-right: 10px;\n",
       "}\n",
       "\n",
       ".xr-attrs dd {\n",
       "  grid-column: 2;\n",
       "  white-space: pre-wrap;\n",
       "  word-break: break-all;\n",
       "}\n",
       "\n",
       ".xr-icon-database,\n",
       ".xr-icon-file-text2,\n",
       ".xr-no-icon {\n",
       "  display: inline-block;\n",
       "  vertical-align: middle;\n",
       "  width: 1em;\n",
       "  height: 1.5em !important;\n",
       "  stroke-width: 0;\n",
       "  stroke: currentColor;\n",
       "  fill: currentColor;\n",
       "}\n",
       "</style><pre class='xr-text-repr-fallback'>&lt;xarray.Dataset&gt; Size: 33kB\n",
       "Dimensions:                    (time: 209)\n",
       "Coordinates:\n",
       "  * time                       (time) datetime64[ns] 2kB 1954-01-01 ... 1954-...\n",
       "Data variables: (12/19)\n",
       "    rainfall                   (time) float64 2kB ...\n",
       "    snowfall                   (time) float64 2kB ...\n",
       "    channel_storage            (time) float64 2kB ...\n",
       "    reservoir_storage          (time) float64 2kB ...\n",
       "    rivulet_storage            (time) float64 2kB ...\n",
       "    Surface Water              (time) float64 2kB ...\n",
       "    ...                         ...\n",
       "    Convolution Storage[0]     (time) float64 2kB ...\n",
       "    Convolution Storage[1]     (time) float64 2kB ...\n",
       "    total                      (time) float64 2kB ...\n",
       "    cum_input                  (time) float64 2kB ...\n",
       "    cum_outflow                (time) float64 2kB ...\n",
       "    MB_error                   (time) float64 2kB ...\n",
       "Attributes:\n",
       "    Conventions:  CF-1.6\n",
       "    featureType:  timeSeries\n",
       "    history:      Created by Raven\n",
       "    description:  Standard Output</pre><div class='xr-wrap' style='display:none'><div class='xr-header'><div class='xr-obj-type'>xarray.Dataset</div></div><ul class='xr-sections'><li class='xr-section-item'><input id='section-080a32fa-d1c1-4d75-b01a-da0c2f0ca77c' class='xr-section-summary-in' type='checkbox' disabled ><label for='section-080a32fa-d1c1-4d75-b01a-da0c2f0ca77c' class='xr-section-summary'  title='Expand/collapse section'>Dimensions:</label><div class='xr-section-inline-details'><ul class='xr-dim-list'><li><span class='xr-has-index'>time</span>: 209</li></ul></div><div class='xr-section-details'></div></li><li class='xr-section-item'><input id='section-c712a1da-867e-4cdc-b122-e76d79ceddbc' class='xr-section-summary-in' type='checkbox'  checked><label for='section-c712a1da-867e-4cdc-b122-e76d79ceddbc' class='xr-section-summary' >Coordinates: <span>(1)</span></label><div class='xr-section-inline-details'></div><div class='xr-section-details'><ul class='xr-var-list'><li class='xr-var-item'><div class='xr-var-name'><span class='xr-has-index'>time</span></div><div class='xr-var-dims'>(time)</div><div class='xr-var-dtype'>datetime64[ns]</div><div class='xr-var-preview xr-preview'>1954-01-01 ... 1954-07-28</div><input id='attrs-644fb803-1a37-4152-a335-3aec41385fb6' class='xr-var-attrs-in' type='checkbox' disabled><label for='attrs-644fb803-1a37-4152-a335-3aec41385fb6' title='Show/Hide attributes'><svg class='icon xr-icon-file-text2'><use xlink:href='#icon-file-text2'></use></svg></label><input id='data-b4bccf5b-f701-4f2c-8c8b-7734aab9a21f' class='xr-var-data-in' type='checkbox'><label for='data-b4bccf5b-f701-4f2c-8c8b-7734aab9a21f' title='Show/Hide data repr'><svg class='icon xr-icon-database'><use xlink:href='#icon-database'></use></svg></label><div class='xr-var-attrs'><dl class='xr-attrs'></dl></div><div class='xr-var-data'><pre>array([&#x27;1954-01-01T00:00:00.000000000&#x27;, &#x27;1954-01-02T00:00:00.000000000&#x27;,\n",
       "       &#x27;1954-01-03T00:00:00.000000000&#x27;, ..., &#x27;1954-07-26T00:00:00.000000000&#x27;,\n",
       "       &#x27;1954-07-27T00:00:00.000000000&#x27;, &#x27;1954-07-28T00:00:00.000000000&#x27;],\n",
       "      dtype=&#x27;datetime64[ns]&#x27;)</pre></div></li></ul></div></li><li class='xr-section-item'><input id='section-45a1e9e5-a411-4a17-81e4-8baf29483be4' class='xr-section-summary-in' type='checkbox'  ><label for='section-45a1e9e5-a411-4a17-81e4-8baf29483be4' class='xr-section-summary' >Data variables: <span>(19)</span></label><div class='xr-section-inline-details'></div><div class='xr-section-details'><ul class='xr-var-list'><li class='xr-var-item'><div class='xr-var-name'><span>rainfall</span></div><div class='xr-var-dims'>(time)</div><div class='xr-var-dtype'>float64</div><div class='xr-var-preview xr-preview'>...</div><input id='attrs-b4241c5c-6117-47a2-87c0-3001f61b8624' class='xr-var-attrs-in' type='checkbox' ><label for='attrs-b4241c5c-6117-47a2-87c0-3001f61b8624' title='Show/Hide attributes'><svg class='icon xr-icon-file-text2'><use xlink:href='#icon-file-text2'></use></svg></label><input id='data-c6989ace-2987-42d4-b2a1-8ad07f1aba00' class='xr-var-data-in' type='checkbox'><label for='data-c6989ace-2987-42d4-b2a1-8ad07f1aba00' title='Show/Hide data repr'><svg class='icon xr-icon-database'><use xlink:href='#icon-database'></use></svg></label><div class='xr-var-attrs'><dl class='xr-attrs'><dt><span>units :</span></dt><dd>mm d**-1</dd><dt><span>long_name :</span></dt><dd>rainfall</dd></dl></div><div class='xr-var-data'><pre>[209 values with dtype=float64]</pre></div></li><li class='xr-var-item'><div class='xr-var-name'><span>snowfall</span></div><div class='xr-var-dims'>(time)</div><div class='xr-var-dtype'>float64</div><div class='xr-var-preview xr-preview'>...</div><input id='attrs-99ead788-2afc-4fea-b079-58977d925e1b' class='xr-var-attrs-in' type='checkbox' ><label for='attrs-99ead788-2afc-4fea-b079-58977d925e1b' title='Show/Hide attributes'><svg class='icon xr-icon-file-text2'><use xlink:href='#icon-file-text2'></use></svg></label><input id='data-01be1f96-8298-4d6e-b02b-9b40c277f5e5' class='xr-var-data-in' type='checkbox'><label for='data-01be1f96-8298-4d6e-b02b-9b40c277f5e5' title='Show/Hide data repr'><svg class='icon xr-icon-database'><use xlink:href='#icon-database'></use></svg></label><div class='xr-var-attrs'><dl class='xr-attrs'><dt><span>units :</span></dt><dd>mm d**-1</dd><dt><span>long_name :</span></dt><dd>snowfall</dd></dl></div><div class='xr-var-data'><pre>[209 values with dtype=float64]</pre></div></li><li class='xr-var-item'><div class='xr-var-name'><span>channel_storage</span></div><div class='xr-var-dims'>(time)</div><div class='xr-var-dtype'>float64</div><div class='xr-var-preview xr-preview'>...</div><input id='attrs-0699d321-8996-45a5-834f-fc1448a07256' class='xr-var-attrs-in' type='checkbox' ><label for='attrs-0699d321-8996-45a5-834f-fc1448a07256' title='Show/Hide attributes'><svg class='icon xr-icon-file-text2'><use xlink:href='#icon-file-text2'></use></svg></label><input id='data-202afa88-644e-4445-a52c-4094d6064fb2' class='xr-var-data-in' type='checkbox'><label for='data-202afa88-644e-4445-a52c-4094d6064fb2' title='Show/Hide data repr'><svg class='icon xr-icon-database'><use xlink:href='#icon-database'></use></svg></label><div class='xr-var-attrs'><dl class='xr-attrs'><dt><span>units :</span></dt><dd>mm</dd><dt><span>long_name :</span></dt><dd>Channel Storage</dd></dl></div><div class='xr-var-data'><pre>[209 values with dtype=float64]</pre></div></li><li class='xr-var-item'><div class='xr-var-name'><span>reservoir_storage</span></div><div class='xr-var-dims'>(time)</div><div class='xr-var-dtype'>float64</div><div class='xr-var-preview xr-preview'>...</div><input id='attrs-96b35cbd-3a20-4bb5-b343-4f034eaa8990' class='xr-var-attrs-in' type='checkbox' ><label for='attrs-96b35cbd-3a20-4bb5-b343-4f034eaa8990' title='Show/Hide attributes'><svg class='icon xr-icon-file-text2'><use xlink:href='#icon-file-text2'></use></svg></label><input id='data-f53de166-bf62-4e33-9760-4e4fa9cdf13b' class='xr-var-data-in' type='checkbox'><label for='data-f53de166-bf62-4e33-9760-4e4fa9cdf13b' title='Show/Hide data repr'><svg class='icon xr-icon-database'><use xlink:href='#icon-database'></use></svg></label><div class='xr-var-attrs'><dl class='xr-attrs'><dt><span>units :</span></dt><dd>mm</dd><dt><span>long_name :</span></dt><dd>Reservoir Storage</dd></dl></div><div class='xr-var-data'><pre>[209 values with dtype=float64]</pre></div></li><li class='xr-var-item'><div class='xr-var-name'><span>rivulet_storage</span></div><div class='xr-var-dims'>(time)</div><div class='xr-var-dtype'>float64</div><div class='xr-var-preview xr-preview'>...</div><input id='attrs-eb63b005-6f21-4859-9cb0-10dad621743d' class='xr-var-attrs-in' type='checkbox' ><label for='attrs-eb63b005-6f21-4859-9cb0-10dad621743d' title='Show/Hide attributes'><svg class='icon xr-icon-file-text2'><use xlink:href='#icon-file-text2'></use></svg></label><input id='data-40bb80c2-0e66-4667-8beb-bcbcc1806b58' class='xr-var-data-in' type='checkbox'><label for='data-40bb80c2-0e66-4667-8beb-bcbcc1806b58' title='Show/Hide data repr'><svg class='icon xr-icon-database'><use xlink:href='#icon-database'></use></svg></label><div class='xr-var-attrs'><dl class='xr-attrs'><dt><span>units :</span></dt><dd>mm</dd><dt><span>long_name :</span></dt><dd>Rivulet Storage</dd></dl></div><div class='xr-var-data'><pre>[209 values with dtype=float64]</pre></div></li><li class='xr-var-item'><div class='xr-var-name'><span>Surface Water</span></div><div class='xr-var-dims'>(time)</div><div class='xr-var-dtype'>float64</div><div class='xr-var-preview xr-preview'>...</div><input id='attrs-55005db3-ec8c-4d5b-91de-07d1101035a4' class='xr-var-attrs-in' type='checkbox' ><label for='attrs-55005db3-ec8c-4d5b-91de-07d1101035a4' title='Show/Hide attributes'><svg class='icon xr-icon-file-text2'><use xlink:href='#icon-file-text2'></use></svg></label><input id='data-4e65461a-9344-441a-87fb-2beab6fdb9c3' class='xr-var-data-in' type='checkbox'><label for='data-4e65461a-9344-441a-87fb-2beab6fdb9c3' title='Show/Hide data repr'><svg class='icon xr-icon-database'><use xlink:href='#icon-database'></use></svg></label><div class='xr-var-attrs'><dl class='xr-attrs'><dt><span>units :</span></dt><dd>mm</dd><dt><span>long_name :</span></dt><dd>Surface Water</dd></dl></div><div class='xr-var-data'><pre>[209 values with dtype=float64]</pre></div></li><li class='xr-var-item'><div class='xr-var-name'><span>Cum. Losses to Atmosphere</span></div><div class='xr-var-dims'>(time)</div><div class='xr-var-dtype'>float64</div><div class='xr-var-preview xr-preview'>...</div><input id='attrs-cdf58d4a-b88d-4b17-bdac-8d24b8c6167c' class='xr-var-attrs-in' type='checkbox' ><label for='attrs-cdf58d4a-b88d-4b17-bdac-8d24b8c6167c' title='Show/Hide attributes'><svg class='icon xr-icon-file-text2'><use xlink:href='#icon-file-text2'></use></svg></label><input id='data-c247bb2a-54d6-40f1-bb4f-d28531e9f9c1' class='xr-var-data-in' type='checkbox'><label for='data-c247bb2a-54d6-40f1-bb4f-d28531e9f9c1' title='Show/Hide data repr'><svg class='icon xr-icon-database'><use xlink:href='#icon-database'></use></svg></label><div class='xr-var-attrs'><dl class='xr-attrs'><dt><span>units :</span></dt><dd>mm</dd><dt><span>long_name :</span></dt><dd>Cum. Losses to Atmosphere</dd></dl></div><div class='xr-var-data'><pre>[209 values with dtype=float64]</pre></div></li><li class='xr-var-item'><div class='xr-var-name'><span>Ponded Water</span></div><div class='xr-var-dims'>(time)</div><div class='xr-var-dtype'>float64</div><div class='xr-var-preview xr-preview'>...</div><input id='attrs-8643200c-2059-4c14-bdaf-54584bae1121' class='xr-var-attrs-in' type='checkbox' ><label for='attrs-8643200c-2059-4c14-bdaf-54584bae1121' title='Show/Hide attributes'><svg class='icon xr-icon-file-text2'><use xlink:href='#icon-file-text2'></use></svg></label><input id='data-135a82fa-84b0-4ed5-8baf-82bb68d60c44' class='xr-var-data-in' type='checkbox'><label for='data-135a82fa-84b0-4ed5-8baf-82bb68d60c44' title='Show/Hide data repr'><svg class='icon xr-icon-database'><use xlink:href='#icon-database'></use></svg></label><div class='xr-var-attrs'><dl class='xr-attrs'><dt><span>units :</span></dt><dd>mm</dd><dt><span>long_name :</span></dt><dd>Ponded Water</dd></dl></div><div class='xr-var-data'><pre>[209 values with dtype=float64]</pre></div></li><li class='xr-var-item'><div class='xr-var-name'><span>Soil Water[0]</span></div><div class='xr-var-dims'>(time)</div><div class='xr-var-dtype'>float64</div><div class='xr-var-preview xr-preview'>...</div><input id='attrs-21141ccb-52b6-4543-bf43-3f3f1e87c68d' class='xr-var-attrs-in' type='checkbox' ><label for='attrs-21141ccb-52b6-4543-bf43-3f3f1e87c68d' title='Show/Hide attributes'><svg class='icon xr-icon-file-text2'><use xlink:href='#icon-file-text2'></use></svg></label><input id='data-b06ebab2-cfc1-4975-8ddb-212e8c342b49' class='xr-var-data-in' type='checkbox'><label for='data-b06ebab2-cfc1-4975-8ddb-212e8c342b49' title='Show/Hide data repr'><svg class='icon xr-icon-database'><use xlink:href='#icon-database'></use></svg></label><div class='xr-var-attrs'><dl class='xr-attrs'><dt><span>units :</span></dt><dd>mm</dd><dt><span>long_name :</span></dt><dd>Soil Water[0]</dd></dl></div><div class='xr-var-data'><pre>[209 values with dtype=float64]</pre></div></li><li class='xr-var-item'><div class='xr-var-name'><span>Soil Water[1]</span></div><div class='xr-var-dims'>(time)</div><div class='xr-var-dtype'>float64</div><div class='xr-var-preview xr-preview'>...</div><input id='attrs-5e3ae1bf-3d86-4493-9460-56ec87cd5edc' class='xr-var-attrs-in' type='checkbox' ><label for='attrs-5e3ae1bf-3d86-4493-9460-56ec87cd5edc' title='Show/Hide attributes'><svg class='icon xr-icon-file-text2'><use xlink:href='#icon-file-text2'></use></svg></label><input id='data-9b2a7e89-633c-4b0d-b081-5be44ec42008' class='xr-var-data-in' type='checkbox'><label for='data-9b2a7e89-633c-4b0d-b081-5be44ec42008' title='Show/Hide data repr'><svg class='icon xr-icon-database'><use xlink:href='#icon-database'></use></svg></label><div class='xr-var-attrs'><dl class='xr-attrs'><dt><span>units :</span></dt><dd>mm</dd><dt><span>long_name :</span></dt><dd>Soil Water[1]</dd></dl></div><div class='xr-var-data'><pre>[209 values with dtype=float64]</pre></div></li><li class='xr-var-item'><div class='xr-var-name'><span>Soil Water[2]</span></div><div class='xr-var-dims'>(time)</div><div class='xr-var-dtype'>float64</div><div class='xr-var-preview xr-preview'>...</div><input id='attrs-1776e837-8e06-4d8f-806e-eb4b32d5637f' class='xr-var-attrs-in' type='checkbox' ><label for='attrs-1776e837-8e06-4d8f-806e-eb4b32d5637f' title='Show/Hide attributes'><svg class='icon xr-icon-file-text2'><use xlink:href='#icon-file-text2'></use></svg></label><input id='data-4303cb9f-6252-4d05-baa7-2a00dcad3697' class='xr-var-data-in' type='checkbox'><label for='data-4303cb9f-6252-4d05-baa7-2a00dcad3697' title='Show/Hide data repr'><svg class='icon xr-icon-database'><use xlink:href='#icon-database'></use></svg></label><div class='xr-var-attrs'><dl class='xr-attrs'><dt><span>units :</span></dt><dd>mm</dd><dt><span>long_name :</span></dt><dd>Soil Water[2]</dd></dl></div><div class='xr-var-data'><pre>[209 values with dtype=float64]</pre></div></li><li class='xr-var-item'><div class='xr-var-name'><span>Soil Water[3]</span></div><div class='xr-var-dims'>(time)</div><div class='xr-var-dtype'>float64</div><div class='xr-var-preview xr-preview'>...</div><input id='attrs-5367eb81-e000-4dad-9b18-d2f1b9cc30e0' class='xr-var-attrs-in' type='checkbox' ><label for='attrs-5367eb81-e000-4dad-9b18-d2f1b9cc30e0' title='Show/Hide attributes'><svg class='icon xr-icon-file-text2'><use xlink:href='#icon-file-text2'></use></svg></label><input id='data-fb050afd-3792-4bc1-bee0-a6f12cbba7f7' class='xr-var-data-in' type='checkbox'><label for='data-fb050afd-3792-4bc1-bee0-a6f12cbba7f7' title='Show/Hide data repr'><svg class='icon xr-icon-database'><use xlink:href='#icon-database'></use></svg></label><div class='xr-var-attrs'><dl class='xr-attrs'><dt><span>units :</span></dt><dd>mm</dd><dt><span>long_name :</span></dt><dd>Soil Water[3]</dd></dl></div><div class='xr-var-data'><pre>[209 values with dtype=float64]</pre></div></li><li class='xr-var-item'><div class='xr-var-name'><span>Snow</span></div><div class='xr-var-dims'>(time)</div><div class='xr-var-dtype'>float64</div><div class='xr-var-preview xr-preview'>...</div><input id='attrs-b14fea71-38f5-46d8-8eb8-340fae3c40d4' class='xr-var-attrs-in' type='checkbox' ><label for='attrs-b14fea71-38f5-46d8-8eb8-340fae3c40d4' title='Show/Hide attributes'><svg class='icon xr-icon-file-text2'><use xlink:href='#icon-file-text2'></use></svg></label><input id='data-094f1d33-526c-4db1-959e-5c005a49c336' class='xr-var-data-in' type='checkbox'><label for='data-094f1d33-526c-4db1-959e-5c005a49c336' title='Show/Hide data repr'><svg class='icon xr-icon-database'><use xlink:href='#icon-database'></use></svg></label><div class='xr-var-attrs'><dl class='xr-attrs'><dt><span>units :</span></dt><dd>mm</dd><dt><span>long_name :</span></dt><dd>Snow</dd></dl></div><div class='xr-var-data'><pre>[209 values with dtype=float64]</pre></div></li><li class='xr-var-item'><div class='xr-var-name'><span>Convolution Storage[0]</span></div><div class='xr-var-dims'>(time)</div><div class='xr-var-dtype'>float64</div><div class='xr-var-preview xr-preview'>...</div><input id='attrs-ad891ebb-c7d2-43ac-bd58-722486ac2367' class='xr-var-attrs-in' type='checkbox' ><label for='attrs-ad891ebb-c7d2-43ac-bd58-722486ac2367' title='Show/Hide attributes'><svg class='icon xr-icon-file-text2'><use xlink:href='#icon-file-text2'></use></svg></label><input id='data-5ac891bc-d245-4db6-8019-9806d0903b6c' class='xr-var-data-in' type='checkbox'><label for='data-5ac891bc-d245-4db6-8019-9806d0903b6c' title='Show/Hide data repr'><svg class='icon xr-icon-database'><use xlink:href='#icon-database'></use></svg></label><div class='xr-var-attrs'><dl class='xr-attrs'><dt><span>units :</span></dt><dd>mm</dd><dt><span>long_name :</span></dt><dd>Convolution Storage[0]</dd></dl></div><div class='xr-var-data'><pre>[209 values with dtype=float64]</pre></div></li><li class='xr-var-item'><div class='xr-var-name'><span>Convolution Storage[1]</span></div><div class='xr-var-dims'>(time)</div><div class='xr-var-dtype'>float64</div><div class='xr-var-preview xr-preview'>...</div><input id='attrs-20592427-0366-4a9b-8fd9-f648ba6afe92' class='xr-var-attrs-in' type='checkbox' ><label for='attrs-20592427-0366-4a9b-8fd9-f648ba6afe92' title='Show/Hide attributes'><svg class='icon xr-icon-file-text2'><use xlink:href='#icon-file-text2'></use></svg></label><input id='data-ba68a0ce-fde9-48ca-9f3c-5b44f671e635' class='xr-var-data-in' type='checkbox'><label for='data-ba68a0ce-fde9-48ca-9f3c-5b44f671e635' title='Show/Hide data repr'><svg class='icon xr-icon-database'><use xlink:href='#icon-database'></use></svg></label><div class='xr-var-attrs'><dl class='xr-attrs'><dt><span>units :</span></dt><dd>mm</dd><dt><span>long_name :</span></dt><dd>Convolution Storage[1]</dd></dl></div><div class='xr-var-data'><pre>[209 values with dtype=float64]</pre></div></li><li class='xr-var-item'><div class='xr-var-name'><span>total</span></div><div class='xr-var-dims'>(time)</div><div class='xr-var-dtype'>float64</div><div class='xr-var-preview xr-preview'>...</div><input id='attrs-34d15463-da2d-4e4f-b121-775f1bac00f3' class='xr-var-attrs-in' type='checkbox' ><label for='attrs-34d15463-da2d-4e4f-b121-775f1bac00f3' title='Show/Hide attributes'><svg class='icon xr-icon-file-text2'><use xlink:href='#icon-file-text2'></use></svg></label><input id='data-972be2de-b221-4c18-990b-7d911862eefb' class='xr-var-data-in' type='checkbox'><label for='data-972be2de-b221-4c18-990b-7d911862eefb' title='Show/Hide data repr'><svg class='icon xr-icon-database'><use xlink:href='#icon-database'></use></svg></label><div class='xr-var-attrs'><dl class='xr-attrs'><dt><span>units :</span></dt><dd>mm</dd><dt><span>long_name :</span></dt><dd>total water storage</dd></dl></div><div class='xr-var-data'><pre>[209 values with dtype=float64]</pre></div></li><li class='xr-var-item'><div class='xr-var-name'><span>cum_input</span></div><div class='xr-var-dims'>(time)</div><div class='xr-var-dtype'>float64</div><div class='xr-var-preview xr-preview'>...</div><input id='attrs-30ff8fa9-ccd7-491f-af14-23bc90e069ab' class='xr-var-attrs-in' type='checkbox' ><label for='attrs-30ff8fa9-ccd7-491f-af14-23bc90e069ab' title='Show/Hide attributes'><svg class='icon xr-icon-file-text2'><use xlink:href='#icon-file-text2'></use></svg></label><input id='data-7542f470-fae2-42be-85c9-4269bf5a8656' class='xr-var-data-in' type='checkbox'><label for='data-7542f470-fae2-42be-85c9-4269bf5a8656' title='Show/Hide data repr'><svg class='icon xr-icon-database'><use xlink:href='#icon-database'></use></svg></label><div class='xr-var-attrs'><dl class='xr-attrs'><dt><span>units :</span></dt><dd>mm</dd><dt><span>long_name :</span></dt><dd>cumulative water input</dd></dl></div><div class='xr-var-data'><pre>[209 values with dtype=float64]</pre></div></li><li class='xr-var-item'><div class='xr-var-name'><span>cum_outflow</span></div><div class='xr-var-dims'>(time)</div><div class='xr-var-dtype'>float64</div><div class='xr-var-preview xr-preview'>...</div><input id='attrs-95a84e94-8269-4614-b49a-dd38753abf6d' class='xr-var-attrs-in' type='checkbox' ><label for='attrs-95a84e94-8269-4614-b49a-dd38753abf6d' title='Show/Hide attributes'><svg class='icon xr-icon-file-text2'><use xlink:href='#icon-file-text2'></use></svg></label><input id='data-48068ef7-165d-4136-a400-20e0fbaad92e' class='xr-var-data-in' type='checkbox'><label for='data-48068ef7-165d-4136-a400-20e0fbaad92e' title='Show/Hide data repr'><svg class='icon xr-icon-database'><use xlink:href='#icon-database'></use></svg></label><div class='xr-var-attrs'><dl class='xr-attrs'><dt><span>units :</span></dt><dd>mm</dd><dt><span>long_name :</span></dt><dd>cumulative water output</dd></dl></div><div class='xr-var-data'><pre>[209 values with dtype=float64]</pre></div></li><li class='xr-var-item'><div class='xr-var-name'><span>MB_error</span></div><div class='xr-var-dims'>(time)</div><div class='xr-var-dtype'>float64</div><div class='xr-var-preview xr-preview'>...</div><input id='attrs-f1d0b885-4191-4140-bf37-54a21af65342' class='xr-var-attrs-in' type='checkbox' ><label for='attrs-f1d0b885-4191-4140-bf37-54a21af65342' title='Show/Hide attributes'><svg class='icon xr-icon-file-text2'><use xlink:href='#icon-file-text2'></use></svg></label><input id='data-fa3da864-ee00-412f-b8a9-a83e267759ae' class='xr-var-data-in' type='checkbox'><label for='data-fa3da864-ee00-412f-b8a9-a83e267759ae' title='Show/Hide data repr'><svg class='icon xr-icon-database'><use xlink:href='#icon-database'></use></svg></label><div class='xr-var-attrs'><dl class='xr-attrs'><dt><span>units :</span></dt><dd>mm</dd><dt><span>long_name :</span></dt><dd>mass balance error</dd></dl></div><div class='xr-var-data'><pre>[209 values with dtype=float64]</pre></div></li></ul></div></li><li class='xr-section-item'><input id='section-5cf31a06-650b-4124-80c6-ec8abd67dc6e' class='xr-section-summary-in' type='checkbox'  ><label for='section-5cf31a06-650b-4124-80c6-ec8abd67dc6e' class='xr-section-summary' >Indexes: <span>(1)</span></label><div class='xr-section-inline-details'></div><div class='xr-section-details'><ul class='xr-var-list'><li class='xr-var-item'><div class='xr-index-name'><div>time</div></div><div class='xr-index-preview'>PandasIndex</div><input type='checkbox' disabled/><label></label><input id='index-16f4b181-d582-43e9-b2ed-bd3d4d205161' class='xr-index-data-in' type='checkbox'/><label for='index-16f4b181-d582-43e9-b2ed-bd3d4d205161' title='Show/Hide index repr'><svg class='icon xr-icon-database'><use xlink:href='#icon-database'></use></svg></label><div class='xr-index-data'><pre>PandasIndex(DatetimeIndex([&#x27;1954-01-01&#x27;, &#x27;1954-01-02&#x27;, &#x27;1954-01-03&#x27;, &#x27;1954-01-04&#x27;,\n",
       "               &#x27;1954-01-05&#x27;, &#x27;1954-01-06&#x27;, &#x27;1954-01-07&#x27;, &#x27;1954-01-08&#x27;,\n",
       "               &#x27;1954-01-09&#x27;, &#x27;1954-01-10&#x27;,\n",
       "               ...\n",
       "               &#x27;1954-07-19&#x27;, &#x27;1954-07-20&#x27;, &#x27;1954-07-21&#x27;, &#x27;1954-07-22&#x27;,\n",
       "               &#x27;1954-07-23&#x27;, &#x27;1954-07-24&#x27;, &#x27;1954-07-25&#x27;, &#x27;1954-07-26&#x27;,\n",
       "               &#x27;1954-07-27&#x27;, &#x27;1954-07-28&#x27;],\n",
       "              dtype=&#x27;datetime64[ns]&#x27;, name=&#x27;time&#x27;, length=209, freq=None))</pre></div></li></ul></div></li><li class='xr-section-item'><input id='section-509889a8-1ee9-4cef-a678-3b86e1d20acf' class='xr-section-summary-in' type='checkbox'  checked><label for='section-509889a8-1ee9-4cef-a678-3b86e1d20acf' class='xr-section-summary' >Attributes: <span>(4)</span></label><div class='xr-section-inline-details'></div><div class='xr-section-details'><dl class='xr-attrs'><dt><span>Conventions :</span></dt><dd>CF-1.6</dd><dt><span>featureType :</span></dt><dd>timeSeries</dd><dt><span>history :</span></dt><dd>Created by Raven</dd><dt><span>description :</span></dt><dd>Standard Output</dd></dl></div></li></ul></div></div>"
      ],
      "text/plain": [
       "<xarray.Dataset> Size: 33kB\n",
       "Dimensions:                    (time: 209)\n",
       "Coordinates:\n",
       "  * time                       (time) datetime64[ns] 2kB 1954-01-01 ... 1954-...\n",
       "Data variables: (12/19)\n",
       "    rainfall                   (time) float64 2kB ...\n",
       "    snowfall                   (time) float64 2kB ...\n",
       "    channel_storage            (time) float64 2kB ...\n",
       "    reservoir_storage          (time) float64 2kB ...\n",
       "    rivulet_storage            (time) float64 2kB ...\n",
       "    Surface Water              (time) float64 2kB ...\n",
       "    ...                         ...\n",
       "    Convolution Storage[0]     (time) float64 2kB ...\n",
       "    Convolution Storage[1]     (time) float64 2kB ...\n",
       "    total                      (time) float64 2kB ...\n",
       "    cum_input                  (time) float64 2kB ...\n",
       "    cum_outflow                (time) float64 2kB ...\n",
       "    MB_error                   (time) float64 2kB ...\n",
       "Attributes:\n",
       "    Conventions:  CF-1.6\n",
       "    featureType:  timeSeries\n",
       "    history:      Created by Raven\n",
       "    description:  Standard Output"
      ]
     },
     "metadata": {},
     "output_type": "display_data"
    },
    {
     "data": {
      "text/plain": [
       "[<matplotlib.lines.Line2D at 0x7ff6ba380d50>]"
      ]
     },
     "execution_count": 2,
     "metadata": {},
     "output_type": "execute_result"
    },
    {
     "data": {
      "image/png": "[encoded data removed]",
      "text/plain": [
       "<Figure size 1000x300 with 1 Axes>"
      ]
     },
     "metadata": {},
     "output_type": "display_data"
    }
   ],
   "source": [
    "from ravenpy import OutputReader\n",
    "\n",
    "out = OutputReader(path=output_dir)\n",
    "display(out.storage)\n",
    "out.hydrograph.q_sim.plot(figsize=(10, 3))"
   ]
  },
  {
   "cell_type": "markdown",
   "id": "fe778839-262d-4365-9ed5-82abbdc6da4f",
   "metadata": {},
   "source": [
    "## Configuring model emulators\n",
    "\n",
    "Ravenpy comes packaged with pre-configured emulators, that is, Raven model configurations that can be modified on the fly. For example, the code below creates a model configuration for emulated model GR4JCN using parameter values (`params`), various simulation options, well as a `Gauge` command whose content is inferred from inspecting the netCDF file storing meteorological inputs.\n",
    "\n",
    "Note that the method `Gauge.from_nc` below is able to parse the meteorological input file because its variable are named according to the [CF Convention](https://cfconventions.org/). Variables names can be given explicitly if that's not the case.  "
   ]
  },
  {
   "cell_type": "code",
   "execution_count": 3,
   "id": "cf7b610a-309c-48d6-b742-ea6f93bf7e64",
   "metadata": {
    "execution": {
     "iopub.execute_input": "2025-04-23T21:52:27.245922Z",
     "iopub.status.busy": "2025-04-23T21:52:27.244991Z",
     "iopub.status.idle": "2025-04-23T21:52:30.062310Z",
     "shell.execute_reply": "2025-04-23T21:52:30.061477Z"
    },
    "tags": []
   },
   "outputs": [
    {
     "name": "stderr",
     "output_type": "stream",
     "text": [
      "WARNING:pint.util:Redefining 'percent' (<class 'pint.delegates.txt_defparser.plain.UnitDefinition'>)\n"
     ]
    },
    {
     "name": "stderr",
     "output_type": "stream",
     "text": [
      "WARNING:pint.util:Redefining '%' (<class 'pint.delegates.txt_defparser.plain.UnitDefinition'>)\n"
     ]
    },
    {
     "name": "stderr",
     "output_type": "stream",
     "text": [
      "WARNING:pint.util:Redefining 'year' (<class 'pint.delegates.txt_defparser.plain.UnitDefinition'>)\n"
     ]
    },
    {
     "name": "stderr",
     "output_type": "stream",
     "text": [
      "WARNING:pint.util:Redefining 'yr' (<class 'pint.delegates.txt_defparser.plain.UnitDefinition'>)\n"
     ]
    },
    {
     "name": "stderr",
     "output_type": "stream",
     "text": [
      "WARNING:pint.util:Redefining 'C' (<class 'pint.delegates.txt_defparser.plain.UnitDefinition'>)\n"
     ]
    },
    {
     "name": "stderr",
     "output_type": "stream",
     "text": [
      "WARNING:pint.util:Redefining 'd' (<class 'pint.delegates.txt_defparser.plain.UnitDefinition'>)\n"
     ]
    },
    {
     "name": "stderr",
     "output_type": "stream",
     "text": [
      "WARNING:pint.util:Redefining 'h' (<class 'pint.delegates.txt_defparser.plain.UnitDefinition'>)\n"
     ]
    },
    {
     "name": "stderr",
     "output_type": "stream",
     "text": [
      "WARNING:pint.util:Redefining 'degrees_north' (<class 'pint.delegates.txt_defparser.plain.UnitDefinition'>)\n"
     ]
    },
    {
     "name": "stderr",
     "output_type": "stream",
     "text": [
      "WARNING:pint.util:Redefining 'degrees_east' (<class 'pint.delegates.txt_defparser.plain.UnitDefinition'>)\n"
     ]
    },
    {
     "name": "stderr",
     "output_type": "stream",
     "text": [
      "WARNING:pint.util:Redefining 'degrees' (<class 'pint.delegates.txt_defparser.plain.UnitDefinition'>)\n"
     ]
    },
    {
     "name": "stderr",
     "output_type": "stream",
     "text": [
      "WARNING:pint.util:Redefining '[speed]' (<class 'pint.delegates.txt_defparser.plain.DerivedDimensionDefinition'>)\n"
     ]
    }
   ],
   "source": [
    "import datetime as dt\n",
    "\n",
    "from ravenpy.config.commands import Gauge\n",
    "from ravenpy.config.emulators import GR4JCN\n",
    "\n",
    "meteo = config_dir + \"Salmon-River-Near-Prince-George_meteo_daily.nc\"\n",
    "gr4jcn = GR4JCN(\n",
    "    params=[0.5, -3.0, 400, 1.0, 17, 0.9],\n",
    "    StartDate=dt.datetime(2000, 1, 1),\n",
    "    EndDate=dt.datetime(2002, 1, 1),\n",
    "    Gauge=[\n",
    "        Gauge.from_nc(meteo, data_type=[\"RAINFALL\", \"TEMP_MIN\", \"TEMP_MAX\", \"SNOWFALL\"])\n",
    "    ],\n",
    "    GlobalParameter={\"AVG_ANNUAL_RUNOFF\": 208.480},\n",
    "    HRUs=[\n",
    "        dict(\n",
    "            area=4250.6,\n",
    "            elevation=843.0,\n",
    "            latitude=54.4848,\n",
    "            longitude=-123.3659,\n",
    "            hru_type=\"land\",\n",
    "        )\n",
    "    ],\n",
    ")"
   ]
  },
  {
   "cell_type": "markdown",
   "id": "6294279d-875e-4212-a423-6e603e0c0d91",
   "metadata": {},
   "source": [
    "The RV files for the emulator above can be inspected using the `rvi`, `rvh`, `rvp`, `rvc` and `rvt` properties, e.g. `print(gr4jcn.rvt)` will show the `rvt` file as it would be written to disk. Configuration files can then be written to disk using `gr4jcn.write_rv(workdir, modelname)`, and the model launched using the `run` function introduced before."
   ]
  },
  {
   "cell_type": "code",
   "execution_count": 4,
   "id": "b722b510-40e0-4e46-938d-5e2b046d118d",
   "metadata": {
    "execution": {
     "iopub.execute_input": "2025-04-23T21:52:30.066255Z",
     "iopub.status.busy": "2025-04-23T21:52:30.065685Z",
     "iopub.status.idle": "2025-04-23T21:52:30.075097Z",
     "shell.execute_reply": "2025-04-23T21:52:30.074465Z"
    },
    "tags": []
   },
   "outputs": [
    {
     "name": "stdout",
     "output_type": "stream",
     "text": [
      ":Calendar             PROLEPTIC_GREGORIAN\n",
      ":StartDate            2000-01-01 00:00:00\n",
      ":EndDate              2002-01-01 00:00:00\n",
      ":TimeStep             1.0\n",
      ":Routing              ROUTE_NONE\n",
      ":CatchmentRoute       ROUTE_DUMP\n",
      ":Evaporation          PET_OUDIN\n",
      ":RainSnowFraction     RAINSNOW_DINGMAN\n",
      ":OroTempCorrect       OROCORR_SIMPLELAPSE\n",
      ":OroPrecipCorrect     OROCORR_SIMPLELAPSE\n",
      ":SoilModel            SOIL_MULTILAYER 4\n",
      ":HydrologicProcesses\n",
      "  :Precipitation        PRECIP_RAVEN        ATMOS_PRECIP        MULTIPLE\n",
      "  :SnowTempEvolve       SNOTEMP_NEWTONS     SNOW_TEMP\n",
      "  :SnowBalance          SNOBAL_CEMA_NIEGE   SNOW                PONDED_WATER\n",
      "  :OpenWaterEvaporation OPEN_WATER_EVAP     PONDED_WATER        ATMOSPHERE\n",
      "  :Infiltration         INF_GR4J            PONDED_WATER        MULTIPLE\n",
      "  :SoilEvaporation      SOILEVAP_GR4J       SOIL[0]             ATMOSPHERE\n",
      "  :Percolation          PERC_GR4J           SOIL[0]             SOIL[2]\n",
      "  :Flush                RAVEN_DEFAULT       SURFACE_WATER       SOIL[2]\n",
      "  :Split                RAVEN_DEFAULT       SOIL[2]             CONVOLUTION[0]      CONVOLUTION[1]      0.9\n",
      "  :Convolve             CONVOL_GR4J_1       CONVOLUTION[0]      SOIL[1]\n",
      "  :Convolve             CONVOL_GR4J_2       CONVOLUTION[1]      SOIL[2]\n",
      "  :Percolation          PERC_GR4JEXCH       SOIL[1]             SOIL[3]\n",
      "  :Percolation          PERC_GR4JEXCH2      SOIL[2]             SOIL[3]\n",
      "  :Flush                RAVEN_DEFAULT       SOIL[2]             SURFACE_WATER\n",
      "  :Baseflow             BASE_GR4J           SOIL[1]             SURFACE_WATER\n",
      ":EndHydrologicProcesses\n",
      ":WriteNetcdfFormat\n",
      ":NetCDFAttribute history Created on 2025-04-23T21:52:30 by Raven 4.0\n",
      ":NetCDFAttribute references Craig, J.R., and the Raven Development Team, Raven user's and developer's manual (Version 4.0), URL: https://raven.uwaterloo.ca/ (2025).\n",
      ":NetCDFAttribute model_id GR4JCN\n",
      "\n"
     ]
    }
   ],
   "source": [
    "print(gr4jcn.rvi)"
   ]
  },
  {
   "cell_type": "markdown",
   "id": "dc75b97a-27c7-42e5-aabe-c659242a72b0",
   "metadata": {},
   "source": [
    "For convenience, `ravenpy` also proposes the `Emulator` class, designed to streamline the execution of the model and the retrieval of the results. It accepts a model configuration object as an input, then can launch a simulation with the `run` method, which returns an `OutputReader` instance. "
   ]
  },
  {
   "cell_type": "code",
   "execution_count": 5,
   "id": "5481639d-b3e9-4dbc-88d7-8b6f3ad2f4c8",
   "metadata": {
    "execution": {
     "iopub.execute_input": "2025-04-23T21:52:30.078981Z",
     "iopub.status.busy": "2025-04-23T21:52:30.078741Z",
     "iopub.status.idle": "2025-04-23T21:52:30.954844Z",
     "shell.execute_reply": "2025-04-23T21:52:30.953543Z"
    },
    "tags": []
   },
   "outputs": [
    {
     "data": {
      "text/plain": [
       "[<matplotlib.lines.Line2D at 0x7ff6b381db50>]"
      ]
     },
     "execution_count": 5,
     "metadata": {},
     "output_type": "execute_result"
    },
    {
     "data": {
      "image/png": "[encoded data removed]",
      "text/plain": [
       "<Figure size 640x480 with 1 Axes>"
      ]
     },
     "metadata": {},
     "output_type": "display_data"
    }
   ],
   "source": [
    "from ravenpy import Emulator\n",
    "\n",
    "e = Emulator(config=gr4jcn)\n",
    "out = e.run()\n",
    "out.hydrograph.q_sim.plot()"
   ]
  }
 ],
 "metadata": {
  "kernelspec": {
   "display_name": "Python 3 (ipykernel)",
   "language": "python",
   "name": "python3"
  },
  "language_info": {
   "codemirror_mode": {
    "name": "ipython",
    "version": 3
   },
   "file_extension": ".py",
   "mimetype": "text/x-python",
   "name": "python",
   "nbconvert_exporter": "python",
   "pygments_lexer": "ipython3",
   "version": "3.11.12"
  }
 },
 "nbformat": 4,
 "nbformat_minor": 5
}
