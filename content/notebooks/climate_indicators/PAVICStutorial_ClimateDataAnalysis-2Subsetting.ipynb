{
 "cells": [
  {
   "attachments": {
    "abb648f3-79cc-454c-912f-b96eb71c0a2c.png": {
     "image/png": "[encoded data removed]"
    }
   },
   "cell_type": "markdown",
   "metadata": {},
   "source": [
    "![pavics_climindices_2.png](attachment:abb648f3-79cc-454c-912f-b96eb71c0a2c.png)pavics_climindices_2.png\n",
    "<a id='top'></a>"
   ]
  },
  {
   "cell_type": "markdown",
   "metadata": {},
   "source": [
    "In this second tutorial we will demonstate PAVICS subsetting tools, again accessing Ouranos' cb-oura-1.0 ensemble.  PAVICS subsetting relies on the `clisops` library enabling data extraction by:\n",
    "* [Point location(s)](#point) \n",
    "* [Bounding box](#bbox) \n",
    "* [Polygon](#poly)\n",
    "* [Time range](#time)\n",
    "\n",
    "Advanced topics:\n",
    "* [Extracting data using a `geopandas.GeoDataFrame`](#adv_gdf)\n",
    "* [Creating a mask](#adv_mask)\n",
    "* [Subsetting curvilinear Grids](#adv_curvil)\n",
    "\n",
    "This tutorial uses [clisops](https://clisops.readthedocs.io/en/latest/notebooks/core_subset.html) for subsetting operations, and [geopandas](https://geopandas.org/) to manipulate region geometries.  \n",
    "\n",
    "We re-use part of the data-access tutorial to select a dataset from cb-oura-1.0 datasets from the PAVICS THREDDS server.\n",
    "___\n",
    "\n",
    "*NOTE : To run this series of tutorials in the PAVICS jupyterhub, notebooks should be copied into your 'writable-workspace' directory*"
   ]
  },
  {
   "cell_type": "code",
   "execution_count": null,
   "metadata": {},
   "outputs": [],
   "source": [
    "import xarray as xr\n",
    "from siphon.catalog import TDSCatalog\n",
    "from IPython.display import display  # Fancy representation of xarray objects\n",
    "import warnings\n",
    "warnings.simplefilter('ignore')\n",
    "url = \"https://pavics.ouranos.ca/twitcher/ows/proxy/thredds/catalog/datasets/simulations/bias_adjusted/cmip5/ouranos/cb-oura-1.0/catalog.xml\"\n",
    "\n",
    "# Create Catalog\n",
    "cat = TDSCatalog(url)\n",
    "\n",
    "# DAP link for this demo\n",
    "ds_url = cat.datasets[0].access_urls[\"OPENDAP\"]\n",
    "\n",
    "# xarray.Dataset\n",
    "ds = xr.open_dataset(ds_url, chunks=dict(time=256*2,lon=32,lat=32))\n",
    "display(ds)\n",
    "ds.tasmin.isel(time=0).plot(figsize=(10,4))"
   ]
  },
  {
   "cell_type": "markdown",
   "metadata": {},
   "source": [
    "<a id='point'></a>\n",
    "___\n",
    "## Subsetting point location(s)\n",
    "\n",
    " The `subset_gridpoint` function returns the grid-cell whose center lies closest to the coordinates (latitude, longitude) given. When multiple coordinates are given, the various grid points are ordered along a new  `site` dimension.\n",
    " \n",
    " Use cases:\n",
    " \n",
    " - Compare gridded model output to observations at different weather station locations\n",
    " - Extract climate time series for cities or other sites of interest\n",
    "\n",
    "*[return to top of page](#top)*"
   ]
  },
  {
   "cell_type": "code",
   "execution_count": null,
   "metadata": {},
   "outputs": [],
   "source": [
    "from clisops.core import subset\n",
    "\n",
    "lon=[-75.4, -85, -65.5]  # Longitude\n",
    "lat=[46.67, 41, 55.3]  # Latitude\n",
    "\n",
    "ds_gridpoint = subset.subset_gridpoint(ds, lon=lon, lat=lat)\n",
    "display(ds_gridpoint)\n",
    "\n",
    "# Plot first year of tasmax data\n",
    "ds_gridpoint.tasmax.isel(time=slice(0,365)).plot.line(x='time')"
   ]
  },
  {
   "cell_type": "markdown",
   "metadata": {},
   "source": [
    "The distance to the closest grid point can sometimes be so large that's it's not meaningful anymore. To avoid such cases, a maximum distance can be set using the `tolerance` argument. Also, the actual distance can also be added as a coordinate for manual inspection."
   ]
  },
  {
   "cell_type": "code",
   "execution_count": null,
   "metadata": {},
   "outputs": [],
   "source": [
    "subset.subset_gridpoint(ds, lon=lon, lat=lat, add_distance=True).distance"
   ]
  },
  {
   "cell_type": "markdown",
   "metadata": {},
   "source": [
    "<a id='bbox'></a>\n",
    "___\n",
    "## Subsetting using a boundary box\n",
    "\n",
    "The  `subset_bbox` function extracts data within latitude and longitude bounds (min, max). \n",
    "\n",
    "Use cases\n",
    "\n",
    "- Extract a rectangular region around a site or region of interest\n",
    "- Extract tropical, subtropical or polar latitudes\n",
    "\n",
    "*[return to top of page](#top)*"
   ]
  },
  {
   "cell_type": "code",
   "execution_count": null,
   "metadata": {},
   "outputs": [],
   "source": [
    "# Specify the longitude and latitude boundaries\n",
    "lon_bnds = [-80.5, -60.2]\n",
    "lat_bnds = [44, 55]\n",
    "\n",
    "ds1 = subset.subset_bbox(ds, lon_bnds=lon_bnds, lat_bnds=lat_bnds)\n",
    "display(ds1)\n",
    "\n",
    "#Plot a map of first timestep\n",
    "ds1.tasmax.isel(time=0).plot()"
   ]
  },
  {
   "cell_type": "markdown",
   "metadata": {},
   "source": [
    "<a id='poly'></a>\n",
    "___\n",
    "## Subsetting using a polygon\n",
    "\n",
    "The `subset_shape` function can extract data within an arbitrary shape defined by one or multiple polygons. It crops the original grid to the polygon then masks everything outside it. \n",
    "\n",
    "Use cases:\n",
    "\n",
    "- Analyze climate variables within a country, state or watershed\n",
    "- Study climate patterns over the Arctic ocean\n",
    "\n",
    "The example below demonstate subsetting using a geojson layer for southern Quebec administative regions.\n",
    "\n",
    "*[return to top of page](#top)*"
   ]
  },
  {
   "cell_type": "code",
   "execution_count": null,
   "metadata": {},
   "outputs": [],
   "source": [
    "import geopandas as gpd\n",
    "import matplotlib.pyplot as plt\n",
    "\n",
    "# Explore the polygon layer\n",
    "regions = gpd.GeoDataFrame.from_file('tutorial_data/test_regions.geojson')\n",
    "\n",
    "# Display the first few columns\n",
    "display(regions.head())\n",
    "\n",
    "# Plot the layer to see what it looks like\n",
    "display(regions.plot(figsize=(10,4)))\n"
   ]
  },
  {
   "cell_type": "code",
   "execution_count": null,
   "metadata": {},
   "outputs": [],
   "source": [
    "# Subset over all regions \n",
    "ds_poly = subset.subset_shape(ds, shape='tutorial_data/test_regions.geojson') #use path to layer\n",
    "\n",
    "ds_poly.tasmin.isel(time=0).plot(figsize=(10,4))"
   ]
  },
  {
   "cell_type": "markdown",
   "metadata": {},
   "source": [
    "<a id='time'></a>\n",
    "___\n",
    "## Subsetting time\n",
    "\n",
    "The `subset_time` fonction is used to extract a time span. It uses `start_date` and/or `end_date` arguments, which can be given as year, year-month or year-month-day strings. If the start or end date is not given, it defaults to the start or end date of the dataset respectively.\n",
    "\n",
    "Use cases\n",
    "\n",
    "- Align datasets to a common starting date\n",
    "- Compute a climatology over 30-years\n",
    "\n",
    "*[return to top of page](#top)*\n"
   ]
  },
  {
   "cell_type": "code",
   "execution_count": null,
   "metadata": {},
   "outputs": [],
   "source": [
    "# Align data to a starting year\n",
    "ds_sub = subset.subset_time(ds, start_date='1981')\n",
    "print(f\"Subset time using start_date only\\nstart: {ds_sub.time.min().values};\\tend: {ds_sub.time.max().values}\\n\")\n",
    "\n",
    "# Select a temporal slice\n",
    "ds_sub = subset.subset_time(ds, start_date='1981-08-05', end_date='2084-06-15')\n",
    "print(f\"Subset time using both start_date & end_date\\nstart: {ds_sub.time.min().values};\\tend: {ds_sub.time.max().values}\")"
   ]
  },
  {
   "cell_type": "markdown",
   "metadata": {},
   "source": [
    "\n",
    "## Advanced subsetting examples\n",
    "<a id='adv_gdf'></a>\n",
    "### Extracting data using a `geopandas.GeoDataFrame`\n",
    "When using `subset_shape` it can sometimes be useful to manipulate the polygon layer before subsetting. For example subsetting using a polygon layer with non geographic coordinates (latitude/longitude) will result in an error. By loading the layer first as a geodataframe we can perform a reprojection on the fly using`to_crs()`\n",
    "\n",
    "*[return to top of page](#top)*"
   ]
  },
  {
   "cell_type": "code",
   "execution_count": null,
   "metadata": {},
   "outputs": [],
   "source": [
    "regions_lcc= gpd.GeoDataFrame.from_file('tutorial_data/test_regions_lambert.geojson')\n",
    "plt.figure(figsize=(15, 6))\n",
    "ax1 = plt.subplot(1,2,1)\n",
    "regions_lcc.plot(ax=ax1)\n",
    "plt.title('Lambert projection')\n",
    "ax2 = plt.subplot(1,2,2)\n",
    "regions_lcc.to_crs(epsg=4326).plot(ax=ax2)\n",
    "plt.title('WGS84 geographic')\n",
    "try :\n",
    "    ds_poly1 = subset.subset_shape(ds, shape=regions_lcc)\n",
    "except:\n",
    "    print(f'There was a problemn... the polygon layer projection is {regions_lcc.crs.name}\\ntry projecting to WGS 84 ... ')"
   ]
  },
  {
   "cell_type": "code",
   "execution_count": null,
   "metadata": {},
   "outputs": [],
   "source": [
    "# use projected polygon layer to subset\n",
    "ds_poly1 =  subset.subset_shape(ds, shape=regions_lcc.to_crs(epsg=4326))\n",
    "ds_poly1.tasmin.isel(time=0).plot(figsize=(10,4))\n",
    "plt.title('subset via geodataframe using reprojection on the fly')\n",
    "display()\n",
    "print('success')"
   ]
  },
  {
   "cell_type": "markdown",
   "metadata": {},
   "source": [
    "We may also wish to subset the climate only data using a selection of available polygons. For example use only the Montérégie and Outaouais subregions"
   ]
  },
  {
   "cell_type": "code",
   "execution_count": null,
   "metadata": {},
   "outputs": [],
   "source": [
    "subreg = regions_lcc.loc[(regions_lcc['Region'] == 'Outaouais') | (regions_lcc['Region'] == 'Montérégie')]\n",
    "ds_poly1 =  subset.subset_shape(ds, shape=subreg.to_crs(epsg=4326))\n",
    "ds_poly1.tasmin.isel(time=0).plot(figsize=(10, 4))\n",
    "plt.title('Outaouais / Montérégie subset via geodataframe w/ reprojection on the fly')\n",
    "display()"
   ]
  },
  {
   "cell_type": "markdown",
   "metadata": {},
   "source": [
    "<a id='adv_mask'></a>\n",
    "### Creating a mask\n",
    "\n",
    "Mask creation allows subsetting with the entire set of polygons while still allowing manipulation and access to subregions in the resulting dataset \n",
    "\n",
    "*[return to top of page](#top)*"
   ]
  },
  {
   "cell_type": "code",
   "execution_count": null,
   "metadata": {},
   "outputs": [],
   "source": [
    "mask = subset.create_mask(x_dim = ds_poly.lon, y_dim=ds_poly.lat, poly=regions).transpose()\n",
    "mask.plot(figsize=(10,4))\n",
    "plt.title('Mask of regions')"
   ]
  },
  {
   "cell_type": "markdown",
   "metadata": {},
   "source": [
    "Assign a `region_id` and `region_name` coordinates to the data using the mask\n",
    "* coordinates can be used to select or summarize data by region"
   ]
  },
  {
   "cell_type": "code",
   "execution_count": null,
   "metadata": {},
   "outputs": [],
   "source": [
    "ds_poly = ds_poly.assign_coords(region_id=mask)\n",
    "\n",
    "# create region_name coordinates\n",
    "name_array = xr.full_like(ds_poly.region_id, '', dtype=object)\n",
    "name_field = 'Region'\n",
    "for i, name in enumerate(regions[name_field]):\n",
    "    \n",
    "    name_array = xr.where(ds_poly['region_id'] == i, name, name_array)\n",
    "    ds_poly = ds_poly.assign_coords(region_name=name_array)\n",
    "\n",
    "    \n",
    "# Plot only a single region by selecting w/ region_name coordinate\n",
    "ds_poly.where(ds_poly.region_name=='Montérégie', drop=True).tasmin.isel(time=0).plot(figsize=(10,4))"
   ]
  },
  {
   "cell_type": "markdown",
   "metadata": {},
   "source": [
    "<a id='adv_curvil'></a>\n",
    "### Subsetting Curvilinear Grids\n",
    "Climate model data is often produced using rotated-pole coordinates resulting in irregular or curvlinear lat/lon grids.  Considerable effort has been made in the subsetting tools to seamlessly handle this type of data \n",
    "\n",
    "*[return to top of page](#top)*"
   ]
  },
  {
   "cell_type": "code",
   "execution_count": null,
   "metadata": {},
   "outputs": [],
   "source": [
    "testurl = 'https://pavics.ouranos.ca/twitcher/ows/proxy/thredds/dodsC/birdhouse/ouranos/climex/QC11d3_CCCma-CanESM2_rcp85/day/rcp85-r1-r1i1p1/tasmin/tasmin_kda_209604_se.nc'\n",
    "ds = xr.open_dataset(testurl, chunks=dict(time=1))\n",
    "fig = plt.figure(figsize=(20,6))\n",
    "ax1 = plt.subplot(1,2,1)\n",
    "ds.tasmin.isel(time=0).plot(x='lon',y='lat', ax=ax1)\n",
    "plt.title('curvilinear data')\n",
    "\n",
    "ds_sub = subset.subset_bbox(ds, lat_bnds=[44, 50], lon_bnds=[-80, -60])\n",
    "ax2 = plt.subplot(1,2,2)\n",
    "ds_sub.tasmin.isel(time=0).plot(x='lon',y='lat', ax=ax2)\n",
    "plt.title('bounding box subset : curvilinear data')\n",
    "display()"
   ]
  },
  {
   "cell_type": "code",
   "execution_count": null,
   "metadata": {},
   "outputs": [],
   "source": []
  }
 ],
 "metadata": {
  "kernelspec": {
   "display_name": "Python 3",
   "language": "python",
   "name": "python3"
  },
  "language_info": {
   "codemirror_mode": {
    "name": "ipython",
    "version": 3
   },
   "file_extension": ".py",
   "mimetype": "text/x-python",
   "name": "python",
   "nbconvert_exporter": "python",
   "pygments_lexer": "ipython3",
   "version": "3.8.5"
  }
 },
 "nbformat": 4,
 "nbformat_minor": 4
}
