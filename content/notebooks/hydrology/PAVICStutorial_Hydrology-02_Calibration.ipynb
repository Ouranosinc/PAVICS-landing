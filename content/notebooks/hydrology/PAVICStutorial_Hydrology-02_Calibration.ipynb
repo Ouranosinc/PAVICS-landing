{
 "cells": [
  {
   "cell_type": "markdown",
   "id": "0",
   "metadata": {},
   "source": [
    "# Calibration of a Raven hydrological model\n",
    "\n",
    "This notebook demonstrates how to calibrate a Raven emulator, namely the GR4J-CN model. "
   ]
  },
  {
   "cell_type": "code",
   "execution_count": 1,
   "id": "2",
   "metadata": {
    "execution": {
     "iopub.execute_input": "2024-11-11T19:48:30.346443Z",
     "iopub.status.busy": "2024-11-11T19:48:30.346089Z",
     "iopub.status.idle": "2024-11-11T19:48:33.003948Z",
     "shell.execute_reply": "2024-11-11T19:48:33.003219Z"
    },
    "tags": []
   },
   "outputs": [],
   "source": [
    "import datetime as dt\n",
    "import warnings\n",
    "\n",
    "import ravenpy\n",
    "import spotpy\n",
    "from ravenpy.config import commands as rc\n",
    "from ravenpy.config.emulators import GR4JCN\n",
    "from ravenpy.utilities.calibration import SpotSetup\n",
    "\n",
    "warnings.filterwarnings(\"ignore\")"
   ]
  },
  {
   "cell_type": "markdown",
   "id": "3",
   "metadata": {},
   "source": [
    "## Preparing the model to be calibrated on a given watershed\n",
    "\n",
    "The process to set up the emulator for calibration is very similar to setting up an emulator for simulations. We specify HRUs, meteorological inputs, streamflow observations, start and end time, as well as the evaluation metrics. Note that we set the `SuppressOutput` option to True here to skip writing hydrographs and state variables to disk.  "
   ]
  },
  {
   "cell_type": "code",
   "execution_count": 2,
   "id": "6",
   "metadata": {
    "execution": {
     "iopub.execute_input": "2024-11-11T19:48:33.007597Z",
     "iopub.status.busy": "2024-11-11T19:48:33.007014Z",
     "iopub.status.idle": "2024-11-11T19:48:37.871801Z",
     "shell.execute_reply": "2024-11-11T19:48:37.871125Z"
    },
    "tags": []
   },
   "outputs": [
    {
     "name": "stderr",
     "output_type": "stream",
     "text": [
      "WARNING: registry._helper_single_adder(): Redefining 'percent' (<class 'pint.delegates.txt_defparser.plain.UnitDefinition'>)\n"
     ]
    },
    {
     "name": "stderr",
     "output_type": "stream",
     "text": [
      "WARNING: registry._helper_single_adder(): Redefining '%' (<class 'pint.delegates.txt_defparser.plain.UnitDefinition'>)\n"
     ]
    },
    {
     "name": "stderr",
     "output_type": "stream",
     "text": [
      "WARNING: registry._helper_single_adder(): Redefining 'year' (<class 'pint.delegates.txt_defparser.plain.UnitDefinition'>)\n"
     ]
    },
    {
     "name": "stderr",
     "output_type": "stream",
     "text": [
      "WARNING: registry._helper_single_adder(): Redefining 'yr' (<class 'pint.delegates.txt_defparser.plain.UnitDefinition'>)\n"
     ]
    },
    {
     "name": "stderr",
     "output_type": "stream",
     "text": [
      "WARNING: registry._helper_single_adder(): Redefining 'C' (<class 'pint.delegates.txt_defparser.plain.UnitDefinition'>)\n"
     ]
    },
    {
     "name": "stderr",
     "output_type": "stream",
     "text": [
      "WARNING: registry._helper_single_adder(): Redefining 'd' (<class 'pint.delegates.txt_defparser.plain.UnitDefinition'>)\n"
     ]
    },
    {
     "name": "stderr",
     "output_type": "stream",
     "text": [
      "WARNING: registry._helper_single_adder(): Redefining 'h' (<class 'pint.delegates.txt_defparser.plain.UnitDefinition'>)\n"
     ]
    },
    {
     "name": "stderr",
     "output_type": "stream",
     "text": [
      "WARNING: registry._helper_single_adder(): Redefining 'degrees_north' (<class 'pint.delegates.txt_defparser.plain.UnitDefinition'>)\n"
     ]
    },
    {
     "name": "stderr",
     "output_type": "stream",
     "text": [
      "WARNING: registry._helper_single_adder(): Redefining 'degrees_east' (<class 'pint.delegates.txt_defparser.plain.UnitDefinition'>)\n"
     ]
    },
    {
     "name": "stderr",
     "output_type": "stream",
     "text": [
      "WARNING: registry._helper_single_adder(): Redefining 'degrees' (<class 'pint.delegates.txt_defparser.plain.UnitDefinition'>)\n"
     ]
    },
    {
     "name": "stderr",
     "output_type": "stream",
     "text": [
      "WARNING: registry._helper_single_adder(): Redefining '[speed]' (<class 'pint.delegates.txt_defparser.plain.DerivedDimensionDefinition'>)\n"
     ]
    },
    {
     "name": "stderr",
     "output_type": "stream",
     "text": [
      "ERROR: commands.from_nc(): No variable found for SHORTWAVE.\n",
      " Data variables:\n",
      "    lon       (nstations) float64 8B ...\n",
      "    lat       (nstations) float64 8B ...\n",
      "    rainfall  (time) float64 167kB ...\n",
      "    snowfall  (time) float64 167kB ...\n",
      "    tasmin    (time) float64 167kB ...\n",
      "    tasmax    (time) float64 167kB ...\n",
      "    pet       (time) float64 167kB ...\n",
      "    qobs      (time) float64 167kB ...\n"
     ]
    },
    {
     "name": "stderr",
     "output_type": "stream",
     "text": [
      "ERROR: commands.from_nc(): No variable found for LW_INCOMING.\n",
      " Data variables:\n",
      "    lon       (nstations) float64 8B ...\n",
      "    lat       (nstations) float64 8B ...\n",
      "    rainfall  (time) float64 167kB ...\n",
      "    snowfall  (time) float64 167kB ...\n",
      "    tasmin    (time) float64 167kB ...\n",
      "    tasmax    (time) float64 167kB ...\n",
      "    pet       (time) float64 167kB ...\n",
      "    qobs      (time) float64 167kB ...\n"
     ]
    },
    {
     "name": "stderr",
     "output_type": "stream",
     "text": [
      "ERROR: commands.from_nc(): Provide alternative variable name with `alt_names` for TEMP_MONTH_AVE\n"
     ]
    },
    {
     "name": "stderr",
     "output_type": "stream",
     "text": [
      "ERROR: commands.from_nc(): No variable found for PRECIP.\n",
      " Data variables:\n",
      "    lon       (nstations) float64 8B ...\n",
      "    lat       (nstations) float64 8B ...\n",
      "    rainfall  (time) float64 167kB ...\n",
      "    snowfall  (time) float64 167kB ...\n",
      "    tasmin    (time) float64 167kB ...\n",
      "    tasmax    (time) float64 167kB ...\n",
      "    pet       (time) float64 167kB ...\n",
      "    qobs      (time) float64 167kB ...\n"
     ]
    },
    {
     "name": "stderr",
     "output_type": "stream",
     "text": [
      "ERROR: commands.from_nc(): Provide alternative variable name with `alt_names` for RECHARGE\n"
     ]
    },
    {
     "name": "stderr",
     "output_type": "stream",
     "text": [
      "ERROR: commands.from_nc(): No variable found for PRECIP_DAILY_AVE.\n",
      " Data variables:\n",
      "    lon       (nstations) float64 8B ...\n",
      "    lat       (nstations) float64 8B ...\n",
      "    rainfall  (time) float64 167kB ...\n",
      "    snowfall  (time) float64 167kB ...\n",
      "    tasmin    (time) float64 167kB ...\n",
      "    tasmax    (time) float64 167kB ...\n",
      "    pet       (time) float64 167kB ...\n",
      "    qobs      (time) float64 167kB ...\n"
     ]
    },
    {
     "name": "stderr",
     "output_type": "stream",
     "text": [
      "ERROR: commands.from_nc(): No variable found for CLOUD_COVER.\n",
      " Data variables:\n",
      "    lon       (nstations) float64 8B ...\n",
      "    lat       (nstations) float64 8B ...\n",
      "    rainfall  (time) float64 167kB ...\n",
      "    snowfall  (time) float64 167kB ...\n",
      "    tasmin    (time) float64 167kB ...\n",
      "    tasmax    (time) float64 167kB ...\n",
      "    pet       (time) float64 167kB ...\n",
      "    qobs      (time) float64 167kB ...\n"
     ]
    },
    {
     "name": "stderr",
     "output_type": "stream",
     "text": [
      "ERROR: commands.from_nc(): No variable found for TEMP_AVE.\n",
      " Data variables:\n",
      "    lon       (nstations) float64 8B ...\n",
      "    lat       (nstations) float64 8B ...\n",
      "    rainfall  (time) float64 167kB ...\n",
      "    snowfall  (time) float64 167kB ...\n",
      "    tasmin    (time) float64 167kB ...\n",
      "    tasmax    (time) float64 167kB ...\n",
      "    pet       (time) float64 167kB ...\n",
      "    qobs      (time) float64 167kB ...\n"
     ]
    },
    {
     "name": "stderr",
     "output_type": "stream",
     "text": [
      "ERROR: commands.from_nc(): Provide alternative variable name with `alt_names` for DAY_ANGLE\n"
     ]
    },
    {
     "name": "stderr",
     "output_type": "stream",
     "text": [
      "ERROR: commands.from_nc(): No variable found for TEMP_DAILY_AVE.\n",
      " Data variables:\n",
      "    lon       (nstations) float64 8B ...\n",
      "    lat       (nstations) float64 8B ...\n",
      "    rainfall  (time) float64 167kB ...\n",
      "    snowfall  (time) float64 167kB ...\n",
      "    tasmin    (time) float64 167kB ...\n",
      "    tasmax    (time) float64 167kB ...\n",
      "    pet       (time) float64 167kB ...\n",
      "    qobs      (time) float64 167kB ...\n"
     ]
    },
    {
     "name": "stderr",
     "output_type": "stream",
     "text": [
      "ERROR: commands.from_nc(): Provide alternative variable name with `alt_names` for LW_RADIA_NET\n"
     ]
    },
    {
     "name": "stderr",
     "output_type": "stream",
     "text": [
      "ERROR: commands.from_nc(): Provide alternative variable name with `alt_names` for POTENTIAL_MELT\n"
     ]
    },
    {
     "name": "stderr",
     "output_type": "stream",
     "text": [
      "ERROR: commands.from_nc(): Provide alternative variable name with `alt_names` for SUBDAILY_CORR\n"
     ]
    },
    {
     "name": "stderr",
     "output_type": "stream",
     "text": [
      "ERROR: commands.from_nc(): Provide alternative variable name with `alt_names` for ET_RADIA\n"
     ]
    },
    {
     "name": "stderr",
     "output_type": "stream",
     "text": [
      "ERROR: commands.from_nc(): No variable found for WIND_VEL.\n",
      " Data variables:\n",
      "    lon       (nstations) float64 8B ...\n",
      "    lat       (nstations) float64 8B ...\n",
      "    rainfall  (time) float64 167kB ...\n",
      "    snowfall  (time) float64 167kB ...\n",
      "    tasmin    (time) float64 167kB ...\n",
      "    tasmax    (time) float64 167kB ...\n",
      "    pet       (time) float64 167kB ...\n",
      "    qobs      (time) float64 167kB ...\n"
     ]
    },
    {
     "name": "stderr",
     "output_type": "stream",
     "text": [
      "ERROR: commands.from_nc(): Provide alternative variable name with `alt_names` for SNOW_FRAC\n"
     ]
    },
    {
     "name": "stderr",
     "output_type": "stream",
     "text": [
      "ERROR: commands.from_nc(): Provide alternative variable name with `alt_names` for TEMP_MAX_UNC\n"
     ]
    },
    {
     "name": "stderr",
     "output_type": "stream",
     "text": [
      "ERROR: commands.from_nc(): Provide alternative variable name with `alt_names` for SW_RADIA\n"
     ]
    },
    {
     "name": "stderr",
     "output_type": "stream",
     "text": [
      "ERROR: commands.from_nc(): Provide alternative variable name with `alt_names` for PRECIP_5DAY\n"
     ]
    },
    {
     "name": "stderr",
     "output_type": "stream",
     "text": [
      "ERROR: commands.from_nc(): Provide alternative variable name with `alt_names` for OW_PET\n"
     ]
    },
    {
     "name": "stderr",
     "output_type": "stream",
     "text": [
      "ERROR: commands.from_nc(): Provide alternative variable name with `alt_names` for AIR_DENS\n"
     ]
    },
    {
     "name": "stderr",
     "output_type": "stream",
     "text": [
      "ERROR: commands.from_nc(): No variable found for PET.\n",
      " Data variables:\n",
      "    lon       (nstations) float64 8B ...\n",
      "    lat       (nstations) float64 8B ...\n",
      "    rainfall  (time) float64 167kB ...\n",
      "    snowfall  (time) float64 167kB ...\n",
      "    tasmin    (time) float64 167kB ...\n",
      "    tasmax    (time) float64 167kB ...\n",
      "    pet       (time) float64 167kB ...\n",
      "    qobs      (time) float64 167kB ...\n"
     ]
    },
    {
     "name": "stderr",
     "output_type": "stream",
     "text": [
      "ERROR: commands.from_nc(): No variable found for REL_HUMIDITY.\n",
      " Data variables:\n",
      "    lon       (nstations) float64 8B ...\n",
      "    lat       (nstations) float64 8B ...\n",
      "    rainfall  (time) float64 167kB ...\n",
      "    snowfall  (time) float64 167kB ...\n",
      "    tasmin    (time) float64 167kB ...\n",
      "    tasmax    (time) float64 167kB ...\n",
      "    pet       (time) float64 167kB ...\n",
      "    qobs      (time) float64 167kB ...\n"
     ]
    },
    {
     "name": "stderr",
     "output_type": "stream",
     "text": [
      "ERROR: commands.from_nc(): Provide alternative variable name with `alt_names` for DAY_LENGTH\n"
     ]
    },
    {
     "name": "stderr",
     "output_type": "stream",
     "text": [
      "ERROR: commands.from_nc(): Provide alternative variable name with `alt_names` for TEMP_AVE_UNC\n"
     ]
    },
    {
     "name": "stderr",
     "output_type": "stream",
     "text": [
      "ERROR: commands.from_nc(): No variable found for AIR_PRES.\n",
      " Data variables:\n",
      "    lon       (nstations) float64 8B ...\n",
      "    lat       (nstations) float64 8B ...\n",
      "    rainfall  (time) float64 167kB ...\n",
      "    snowfall  (time) float64 167kB ...\n",
      "    tasmin    (time) float64 167kB ...\n",
      "    tasmax    (time) float64 167kB ...\n",
      "    pet       (time) float64 167kB ...\n",
      "    qobs      (time) float64 167kB ...\n"
     ]
    },
    {
     "name": "stderr",
     "output_type": "stream",
     "text": [
      "ERROR: commands.from_nc(): Provide alternative variable name with `alt_names` for PET_MONTH_AVE\n"
     ]
    },
    {
     "name": "stderr",
     "output_type": "stream",
     "text": [
      "ERROR: commands.from_nc(): Provide alternative variable name with `alt_names` for TEMP_MONTH_MAX\n"
     ]
    },
    {
     "name": "stderr",
     "output_type": "stream",
     "text": [
      "ERROR: commands.from_nc(): Provide alternative variable name with `alt_names` for SW_RADIA_NET\n"
     ]
    },
    {
     "name": "stderr",
     "output_type": "stream",
     "text": [
      "ERROR: commands.from_nc(): Provide alternative variable name with `alt_names` for TEMP_MIN_UNC\n"
     ]
    },
    {
     "name": "stderr",
     "output_type": "stream",
     "text": [
      "ERROR: commands.from_nc(): Provide alternative variable name with `alt_names` for TEMP_MONTH_MIN\n"
     ]
    }
   ],
   "source": [
    "# Path to meteo inputs and observed streamflows\n",
    "meteo = \"tutorial_data/Salmon-River-Near-Prince-George_meteo_daily.nc\"\n",
    "obs = \"tutorial_data/Salmon-River-Near-Prince-George_qobs_daily.nc\"\n",
    "\n",
    "# The HRU for the watershed\n",
    "hru = dict(area=4250.6, elevation=843.0, latitude=54.4848, longitude=-123.3659)\n",
    "\n",
    "# The evaluation metric\n",
    "eval_metrics = (\"NASH_SUTCLIFFE\",)\n",
    "\n",
    "# Model configuration\n",
    "model_config = GR4JCN(\n",
    "    ObservationData=[rc.ObservationData.from_nc(obs, alt_names=\"qobs\")],\n",
    "    Gauge=[\n",
    "        rc.Gauge.from_nc(\n",
    "            meteo,\n",
    "            data_kwds={\"ALL\": {\"elevation\": hru[\"elevation\"]}},\n",
    "        )\n",
    "    ],\n",
    "    HRUs=[hru],\n",
    "    StartDate=dt.datetime(1990, 1, 1),\n",
    "    EndDate=dt.datetime(1999, 12, 31),\n",
    "    RunName=\"test\",\n",
    "    EvaluationMetrics=eval_metrics,\n",
    "    SuppressOutput=True,\n",
    ")"
   ]
  },
  {
   "cell_type": "markdown",
   "id": "7",
   "metadata": {},
   "source": [
    "## Calibration using SPOTPY\n",
    "\n",
    "RavenPy has a dedicated mechanism to interact with [SPOTPY](https://spotpy.readthedocs.io/en/latest/), a parameter optimization library. In a nutshell, \n",
    " - SPOTPY proposes parameter values, \n",
    " - RavenPy converts those parameters to an emulator configuration,\n",
    " - Raven runs a simulation from the emulator config and returns evaluation metrics,\n",
    " - SPOTPY proposes new parameter values based on the metrics values. \n",
    " \n",
    "The `SpotSetup` class is the component that connects Raven with SPOTPY. It requires a fully configured Emulator (except for the parameter), and low and high bounds to constrain the parameter values.  "
   ]
  },
  {
   "cell_type": "code",
   "execution_count": 3,
   "id": "8",
   "metadata": {
    "execution": {
     "iopub.execute_input": "2024-11-11T19:48:37.875413Z",
     "iopub.status.busy": "2024-11-11T19:48:37.875038Z",
     "iopub.status.idle": "2024-11-11T19:48:37.883574Z",
     "shell.execute_reply": "2024-11-11T19:48:37.882966Z"
    },
    "tags": []
   },
   "outputs": [],
   "source": [
    "# In order to calibrate your model, you need to give the lower and higher bounds of the model. In this case, we are passing\n",
    "# the boundaries for a GR4JCN, but it's important to change them, if you are using another model.\n",
    "low_params = (0.01, -15.0, 10.0, 0.0, 1.0, 0.0)\n",
    "high_params = (2.5, 10.0, 700.0, 7.0, 30.0, 1.0)\n",
    "\n",
    "# Create SpotSetup instance to connect SPOTPY to our Raven emulator.\n",
    "spot_setup = SpotSetup(\n",
    "    config=model_config,\n",
    "    low=low_params,\n",
    "    high=high_params,\n",
    ")"
   ]
  },
  {
   "cell_type": "markdown",
   "id": "9",
   "metadata": {},
   "source": [
    "From there, we are simply using SPOTPY to optimize the parameters, here using the DDS algorithm. You'll find details about other optimization algorithms in the [Spotpy documentation](https://spotpy.readthedocs.io/)."
   ]
  },
  {
   "cell_type": "code",
   "execution_count": 4,
   "id": "10",
   "metadata": {
    "execution": {
     "iopub.execute_input": "2024-11-11T19:48:37.886682Z",
     "iopub.status.busy": "2024-11-11T19:48:37.886452Z",
     "iopub.status.idle": "2024-11-11T19:48:39.139055Z",
     "shell.execute_reply": "2024-11-11T19:48:39.138340Z"
    },
    "tags": []
   },
   "outputs": [
    {
     "name": "stdout",
     "output_type": "stream",
     "text": [
      "Initializing the  Dynamically Dimensioned Search (DDS) algorithm  with  10  repetitions\n",
      "The objective function will be maximized\n",
      "Starting the DDS algotrithm with 10 repetitions...\n",
      "Finding best starting point for trial 1 using 5 random samples.\n",
      "Initialize database...\n",
      "['csv', 'hdf5', 'ram', 'sql', 'custom', 'noData']\n"
     ]
    },
    {
     "name": "stdout",
     "output_type": "stream",
     "text": [
      "Best solution found has obj function value of 0.378259 at 5\n",
      "\n",
      "\n",
      "\n",
      "*** Final SPOTPY summary ***\n",
      "Total Duration: 1.24 seconds\n",
      "Total Repetitions: 10\n",
      "Maximal objective value: 0.378259\n",
      "Corresponding parameter setting:\n",
      "GR4J_X1: 0.486975\n",
      "GR4J_X2: 7.15921\n",
      "GR4J_X3: 399.492\n",
      "GR4J_X4: 5.95959\n",
      "CEMANEIGE_X1: 9.6056\n",
      "CEMANEIGE_X2: 0.541178\n",
      "******************************\n",
      "\n"
     ]
    },
    {
     "data": {
      "text/plain": [
       "[{'sbest': spotpy.parameter.ParameterSet(),\n",
       "  'trial_initial': [0.6265918845262759,\n",
       "   5.625878978362014,\n",
       "   298.9968452584803,\n",
       "   5.032556730151478,\n",
       "   7.196524993394928,\n",
       "   0.3889486549818731],\n",
       "  'objfunc_val': 0.378259}]"
      ]
     },
     "execution_count": 4,
     "metadata": {},
     "output_type": "execute_result"
    }
   ],
   "source": [
    "# NBVAL_IGNORE_OUTPUT\n",
    "\n",
    "# Number of total model evaluations in the calibration. This value should be over 500 for real optimisation,\n",
    "# and upwards of 10000 evaluations for models with many parameters. This will take a long time.\n",
    "model_evaluations = 10\n",
    "\n",
    "# Set up the spotpy sampler with the method, the setup configuration, a run name and other options. Please refer to\n",
    "# the spotpy documentation for more options.\n",
    "sampler = spotpy.algorithms.dds(\n",
    "    spot_setup, dbname=\"RAVEN_model_run\", dbformat=\"ram\", save_sim=False\n",
    ")\n",
    "\n",
    "# Launch the actual optimization. Multiple trials can be launched, where the entire process is repeated and\n",
    "# the best overall value from all trials is returned.\n",
    "sampler.sample(model_evaluations, trials=1)"
   ]
  },
  {
   "cell_type": "markdown",
   "id": "11",
   "metadata": {},
   "source": [
    "## Analysing the calibration results\n",
    "The best parameters as well as the objective functions can be analyzed."
   ]
  },
  {
   "cell_type": "code",
   "execution_count": 5,
   "id": "12",
   "metadata": {
    "execution": {
     "iopub.execute_input": "2024-11-11T19:48:39.141984Z",
     "iopub.status.busy": "2024-11-11T19:48:39.141673Z",
     "iopub.status.idle": "2024-11-11T19:48:39.147596Z",
     "shell.execute_reply": "2024-11-11T19:48:39.146935Z"
    },
    "tags": []
   },
   "outputs": [
    {
     "name": "stdout",
     "output_type": "stream",
     "text": [
      "Best parameter set:\n",
      "GR4J_X1=0.4869747370293771, GR4J_X2=7.159205099828609, GR4J_X3=399.4916761131997, GR4J_X4=5.959586082036362, CEMANEIGE_X1=9.605603572426594, CEMANEIGE_X2=0.5411776654824588\n",
      "Run number 5 has the highest objectivefunction with: 0.3783\n"
     ]
    }
   ],
   "source": [
    "# NBVAL_IGNORE_OUTPUT\n",
    "\n",
    "# Get all the values of each iteration\n",
    "results = sampler.getdata()\n",
    "\n",
    "# Get the parameter set returning the best NSE\n",
    "optimized_parameters = spotpy.analyser.get_best_parameterset(results)[0]\n",
    "\n",
    "# Get the raw resutlts directly in an array\n",
    "bestindex, bestobjfun = spotpy.analyser.get_maxlikeindex(results)"
   ]
  },
  {
   "cell_type": "markdown",
   "id": "2de07ad7-ad31-498f-bdb1-2da0bb6d3514",
   "metadata": {},
   "source": [
    "These parameters can then be fed back into the emulator configuration to run simulations. "
   ]
  },
  {
   "cell_type": "code",
   "execution_count": 6,
   "id": "798a271a-9d3d-4057-be17-8473d6cd51d2",
   "metadata": {
    "execution": {
     "iopub.execute_input": "2024-11-11T19:48:39.150640Z",
     "iopub.status.busy": "2024-11-11T19:48:39.150253Z",
     "iopub.status.idle": "2024-11-11T19:48:40.958897Z",
     "shell.execute_reply": "2024-11-11T19:48:40.958030Z"
    },
    "tags": []
   },
   "outputs": [
    {
     "data": {
      "text/html": [
       "<div><svg style=\"position: absolute; width: 0; height: 0; overflow: hidden\">\n",
       "<defs>\n",
       "<symbol id=\"icon-database\" viewBox=\"0 0 32 32\">\n",
       "<path d=\"M16 0c-8.837 0-16 2.239-16 5v4c0 2.761 7.163 5 16 5s16-2.239 16-5v-4c0-2.761-7.163-5-16-5z\"></path>\n",
       "<path d=\"M16 17c-8.837 0-16-2.239-16-5v6c0 2.761 7.163 5 16 5s16-2.239 16-5v-6c0 2.761-7.163 5-16 5z\"></path>\n",
       "<path d=\"M16 26c-8.837 0-16-2.239-16-5v6c0 2.761 7.163 5 16 5s16-2.239 16-5v-6c0 2.761-7.163 5-16 5z\"></path>\n",
       "</symbol>\n",
       "<symbol id=\"icon-file-text2\" viewBox=\"0 0 32 32\">\n",
       "<path d=\"M28.681 7.159c-0.694-0.947-1.662-2.053-2.724-3.116s-2.169-2.030-3.116-2.724c-1.612-1.182-2.393-1.319-2.841-1.319h-15.5c-1.378 0-2.5 1.121-2.5 2.5v27c0 1.378 1.122 2.5 2.5 2.5h23c1.378 0 2.5-1.122 2.5-2.5v-19.5c0-0.448-0.137-1.23-1.319-2.841zM24.543 5.457c0.959 0.959 1.712 1.825 2.268 2.543h-4.811v-4.811c0.718 0.556 1.584 1.309 2.543 2.268zM28 29.5c0 0.271-0.229 0.5-0.5 0.5h-23c-0.271 0-0.5-0.229-0.5-0.5v-27c0-0.271 0.229-0.5 0.5-0.5 0 0 15.499-0 15.5 0v7c0 0.552 0.448 1 1 1h7v19.5z\"></path>\n",
       "<path d=\"M23 26h-14c-0.552 0-1-0.448-1-1s0.448-1 1-1h14c0.552 0 1 0.448 1 1s-0.448 1-1 1z\"></path>\n",
       "<path d=\"M23 22h-14c-0.552 0-1-0.448-1-1s0.448-1 1-1h14c0.552 0 1 0.448 1 1s-0.448 1-1 1z\"></path>\n",
       "<path d=\"M23 18h-14c-0.552 0-1-0.448-1-1s0.448-1 1-1h14c0.552 0 1 0.448 1 1s-0.448 1-1 1z\"></path>\n",
       "</symbol>\n",
       "</defs>\n",
       "</svg>\n",
       "<style>/* CSS stylesheet for displaying xarray objects in jupyterlab.\n",
       " *\n",
       " */\n",
       "\n",
       ":root {\n",
       "  --xr-font-color0: var(--jp-content-font-color0, rgba(0, 0, 0, 1));\n",
       "  --xr-font-color2: var(--jp-content-font-color2, rgba(0, 0, 0, 0.54));\n",
       "  --xr-font-color3: var(--jp-content-font-color3, rgba(0, 0, 0, 0.38));\n",
       "  --xr-border-color: var(--jp-border-color2, #e0e0e0);\n",
       "  --xr-disabled-color: var(--jp-layout-color3, #bdbdbd);\n",
       "  --xr-background-color: var(--jp-layout-color0, white);\n",
       "  --xr-background-color-row-even: var(--jp-layout-color1, white);\n",
       "  --xr-background-color-row-odd: var(--jp-layout-color2, #eeeeee);\n",
       "}\n",
       "\n",
       "html[theme=dark],\n",
       "html[data-theme=dark],\n",
       "body[data-theme=dark],\n",
       "body.vscode-dark {\n",
       "  --xr-font-color0: rgba(255, 255, 255, 1);\n",
       "  --xr-font-color2: rgba(255, 255, 255, 0.54);\n",
       "  --xr-font-color3: rgba(255, 255, 255, 0.38);\n",
       "  --xr-border-color: #1F1F1F;\n",
       "  --xr-disabled-color: #515151;\n",
       "  --xr-background-color: #111111;\n",
       "  --xr-background-color-row-even: #111111;\n",
       "  --xr-background-color-row-odd: #313131;\n",
       "}\n",
       "\n",
       ".xr-wrap {\n",
       "  display: block !important;\n",
       "  min-width: 300px;\n",
       "  max-width: 700px;\n",
       "}\n",
       "\n",
       ".xr-text-repr-fallback {\n",
       "  /* fallback to plain text repr when CSS is not injected (untrusted notebook) */\n",
       "  display: none;\n",
       "}\n",
       "\n",
       ".xr-header {\n",
       "  padding-top: 6px;\n",
       "  padding-bottom: 6px;\n",
       "  margin-bottom: 4px;\n",
       "  border-bottom: solid 1px var(--xr-border-color);\n",
       "}\n",
       "\n",
       ".xr-header > div,\n",
       ".xr-header > ul {\n",
       "  display: inline;\n",
       "  margin-top: 0;\n",
       "  margin-bottom: 0;\n",
       "}\n",
       "\n",
       ".xr-obj-type,\n",
       ".xr-array-name {\n",
       "  margin-left: 2px;\n",
       "  margin-right: 10px;\n",
       "}\n",
       "\n",
       ".xr-obj-type {\n",
       "  color: var(--xr-font-color2);\n",
       "}\n",
       "\n",
       ".xr-sections {\n",
       "  padding-left: 0 !important;\n",
       "  display: grid;\n",
       "  grid-template-columns: 150px auto auto 1fr 0 20px 0 20px;\n",
       "}\n",
       "\n",
       ".xr-section-item {\n",
       "  display: contents;\n",
       "}\n",
       "\n",
       ".xr-section-item input {\n",
       "  display: inline-block;\n",
       "  opacity: 0;\n",
       "}\n",
       "\n",
       ".xr-section-item input + label {\n",
       "  color: var(--xr-disabled-color);\n",
       "}\n",
       "\n",
       ".xr-section-item input:enabled + label {\n",
       "  cursor: pointer;\n",
       "  color: var(--xr-font-color2);\n",
       "}\n",
       "\n",
       ".xr-section-item input:focus + label {\n",
       "  border: 2px solid var(--xr-font-color0);\n",
       "}\n",
       "\n",
       ".xr-section-item input:enabled + label:hover {\n",
       "  color: var(--xr-font-color0);\n",
       "}\n",
       "\n",
       ".xr-section-summary {\n",
       "  grid-column: 1;\n",
       "  color: var(--xr-font-color2);\n",
       "  font-weight: 500;\n",
       "}\n",
       "\n",
       ".xr-section-summary > span {\n",
       "  display: inline-block;\n",
       "  padding-left: 0.5em;\n",
       "}\n",
       "\n",
       ".xr-section-summary-in:disabled + label {\n",
       "  color: var(--xr-font-color2);\n",
       "}\n",
       "\n",
       ".xr-section-summary-in + label:before {\n",
       "  display: inline-block;\n",
       "  content: '►';\n",
       "  font-size: 11px;\n",
       "  width: 15px;\n",
       "  text-align: center;\n",
       "}\n",
       "\n",
       ".xr-section-summary-in:disabled + label:before {\n",
       "  color: var(--xr-disabled-color);\n",
       "}\n",
       "\n",
       ".xr-section-summary-in:checked + label:before {\n",
       "  content: '▼';\n",
       "}\n",
       "\n",
       ".xr-section-summary-in:checked + label > span {\n",
       "  display: none;\n",
       "}\n",
       "\n",
       ".xr-section-summary,\n",
       ".xr-section-inline-details {\n",
       "  padding-top: 4px;\n",
       "  padding-bottom: 4px;\n",
       "}\n",
       "\n",
       ".xr-section-inline-details {\n",
       "  grid-column: 2 / -1;\n",
       "}\n",
       "\n",
       ".xr-section-details {\n",
       "  display: none;\n",
       "  grid-column: 1 / -1;\n",
       "  margin-bottom: 5px;\n",
       "}\n",
       "\n",
       ".xr-section-summary-in:checked ~ .xr-section-details {\n",
       "  display: contents;\n",
       "}\n",
       "\n",
       ".xr-array-wrap {\n",
       "  grid-column: 1 / -1;\n",
       "  display: grid;\n",
       "  grid-template-columns: 20px auto;\n",
       "}\n",
       "\n",
       ".xr-array-wrap > label {\n",
       "  grid-column: 1;\n",
       "  vertical-align: top;\n",
       "}\n",
       "\n",
       ".xr-preview {\n",
       "  color: var(--xr-font-color3);\n",
       "}\n",
       "\n",
       ".xr-array-preview,\n",
       ".xr-array-data {\n",
       "  padding: 0 5px !important;\n",
       "  grid-column: 2;\n",
       "}\n",
       "\n",
       ".xr-array-data,\n",
       ".xr-array-in:checked ~ .xr-array-preview {\n",
       "  display: none;\n",
       "}\n",
       "\n",
       ".xr-array-in:checked ~ .xr-array-data,\n",
       ".xr-array-preview {\n",
       "  display: inline-block;\n",
       "}\n",
       "\n",
       ".xr-dim-list {\n",
       "  display: inline-block !important;\n",
       "  list-style: none;\n",
       "  padding: 0 !important;\n",
       "  margin: 0;\n",
       "}\n",
       "\n",
       ".xr-dim-list li {\n",
       "  display: inline-block;\n",
       "  padding: 0;\n",
       "  margin: 0;\n",
       "}\n",
       "\n",
       ".xr-dim-list:before {\n",
       "  content: '(';\n",
       "}\n",
       "\n",
       ".xr-dim-list:after {\n",
       "  content: ')';\n",
       "}\n",
       "\n",
       ".xr-dim-list li:not(:last-child):after {\n",
       "  content: ',';\n",
       "  padding-right: 5px;\n",
       "}\n",
       "\n",
       ".xr-has-index {\n",
       "  font-weight: bold;\n",
       "}\n",
       "\n",
       ".xr-var-list,\n",
       ".xr-var-item {\n",
       "  display: contents;\n",
       "}\n",
       "\n",
       ".xr-var-item > div,\n",
       ".xr-var-item label,\n",
       ".xr-var-item > .xr-var-name span {\n",
       "  background-color: var(--xr-background-color-row-even);\n",
       "  margin-bottom: 0;\n",
       "}\n",
       "\n",
       ".xr-var-item > .xr-var-name:hover span {\n",
       "  padding-right: 5px;\n",
       "}\n",
       "\n",
       ".xr-var-list > li:nth-child(odd) > div,\n",
       ".xr-var-list > li:nth-child(odd) > label,\n",
       ".xr-var-list > li:nth-child(odd) > .xr-var-name span {\n",
       "  background-color: var(--xr-background-color-row-odd);\n",
       "}\n",
       "\n",
       ".xr-var-name {\n",
       "  grid-column: 1;\n",
       "}\n",
       "\n",
       ".xr-var-dims {\n",
       "  grid-column: 2;\n",
       "}\n",
       "\n",
       ".xr-var-dtype {\n",
       "  grid-column: 3;\n",
       "  text-align: right;\n",
       "  color: var(--xr-font-color2);\n",
       "}\n",
       "\n",
       ".xr-var-preview {\n",
       "  grid-column: 4;\n",
       "}\n",
       "\n",
       ".xr-index-preview {\n",
       "  grid-column: 2 / 5;\n",
       "  color: var(--xr-font-color2);\n",
       "}\n",
       "\n",
       ".xr-var-name,\n",
       ".xr-var-dims,\n",
       ".xr-var-dtype,\n",
       ".xr-preview,\n",
       ".xr-attrs dt {\n",
       "  white-space: nowrap;\n",
       "  overflow: hidden;\n",
       "  text-overflow: ellipsis;\n",
       "  padding-right: 10px;\n",
       "}\n",
       "\n",
       ".xr-var-name:hover,\n",
       ".xr-var-dims:hover,\n",
       ".xr-var-dtype:hover,\n",
       ".xr-attrs dt:hover {\n",
       "  overflow: visible;\n",
       "  width: auto;\n",
       "  z-index: 1;\n",
       "}\n",
       "\n",
       ".xr-var-attrs,\n",
       ".xr-var-data,\n",
       ".xr-index-data {\n",
       "  display: none;\n",
       "  background-color: var(--xr-background-color) !important;\n",
       "  padding-bottom: 5px !important;\n",
       "}\n",
       "\n",
       ".xr-var-attrs-in:checked ~ .xr-var-attrs,\n",
       ".xr-var-data-in:checked ~ .xr-var-data,\n",
       ".xr-index-data-in:checked ~ .xr-index-data {\n",
       "  display: block;\n",
       "}\n",
       "\n",
       ".xr-var-data > table {\n",
       "  float: right;\n",
       "}\n",
       "\n",
       ".xr-var-name span,\n",
       ".xr-var-data,\n",
       ".xr-index-name div,\n",
       ".xr-index-data,\n",
       ".xr-attrs {\n",
       "  padding-left: 25px !important;\n",
       "}\n",
       "\n",
       ".xr-attrs,\n",
       ".xr-var-attrs,\n",
       ".xr-var-data,\n",
       ".xr-index-data {\n",
       "  grid-column: 1 / -1;\n",
       "}\n",
       "\n",
       "dl.xr-attrs {\n",
       "  padding: 0;\n",
       "  margin: 0;\n",
       "  display: grid;\n",
       "  grid-template-columns: 125px auto;\n",
       "}\n",
       "\n",
       ".xr-attrs dt,\n",
       ".xr-attrs dd {\n",
       "  padding: 0;\n",
       "  margin: 0;\n",
       "  float: left;\n",
       "  padding-right: 10px;\n",
       "  width: auto;\n",
       "}\n",
       "\n",
       ".xr-attrs dt {\n",
       "  font-weight: normal;\n",
       "  grid-column: 1;\n",
       "}\n",
       "\n",
       ".xr-attrs dt:hover span {\n",
       "  display: inline-block;\n",
       "  background: var(--xr-background-color);\n",
       "  padding-right: 10px;\n",
       "}\n",
       "\n",
       ".xr-attrs dd {\n",
       "  grid-column: 2;\n",
       "  white-space: pre-wrap;\n",
       "  word-break: break-all;\n",
       "}\n",
       "\n",
       ".xr-icon-database,\n",
       ".xr-icon-file-text2,\n",
       ".xr-no-icon {\n",
       "  display: inline-block;\n",
       "  vertical-align: middle;\n",
       "  width: 1em;\n",
       "  height: 1.5em !important;\n",
       "  stroke-width: 0;\n",
       "  stroke: currentColor;\n",
       "  fill: currentColor;\n",
       "}\n",
       "</style><pre class='xr-text-repr-fallback'>&lt;xarray.Dataset&gt; Size: 146kB\n",
       "Dimensions:     (time: 3652, nbasins: 1)\n",
       "Coordinates:\n",
       "  * time        (time) datetime64[ns] 29kB 1990-01-01 1990-01-02 ... 1999-12-31\n",
       "    basin_name  (nbasins) &lt;U7 28B ...\n",
       "Dimensions without coordinates: nbasins\n",
       "Data variables:\n",
       "    precip      (time) float64 29kB ...\n",
       "    q_sim       (time, nbasins) float64 29kB ...\n",
       "    q_obs       (time, nbasins) float64 29kB ...\n",
       "    q_in        (time, nbasins) float64 29kB ...\n",
       "Attributes:\n",
       "    Conventions:  CF-1.6\n",
       "    featureType:  timeSeries\n",
       "    history:      Created on 2024-11-11T19:48:37 by Raven 3.7\n",
       "    description:  Standard Output\n",
       "    references:   Craig J.R. and the Raven Development Team Raven user&#x27;s and ...\n",
       "    model_id:     GR4JCN</pre><div class='xr-wrap' style='display:none'><div class='xr-header'><div class='xr-obj-type'>xarray.Dataset</div></div><ul class='xr-sections'><li class='xr-section-item'><input id='section-2709f315-c7ac-4ddc-b1a8-a6f90a12364f' class='xr-section-summary-in' type='checkbox' disabled ><label for='section-2709f315-c7ac-4ddc-b1a8-a6f90a12364f' class='xr-section-summary'  title='Expand/collapse section'>Dimensions:</label><div class='xr-section-inline-details'><ul class='xr-dim-list'><li><span class='xr-has-index'>time</span>: 3652</li><li><span>nbasins</span>: 1</li></ul></div><div class='xr-section-details'></div></li><li class='xr-section-item'><input id='section-48602db1-20c5-4b5c-9f00-d51feefa9195' class='xr-section-summary-in' type='checkbox'  checked><label for='section-48602db1-20c5-4b5c-9f00-d51feefa9195' class='xr-section-summary' >Coordinates: <span>(2)</span></label><div class='xr-section-inline-details'></div><div class='xr-section-details'><ul class='xr-var-list'><li class='xr-var-item'><div class='xr-var-name'><span class='xr-has-index'>time</span></div><div class='xr-var-dims'>(time)</div><div class='xr-var-dtype'>datetime64[ns]</div><div class='xr-var-preview xr-preview'>1990-01-01 ... 1999-12-31</div><input id='attrs-84f2a428-39a1-49a5-9485-3d70f45ac080' class='xr-var-attrs-in' type='checkbox' ><label for='attrs-84f2a428-39a1-49a5-9485-3d70f45ac080' title='Show/Hide attributes'><svg class='icon xr-icon-file-text2'><use xlink:href='#icon-file-text2'></use></svg></label><input id='data-385d2dce-7abe-4601-95cf-2ced871aa9a0' class='xr-var-data-in' type='checkbox'><label for='data-385d2dce-7abe-4601-95cf-2ced871aa9a0' title='Show/Hide data repr'><svg class='icon xr-icon-database'><use xlink:href='#icon-database'></use></svg></label><div class='xr-var-attrs'><dl class='xr-attrs'><dt><span>standard_name :</span></dt><dd>time</dd></dl></div><div class='xr-var-data'><pre>array([&#x27;1990-01-01T00:00:00.000000000&#x27;, &#x27;1990-01-02T00:00:00.000000000&#x27;,\n",
       "       &#x27;1990-01-03T00:00:00.000000000&#x27;, ..., &#x27;1999-12-29T00:00:00.000000000&#x27;,\n",
       "       &#x27;1999-12-30T00:00:00.000000000&#x27;, &#x27;1999-12-31T00:00:00.000000000&#x27;],\n",
       "      dtype=&#x27;datetime64[ns]&#x27;)</pre></div></li><li class='xr-var-item'><div class='xr-var-name'><span>basin_name</span></div><div class='xr-var-dims'>(nbasins)</div><div class='xr-var-dtype'>&lt;U7</div><div class='xr-var-preview xr-preview'>...</div><input id='attrs-0dfbedd3-6425-4ea6-9a53-794f545e8a43' class='xr-var-attrs-in' type='checkbox' ><label for='attrs-0dfbedd3-6425-4ea6-9a53-794f545e8a43' title='Show/Hide attributes'><svg class='icon xr-icon-file-text2'><use xlink:href='#icon-file-text2'></use></svg></label><input id='data-b9752a77-127a-4789-bfd1-14a764fa56f1' class='xr-var-data-in' type='checkbox'><label for='data-b9752a77-127a-4789-bfd1-14a764fa56f1' title='Show/Hide data repr'><svg class='icon xr-icon-database'><use xlink:href='#icon-database'></use></svg></label><div class='xr-var-attrs'><dl class='xr-attrs'><dt><span>long_name :</span></dt><dd>Name/ID of sub-basins with simulated outflows</dd><dt><span>cf_role :</span></dt><dd>timeseries_id</dd><dt><span>units :</span></dt><dd>1</dd></dl></div><div class='xr-var-data'><pre>[1 values with dtype=&lt;U7]</pre></div></li></ul></div></li><li class='xr-section-item'><input id='section-533bd0c7-b4aa-4288-8e21-bb832461330f' class='xr-section-summary-in' type='checkbox'  checked><label for='section-533bd0c7-b4aa-4288-8e21-bb832461330f' class='xr-section-summary' >Data variables: <span>(4)</span></label><div class='xr-section-inline-details'></div><div class='xr-section-details'><ul class='xr-var-list'><li class='xr-var-item'><div class='xr-var-name'><span>precip</span></div><div class='xr-var-dims'>(time)</div><div class='xr-var-dtype'>float64</div><div class='xr-var-preview xr-preview'>...</div><input id='attrs-47246d6b-958b-4820-94a0-a8ef30546d32' class='xr-var-attrs-in' type='checkbox' ><label for='attrs-47246d6b-958b-4820-94a0-a8ef30546d32' title='Show/Hide attributes'><svg class='icon xr-icon-file-text2'><use xlink:href='#icon-file-text2'></use></svg></label><input id='data-cf465197-c7dd-40c9-ac31-1cdf4a09c6d4' class='xr-var-data-in' type='checkbox'><label for='data-cf465197-c7dd-40c9-ac31-1cdf4a09c6d4' title='Show/Hide data repr'><svg class='icon xr-icon-database'><use xlink:href='#icon-database'></use></svg></label><div class='xr-var-attrs'><dl class='xr-attrs'><dt><span>units :</span></dt><dd>mm d**-1</dd><dt><span>long_name :</span></dt><dd>Precipitation</dd></dl></div><div class='xr-var-data'><pre>[3652 values with dtype=float64]</pre></div></li><li class='xr-var-item'><div class='xr-var-name'><span>q_sim</span></div><div class='xr-var-dims'>(time, nbasins)</div><div class='xr-var-dtype'>float64</div><div class='xr-var-preview xr-preview'>...</div><input id='attrs-59f961fc-45c7-4d1e-aa9b-7cf4d655d8db' class='xr-var-attrs-in' type='checkbox' ><label for='attrs-59f961fc-45c7-4d1e-aa9b-7cf4d655d8db' title='Show/Hide attributes'><svg class='icon xr-icon-file-text2'><use xlink:href='#icon-file-text2'></use></svg></label><input id='data-831b36d9-2a2b-4723-8714-a7a3d06f2426' class='xr-var-data-in' type='checkbox'><label for='data-831b36d9-2a2b-4723-8714-a7a3d06f2426' title='Show/Hide data repr'><svg class='icon xr-icon-database'><use xlink:href='#icon-database'></use></svg></label><div class='xr-var-attrs'><dl class='xr-attrs'><dt><span>units :</span></dt><dd>m**3 s**-1</dd><dt><span>long_name :</span></dt><dd>Simulated outflows</dd></dl></div><div class='xr-var-data'><pre>[3652 values with dtype=float64]</pre></div></li><li class='xr-var-item'><div class='xr-var-name'><span>q_obs</span></div><div class='xr-var-dims'>(time, nbasins)</div><div class='xr-var-dtype'>float64</div><div class='xr-var-preview xr-preview'>...</div><input id='attrs-1e05dea6-97b4-404e-a301-ec46054e3858' class='xr-var-attrs-in' type='checkbox' ><label for='attrs-1e05dea6-97b4-404e-a301-ec46054e3858' title='Show/Hide attributes'><svg class='icon xr-icon-file-text2'><use xlink:href='#icon-file-text2'></use></svg></label><input id='data-2fe83a23-814b-43ec-9d21-92e76025bcb3' class='xr-var-data-in' type='checkbox'><label for='data-2fe83a23-814b-43ec-9d21-92e76025bcb3' title='Show/Hide data repr'><svg class='icon xr-icon-database'><use xlink:href='#icon-database'></use></svg></label><div class='xr-var-attrs'><dl class='xr-attrs'><dt><span>units :</span></dt><dd>m**3 s**-1</dd><dt><span>long_name :</span></dt><dd>Observed outflows</dd></dl></div><div class='xr-var-data'><pre>[3652 values with dtype=float64]</pre></div></li><li class='xr-var-item'><div class='xr-var-name'><span>q_in</span></div><div class='xr-var-dims'>(time, nbasins)</div><div class='xr-var-dtype'>float64</div><div class='xr-var-preview xr-preview'>...</div><input id='attrs-1278a89c-ec0f-4603-821d-95d7d00704f5' class='xr-var-attrs-in' type='checkbox' ><label for='attrs-1278a89c-ec0f-4603-821d-95d7d00704f5' title='Show/Hide attributes'><svg class='icon xr-icon-file-text2'><use xlink:href='#icon-file-text2'></use></svg></label><input id='data-d99a7a76-b8b5-4eec-9750-110efe2bd48d' class='xr-var-data-in' type='checkbox'><label for='data-d99a7a76-b8b5-4eec-9750-110efe2bd48d' title='Show/Hide data repr'><svg class='icon xr-icon-database'><use xlink:href='#icon-database'></use></svg></label><div class='xr-var-attrs'><dl class='xr-attrs'><dt><span>units :</span></dt><dd>m**3 s**-1</dd><dt><span>long_name :</span></dt><dd>Simulated reservoir inflows</dd></dl></div><div class='xr-var-data'><pre>[3652 values with dtype=float64]</pre></div></li></ul></div></li><li class='xr-section-item'><input id='section-739c2726-6d18-4b0a-acb2-221d4693ee4b' class='xr-section-summary-in' type='checkbox'  ><label for='section-739c2726-6d18-4b0a-acb2-221d4693ee4b' class='xr-section-summary' >Indexes: <span>(1)</span></label><div class='xr-section-inline-details'></div><div class='xr-section-details'><ul class='xr-var-list'><li class='xr-var-item'><div class='xr-index-name'><div>time</div></div><div class='xr-index-preview'>PandasIndex</div><div></div><input id='index-ca996f78-8b64-49b4-893b-34bb93520c2a' class='xr-index-data-in' type='checkbox'/><label for='index-ca996f78-8b64-49b4-893b-34bb93520c2a' title='Show/Hide index repr'><svg class='icon xr-icon-database'><use xlink:href='#icon-database'></use></svg></label><div class='xr-index-data'><pre>PandasIndex(DatetimeIndex([&#x27;1990-01-01&#x27;, &#x27;1990-01-02&#x27;, &#x27;1990-01-03&#x27;, &#x27;1990-01-04&#x27;,\n",
       "               &#x27;1990-01-05&#x27;, &#x27;1990-01-06&#x27;, &#x27;1990-01-07&#x27;, &#x27;1990-01-08&#x27;,\n",
       "               &#x27;1990-01-09&#x27;, &#x27;1990-01-10&#x27;,\n",
       "               ...\n",
       "               &#x27;1999-12-22&#x27;, &#x27;1999-12-23&#x27;, &#x27;1999-12-24&#x27;, &#x27;1999-12-25&#x27;,\n",
       "               &#x27;1999-12-26&#x27;, &#x27;1999-12-27&#x27;, &#x27;1999-12-28&#x27;, &#x27;1999-12-29&#x27;,\n",
       "               &#x27;1999-12-30&#x27;, &#x27;1999-12-31&#x27;],\n",
       "              dtype=&#x27;datetime64[ns]&#x27;, name=&#x27;time&#x27;, length=3652, freq=None))</pre></div></li></ul></div></li><li class='xr-section-item'><input id='section-57f42311-e861-49c6-8093-198595584882' class='xr-section-summary-in' type='checkbox'  checked><label for='section-57f42311-e861-49c6-8093-198595584882' class='xr-section-summary' >Attributes: <span>(6)</span></label><div class='xr-section-inline-details'></div><div class='xr-section-details'><dl class='xr-attrs'><dt><span>Conventions :</span></dt><dd>CF-1.6</dd><dt><span>featureType :</span></dt><dd>timeSeries</dd><dt><span>history :</span></dt><dd>Created on 2024-11-11T19:48:37 by Raven 3.7</dd><dt><span>description :</span></dt><dd>Standard Output</dd><dt><span>references :</span></dt><dd>Craig J.R. and the Raven Development Team Raven user&#x27;s and developer&#x27;s manual (Version 3.7) URL: http://raven.uwaterloo.ca/ (2023).</dd><dt><span>model_id :</span></dt><dd>GR4JCN</dd></dl></div></li></ul></div></div>"
      ],
      "text/plain": [
       "<xarray.Dataset> Size: 146kB\n",
       "Dimensions:     (time: 3652, nbasins: 1)\n",
       "Coordinates:\n",
       "  * time        (time) datetime64[ns] 29kB 1990-01-01 1990-01-02 ... 1999-12-31\n",
       "    basin_name  (nbasins) <U7 28B ...\n",
       "Dimensions without coordinates: nbasins\n",
       "Data variables:\n",
       "    precip      (time) float64 29kB ...\n",
       "    q_sim       (time, nbasins) float64 29kB ...\n",
       "    q_obs       (time, nbasins) float64 29kB ...\n",
       "    q_in        (time, nbasins) float64 29kB ...\n",
       "Attributes:\n",
       "    Conventions:  CF-1.6\n",
       "    featureType:  timeSeries\n",
       "    history:      Created on 2024-11-11T19:48:37 by Raven 3.7\n",
       "    description:  Standard Output\n",
       "    references:   Craig J.R. and the Raven Development Team Raven user's and ...\n",
       "    model_id:     GR4JCN"
      ]
     },
     "execution_count": 6,
     "metadata": {},
     "output_type": "execute_result"
    }
   ],
   "source": [
    "model_config.params = list(optimized_parameters)\n",
    "model_config.suppress_output = False\n",
    "\n",
    "emulator = ravenpy.Emulator(model_config)\n",
    "out = emulator.run()\n",
    "out.hydrograph"
   ]
  }
 ],
 "metadata": {
  "kernelspec": {
   "display_name": "birdy",
   "language": "python",
   "name": "birdy"
  },
  "language_info": {
   "codemirror_mode": {
    "name": "ipython",
    "version": 3
   },
   "file_extension": ".py",
   "mimetype": "text/x-python",
   "name": "python",
   "nbconvert_exporter": "python",
   "pygments_lexer": "ipython3",
   "version": "3.11.10"
  }
 },
 "nbformat": 4,
 "nbformat_minor": 5
}
